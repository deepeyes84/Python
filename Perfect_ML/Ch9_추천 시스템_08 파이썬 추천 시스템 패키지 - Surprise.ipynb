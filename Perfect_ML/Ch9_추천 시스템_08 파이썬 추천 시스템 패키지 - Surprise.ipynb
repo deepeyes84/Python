{
 "cells": [
  {
   "cell_type": "markdown",
   "id": "c2dc653e",
   "metadata": {},
   "source": [
    "## 08 파이썬 추천 시스템 패키지 - Surprise"
   ]
  },
  {
   "cell_type": "code",
   "execution_count": 1,
   "id": "008180a5",
   "metadata": {},
   "outputs": [],
   "source": [
    "# 추천 시스템은 상업적으로 가치가 크기 때문에 별도의 패키지로 제공되면 매우 활용도가 높을 것이다.\n",
    "# 이번에는 파이썬 기반의 추천 시스템 구축을 위한 전용 패키지 중의 하나인 Surprise를 이용해보자."
   ]
  },
  {
   "cell_type": "code",
   "execution_count": 2,
   "id": "fb1d7d6d",
   "metadata": {},
   "outputs": [
    {
     "name": "stdout",
     "output_type": "stream",
     "text": [
      "1.1.3\n"
     ]
    }
   ],
   "source": [
    "import surprise\n",
    "\n",
    "print(surprise.__version__)"
   ]
  },
  {
   "cell_type": "markdown",
   "id": "ffcdcf6d",
   "metadata": {},
   "source": [
    "### Surprise를 이용한 추천 시스템 구축 "
   ]
  },
  {
   "cell_type": "code",
   "execution_count": 3,
   "id": "a3db01f0",
   "metadata": {},
   "outputs": [],
   "source": [
    "from surprise import SVD\n",
    "from surprise import Dataset\n",
    "from surprise import accuracy\n",
    "from surprise.model_selection import train_test_split"
   ]
  },
  {
   "cell_type": "code",
   "execution_count": 4,
   "id": "03363516",
   "metadata": {},
   "outputs": [
    {
     "name": "stdout",
     "output_type": "stream",
     "text": [
      "Dataset ml-100k could not be found. Do you want to download it? [Y/n] Y\n",
      "Trying to download dataset from https://files.grouplens.org/datasets/movielens/ml-100k.zip...\n",
      "Done! Dataset ml-100k has been saved to /Users/adam/.surprise_data/ml-100k\n"
     ]
    }
   ],
   "source": [
    "data = Dataset.load_builtin('ml-100k')\n",
    "\n",
    "# 수행 시마다 동일하게 데이터를 분할하기 위해 random_state 값 부여\n",
    "trainset, testset = train_test_split(data, test_size=.25, random_state=0)"
   ]
  },
  {
   "cell_type": "code",
   "execution_count": 5,
   "id": "748abb15",
   "metadata": {},
   "outputs": [],
   "source": [
    "# Surprise에 사용자-아이템 평점 데이터를 적용할 때 주의해야 할 점은 무비렌즈 사이트에서 내려받은 데이터 파일과 동일하게\n",
    "# 로우 레벨의 사용자-아이템 평점 데이터를 그대로 적용해야 한다는 것이다.\n",
    "\n",
    "# Surprise는 자체적으로 로우 레벨의 데이터를 컬럼 레벨의 데이터로 변경하므로 원본인 로우 레벨의 사용자-아이템 데이터를\n",
    "# 데이터 세트로 적용해야 한다."
   ]
  },
  {
   "cell_type": "code",
   "execution_count": 6,
   "id": "080c89b3",
   "metadata": {},
   "outputs": [
    {
     "data": {
      "text/plain": [
       "<surprise.prediction_algorithms.matrix_factorization.SVD at 0x111874fa0>"
      ]
     },
     "execution_count": 6,
     "metadata": {},
     "output_type": "execute_result"
    }
   ],
   "source": [
    "algo = SVD()\n",
    "algo.fit(trainset)"
   ]
  },
  {
   "cell_type": "code",
   "execution_count": 7,
   "id": "407ae009",
   "metadata": {},
   "outputs": [
    {
     "name": "stdout",
     "output_type": "stream",
     "text": [
      "prediction type: <class 'list'> size: 25000\n",
      "prediction 결과의 최초 5개 추출\n"
     ]
    },
    {
     "data": {
      "text/plain": [
       "[Prediction(uid='120', iid='282', r_ui=4.0, est=3.8084581197757266, details={'was_impossible': False}),\n",
       " Prediction(uid='882', iid='291', r_ui=4.0, est=3.8728735821531353, details={'was_impossible': False}),\n",
       " Prediction(uid='535', iid='507', r_ui=5.0, est=4.166916445426095, details={'was_impossible': False}),\n",
       " Prediction(uid='697', iid='244', r_ui=5.0, est=3.5622690607201055, details={'was_impossible': False}),\n",
       " Prediction(uid='751', iid='385', r_ui=4.0, est=3.4222043943781792, details={'was_impossible': False})]"
      ]
     },
     "execution_count": 7,
     "metadata": {},
     "output_type": "execute_result"
    }
   ],
   "source": [
    "# 학습된 추천 알고리즘을 기반으로 테스트 데이터 세트에 대해 추천을 수행한다.\n",
    "\n",
    "predictions = algo.test(testset)\n",
    "print('prediction type:', type(predictions), 'size:', len(predictions))\n",
    "print('prediction 결과의 최초 5개 추출')\n",
    "predictions[:5]"
   ]
  },
  {
   "cell_type": "code",
   "execution_count": 8,
   "id": "9183e49f",
   "metadata": {},
   "outputs": [],
   "source": [
    "# 'was_impossible'이 True이면 예측값을 생성할 수 없는 데이터라는 의미이다."
   ]
  },
  {
   "cell_type": "code",
   "execution_count": 9,
   "id": "0645c698",
   "metadata": {},
   "outputs": [
    {
     "data": {
      "text/plain": [
       "[('120', '282', 3.8084581197757266),\n",
       " ('882', '291', 3.8728735821531353),\n",
       " ('535', '507', 4.166916445426095)]"
      ]
     },
     "execution_count": 9,
     "metadata": {},
     "output_type": "execute_result"
    }
   ],
   "source": [
    "[ (pred.uid, pred.iid, pred.est) for pred in predictions[:3] ]"
   ]
  },
  {
   "cell_type": "code",
   "execution_count": 10,
   "id": "a77192a4",
   "metadata": {},
   "outputs": [
    {
     "name": "stdout",
     "output_type": "stream",
     "text": [
      "user: 196        item: 302        r_ui = None   est = 4.30   {'was_impossible': False}\n"
     ]
    }
   ],
   "source": [
    "# 이번에는 Surprise의 다른 추천 예측 메서드인 predict()를 이용해 추천 예측을 해보자.\n",
    "\n",
    "# 사용자 아이디, 아이템 아이디는 문자여롤 입력해야 함.\n",
    "uid = str(196)\n",
    "iid = str(302)\n",
    "pred = algo.predict(uid, iid)\n",
    "print(pred)"
   ]
  },
  {
   "cell_type": "code",
   "execution_count": 11,
   "id": "bcbfa5fa",
   "metadata": {},
   "outputs": [],
   "source": [
    "# 결과처럼 predict()는 개별 사용자와 아이템 정보를 입력하면 추천 예측 평점을 est로 반환한다.\n",
    "\n",
    "# 테스트 데이터 세트를 이용해 추천 예측 평점과 실제 평점과의 차이를 평가해보자.\n",
    "# Surprise의 accuracy 모듈은 RMSE, MSE 등의 방법으로 추천 시스템의 성능 평가 정보를 제공한다."
   ]
  },
  {
   "cell_type": "code",
   "execution_count": 14,
   "id": "6734dd90",
   "metadata": {},
   "outputs": [
    {
     "name": "stdout",
     "output_type": "stream",
     "text": [
      "RMSE: 0.9492\n"
     ]
    },
    {
     "data": {
      "text/plain": [
       "0.9492082894616816"
      ]
     },
     "execution_count": 14,
     "metadata": {},
     "output_type": "execute_result"
    }
   ],
   "source": [
    "accuracy.rmse(predictions)"
   ]
  },
  {
   "cell_type": "code",
   "execution_count": 15,
   "id": "7965fd0b",
   "metadata": {},
   "outputs": [],
   "source": [
    "# 이처럼 Surprise 패키지를 이용하면 쉽게 추천 시스템을 구현할 수 있다."
   ]
  },
  {
   "cell_type": "markdown",
   "id": "14632bae",
   "metadata": {},
   "source": [
    "### Surprise 주요 모듈 소개 "
   ]
  },
  {
   "cell_type": "markdown",
   "id": "4b22a603",
   "metadata": {},
   "source": [
    "#### Dataset "
   ]
  },
  {
   "cell_type": "code",
   "execution_count": 16,
   "id": "1da514e0",
   "metadata": {},
   "outputs": [],
   "source": [
    "# Surprise는 user_id(사용자 아이디), item_id(아이템 아이디), rating(평점) 데이터가 로우 레벨로 된 데이터 세트에만 적용할 수 있다.\n",
    "# 일반 데이터 파일이나 판다스 DataFrame에서도 로딩을 할 수 있지만, 데이터 세트의 컬럼 순서가 사용자 아이디, 아이템 아이디, 평점 순으로\n",
    "# 반드시 되어 있어야 한다. 4번째 컬럼부터는 로딩 자체를 수행하지 않는다."
   ]
  },
  {
   "cell_type": "markdown",
   "id": "00c4f4d9",
   "metadata": {},
   "source": [
    "#### OS 파엘 데이터를 Surprise 데이터 세트로 로딩"
   ]
  },
  {
   "cell_type": "code",
   "execution_count": 17,
   "id": "31581e91",
   "metadata": {},
   "outputs": [],
   "source": [
    "# Surprise에 OS 파일을 로딩할 때 주의할 점은 로딩 되는 데이터 파일에 컬럼명을 가지는 헤더 문자열이 있어서는 안된다는 것이다.\n",
    "# 판다스 DataFramedml to_csv() 함수를 이용해 간단하게 이 컬럼의 헤더를 삭제하고 새로운 파일인 ratings_noh.csv로 저장한다."
   ]
  },
  {
   "cell_type": "code",
   "execution_count": 18,
   "id": "e195a4b1",
   "metadata": {},
   "outputs": [],
   "source": [
    "import pandas as pd\n",
    "\n",
    "ratings = pd.read_csv('/Users/adam/Data_Analytics/Python/Datasets/ml-latest-small/ratings.csv')\n",
    "\n",
    "# ratings_noh.csv 파일로 언로드시 인덱스와 헤더를 모두 제거한 새로운 파일 생성.\n",
    "ratings.to_csv('/Users/adam/Data_Analytics/Python/Datasets/ml-latest-small/ratings_noh.csv', index=False, header=False)"
   ]
  },
  {
   "cell_type": "code",
   "execution_count": 19,
   "id": "81f99b03",
   "metadata": {},
   "outputs": [],
   "source": [
    "# 새롭게 생성된 ratings_noh.csv 파일은 tarings.csv 파일에서 헤더가 삭제된 파일이다."
   ]
  },
  {
   "cell_type": "code",
   "execution_count": 21,
   "id": "f8f3dfd0",
   "metadata": {},
   "outputs": [],
   "source": [
    "from surprise import Reader\n",
    "\n",
    "reader = Reader(line_format='user item rating timestamp', sep=',', rating_scale=(0.5, 5))\n",
    "data=Dataset.load_from_file('/Users/adam/Data_Analytics/Python/Datasets/ml-latest-small/ratings_noh.csv', reader=reader)"
   ]
  },
  {
   "cell_type": "code",
   "execution_count": 22,
   "id": "e6967401",
   "metadata": {},
   "outputs": [],
   "source": [
    "# Surprise 데이터 세트는 기본적으로 무비렌즈 데이터 형식을 따르므로 무비렌즈 데이터 형식이 아닌 다른 OS 파일의 경우\n",
    "# Reader 클래스를 먼저 설정해야 한다."
   ]
  },
  {
   "cell_type": "code",
   "execution_count": 25,
   "id": "ddc4b1e8",
   "metadata": {},
   "outputs": [
    {
     "name": "stdout",
     "output_type": "stream",
     "text": [
      "RMSE: 0.8682\n"
     ]
    },
    {
     "data": {
      "text/plain": [
       "0.8681952927143516"
      ]
     },
     "execution_count": 25,
     "metadata": {},
     "output_type": "execute_result"
    }
   ],
   "source": [
    "trainset, testset = train_test_split(data, test_size=.25, random_state=0)\n",
    "\n",
    "# 수행시 마다 동일한 결과를 위해 random_state 설정\n",
    "algo = SVD(n_factors=50, random_state=0)\n",
    "\n",
    "# 학습 데이터 세트로 학습 후 테스트 데이터 세트로 평점 예측 후 RMSE 평가\n",
    "algo.fit(trainset)\n",
    "predictions = algo.test( testset )\n",
    "accuracy.rmse(predictions)"
   ]
  },
  {
   "cell_type": "markdown",
   "id": "451f3d28",
   "metadata": {},
   "source": [
    "#### 판다스 DataFrame에서 Surprise 데이터 세트로 로딩"
   ]
  },
  {
   "cell_type": "code",
   "execution_count": 26,
   "id": "4aef4ffd",
   "metadata": {},
   "outputs": [],
   "source": [
    "# 판다스 DataFrame 역시 사용자 아이디, 아이템 아이디, 평점 컬럼 순서를 지켜야 한다.\n",
    "# DataFrame으로 로딩한 ratings에서 Surprise 데이터 세트로 로딩하려면\n",
    "# Dataset.load_from_df(ratings[['userId','movieId','rating']].reader)와 같이 파라미터를 입력하면 된다."
   ]
  },
  {
   "cell_type": "code",
   "execution_count": 30,
   "id": "c9d3f9f4",
   "metadata": {},
   "outputs": [
    {
     "name": "stdout",
     "output_type": "stream",
     "text": [
      "RMSE: 0.8682\n"
     ]
    },
    {
     "data": {
      "text/plain": [
       "0.8681952927143516"
      ]
     },
     "execution_count": 30,
     "metadata": {},
     "output_type": "execute_result"
    }
   ],
   "source": [
    "import pandas as pd\n",
    "from surprise import Reader, Dataset\n",
    "\n",
    "ratings = pd.read_csv('/Users/adam/Data_Analytics/Python/Datasets/ml-latest-small/ratings.csv')\n",
    "reader = Reader(rating_scale=(0.5, 5.0))\n",
    "\n",
    "# ratings DataFrame 에서 컬럼은 사용자 아이디, 아이템 아이디, 평점 순서를 지켜야 한다.\n",
    "data = Dataset.load_from_df(ratings[['userId','movieId','rating']], reader)\n",
    "trainset, testset = train_test_split(data, test_size=.25, random_state=0)\n",
    "\n",
    "algo = SVD(n_factors=50, random_state=0)\n",
    "algo.fit(trainset)\n",
    "predictions = algo.test( testset )\n",
    "accuracy.rmse(predictions)"
   ]
  },
  {
   "cell_type": "markdown",
   "id": "6cfa4540",
   "metadata": {},
   "source": [
    "### 베이스라인 평점 "
   ]
  },
  {
   "cell_type": "code",
   "execution_count": 32,
   "id": "bf00d82b",
   "metadata": {},
   "outputs": [],
   "source": [
    "# 영화나 상품의 평가도 각 개인의 성향에 따라 같은 아이템이라도 평가가 달라질 수 있다.\n",
    "# 싫은 소리를 별로 안하는 사람의 경우는 전반적으로 평가에 후한 경향이 있다.\n",
    "# 반면에 다른 이를 생각해서라도 냉정한 평가를 해야 한다고 생각하는 사람도 있다.\n",
    "# 이러한 개인의 성향을 반영해 아이템 평가에 편향성(bias) 요소를 반영하여 평점을 부과하는 것을 베이스라인 평점(Baseline Rating)이라고 한다.\n",
    "\n",
    "# 보통 베이스라인 평점은 전체 평균 평점 + 사용자 편향 점수 + 아이템 평향 점수 공식으로 계산된다.\n",
    "# * 전체 평균 평점 = 모든 사용자의 아이템에 대한 평점을 평균한 값\n",
    "# * 사용자 편향 점수 = 사용자별 아이템 평점 평균 값 - 전체 평균 평점\n",
    "# * 아이템 편향 점수 = 아이템별 평점 평균 값 - 전체 평균 평점\n",
    "\n",
    "# 예) 모든 사용자의 평균 영화 평점: 3.5, 깐깐한 영화 매니아 사용자의 평균 평점: 3.0, 어벤저스 3편 평균 평점 4.2\n",
    "# 3.5 + (3.0-3.50=0.5) + (4.2-3.5=0.7) = 3.7"
   ]
  },
  {
   "cell_type": "markdown",
   "id": "41a5768e",
   "metadata": {},
   "source": [
    "### 교차 검증과 하이퍼 파라미터 튜닝 "
   ]
  },
  {
   "cell_type": "code",
   "execution_count": 36,
   "id": "70ab56dc",
   "metadata": {},
   "outputs": [
    {
     "name": "stdout",
     "output_type": "stream",
     "text": [
      "Evaluating RMSE, MAE of algorithm SVD on 5 split(s).\n",
      "\n",
      "                  Fold 1  Fold 2  Fold 3  Fold 4  Fold 5  Mean    Std     \n",
      "RMSE (testset)    0.8731  0.8782  0.8642  0.8727  0.8784  0.8733  0.0052  \n",
      "MAE (testset)     0.6705  0.6736  0.6666  0.6696  0.6771  0.6715  0.0036  \n",
      "Fit time          0.60    0.59    0.60    0.60    0.61    0.60    0.01    \n",
      "Test time         0.07    0.16    0.07    0.07    0.07    0.09    0.04    \n"
     ]
    },
    {
     "data": {
      "text/plain": [
       "{'test_rmse': array([0.87312823, 0.87823223, 0.86416387, 0.87272927, 0.87835783]),\n",
       " 'test_mae': array([0.67053055, 0.67363746, 0.66659419, 0.66958531, 0.67705995]),\n",
       " 'fit_time': (0.5976829528808594,\n",
       "  0.5946669578552246,\n",
       "  0.5977551937103271,\n",
       "  0.5956947803497314,\n",
       "  0.6097660064697266),\n",
       " 'test_time': (0.06960487365722656,\n",
       "  0.1621401309967041,\n",
       "  0.07031488418579102,\n",
       "  0.07067608833312988,\n",
       "  0.07074689865112305)}"
      ]
     },
     "execution_count": 36,
     "metadata": {},
     "output_type": "execute_result"
    }
   ],
   "source": [
    "from surprise.model_selection import cross_validate\n",
    "\n",
    "# 판다스 DataFrame에서 Surprise 데이터 세트로 데이터 로딩\n",
    "ratings = pd.read_csv('/Users/adam/Data_Analytics/Python/Datasets/ml-latest-small/ratings.csv')\n",
    "reader = Reader(rating_scale = (0.5, 5.0))\n",
    "data = Dataset.load_from_df(ratings[['userId','movieId','rating']], reader)\n",
    "\n",
    "algo = SVD(random_state=0)\n",
    "cross_validate(algo, data, measures=['RMSE','MAE'], cv=5, verbose=True)"
   ]
  },
  {
   "cell_type": "code",
   "execution_count": 37,
   "id": "1a860fda",
   "metadata": {},
   "outputs": [],
   "source": [
    "# cross_validate()는 폴드별 성능 평가 수치와 전체 폴드의 평균 성능 평가 수치를 보여준다."
   ]
  },
  {
   "cell_type": "code",
   "execution_count": 38,
   "id": "15e796e6",
   "metadata": {},
   "outputs": [
    {
     "name": "stdout",
     "output_type": "stream",
     "text": [
      "0.8784168217002932\n",
      "{'n_epochs': 20, 'n_factors': 50}\n"
     ]
    }
   ],
   "source": [
    "from surprise.model_selection import GridSearchCV\n",
    "\n",
    "# 최적화할 파라미터를 딕셔너리 형태로 지정.\n",
    "param_grid = {'n_epochs': [20, 40, 60], 'n_factors':[50, 100, 200]}\n",
    "\n",
    "# CV를 3개 폴드 세트로 지정, 성능 평가는 rmse, mse로 수행하도록 GridSearchCV 구성\n",
    "gs = GridSearchCV(SVD, param_grid, measures=['rmse','mae'], cv=3)\n",
    "gs.fit(data)\n",
    "\n",
    "# 최고 RMSE Evaluation 점수와 그때의 하이퍼 파라미터\n",
    "print(gs.best_score['rmse'])\n",
    "print(gs.best_params['rmse'])"
   ]
  },
  {
   "cell_type": "markdown",
   "id": "cc6163f8",
   "metadata": {},
   "source": [
    "### Surprise를 이용한 개인화 영화 추천 시스템 구축"
   ]
  },
  {
   "cell_type": "code",
   "execution_count": 39,
   "id": "6fa51a75",
   "metadata": {},
   "outputs": [],
   "source": [
    "# Surprise를 이용해 잠재 요인 협업 필터링 기반의 개인화된 영화 추천을 구현해보자.\n",
    "\n",
    "# 이번 예제에서는 ratings.csv 데이터를 학습 데이터와 테스트 데이터로 분리하지 않고 전체를 학습 데이터로 사용한다."
   ]
  },
  {
   "cell_type": "code",
   "execution_count": 40,
   "id": "4329b9be",
   "metadata": {},
   "outputs": [
    {
     "ename": "AttributeError",
     "evalue": "'DatasetAutoFolds' object has no attribute 'n_users'",
     "output_type": "error",
     "traceback": [
      "\u001b[0;31m---------------------------------------------------------------------------\u001b[0m",
      "\u001b[0;31mAttributeError\u001b[0m                            Traceback (most recent call last)",
      "Cell \u001b[0;32mIn[40], line 4\u001b[0m\n\u001b[1;32m      2\u001b[0m data \u001b[38;5;241m=\u001b[39m Dataset\u001b[38;5;241m.\u001b[39mload_from_df(ratings[[\u001b[38;5;124m'\u001b[39m\u001b[38;5;124muserId\u001b[39m\u001b[38;5;124m'\u001b[39m,\u001b[38;5;124m'\u001b[39m\u001b[38;5;124mmovieId\u001b[39m\u001b[38;5;124m'\u001b[39m,\u001b[38;5;124m'\u001b[39m\u001b[38;5;124mrating\u001b[39m\u001b[38;5;124m'\u001b[39m]], reader)\n\u001b[1;32m      3\u001b[0m algo \u001b[38;5;241m=\u001b[39m SVD(n_factors\u001b[38;5;241m=\u001b[39m\u001b[38;5;241m50\u001b[39m, random_state\u001b[38;5;241m=\u001b[39m\u001b[38;5;241m0\u001b[39m)\n\u001b[0;32m----> 4\u001b[0m \u001b[43malgo\u001b[49m\u001b[38;5;241;43m.\u001b[39;49m\u001b[43mfit\u001b[49m\u001b[43m(\u001b[49m\u001b[43mdata\u001b[49m\u001b[43m)\u001b[49m\n",
      "File \u001b[0;32m~/anaconda3/lib/python3.10/site-packages/surprise/prediction_algorithms/matrix_factorization.pyx:155\u001b[0m, in \u001b[0;36msurprise.prediction_algorithms.matrix_factorization.SVD.fit\u001b[0;34m()\u001b[0m\n",
      "File \u001b[0;32m~/anaconda3/lib/python3.10/site-packages/surprise/prediction_algorithms/matrix_factorization.pyx:196\u001b[0m, in \u001b[0;36msurprise.prediction_algorithms.matrix_factorization.SVD.sgd\u001b[0;34m()\u001b[0m\n",
      "\u001b[0;31mAttributeError\u001b[0m: 'DatasetAutoFolds' object has no attribute 'n_users'"
     ]
    }
   ],
   "source": [
    "# 다음 코드는 train_test_split()으로 분리되지 않는 데이터 세트에 fit()을 호출해 이 처럼 오류가 발생한다.\n",
    "data = Dataset.load_from_df(ratings[['userId','movieId','rating']], reader)\n",
    "algo = SVD(n_factors=50, random_state=0)\n",
    "algo.fit(data)"
   ]
  },
  {
   "cell_type": "code",
   "execution_count": 41,
   "id": "25f2bca1",
   "metadata": {},
   "outputs": [],
   "source": [
    "# 데이터 세트 전체를 학습 데이터로 사용하려면 DatasetAutoFolds 클래스를 이용하면 된다.\n",
    "from surprise.dataset import DatasetAutoFolds\n",
    "\n",
    "reader = Reader(line_format='user item rating timestamp', sep=',', rating_scale=(0.5, 5))\n",
    "\n",
    "# DatasetAutoFolds 클래스를 ratings_noh.csv 파일 기반으로 형성.\n",
    "data_folds = DatasetAutoFolds(ratings_file='/Users/adam/Data_Analytics/Python/Datasets/ml-latest-small/ratings_noh.csv', reader=reader)\n",
    "\n",
    "# 전체 데이터를 학습 데이터로 생성함.\n",
    "trainset = data_folds.build_full_trainset()"
   ]
  },
  {
   "cell_type": "code",
   "execution_count": 42,
   "id": "5aeaf1ce",
   "metadata": {},
   "outputs": [
    {
     "data": {
      "text/plain": [
       "<surprise.prediction_algorithms.matrix_factorization.SVD at 0x126df1b70>"
      ]
     },
     "execution_count": 42,
     "metadata": {},
     "output_type": "execute_result"
    }
   ],
   "source": [
    "algo = SVD(n_epochs=20, n_factors=50, random_state=0)\n",
    "algo.fit(trainset)"
   ]
  },
  {
   "cell_type": "code",
   "execution_count": 43,
   "id": "44f7b92f",
   "metadata": {},
   "outputs": [
    {
     "name": "stdout",
     "output_type": "stream",
     "text": [
      "사용자 아이디 9는 영화 아이디 42의 평점 없음\n",
      "    movieId                   title              genres\n",
      "38       42  Dead Presidents (1995)  Action|Crime|Drama\n"
     ]
    }
   ],
   "source": [
    "# 영화에 대한 상세 속성 정보 DataFrame로딩\n",
    "movies = pd.read_csv('/Users/adam/Data_Analytics/Python/Datasets/ml-latest-small/movies.csv')\n",
    "\n",
    "# userId=9 의 movieId 데이터 추출하여 movieId=42 데이터가 있는지 확인.\n",
    "movieIds = ratings[ratings['userId']==9]['movieId']\n",
    "if movieIds[movieIds==42].count() == 0:\n",
    "    print('사용자 아이디 9는 영화 아이디 42의 평점 없음')\n",
    "\n",
    "print(movies[movies['movieId']==42])"
   ]
  },
  {
   "cell_type": "code",
   "execution_count": 44,
   "id": "7ab0489f",
   "metadata": {},
   "outputs": [
    {
     "name": "stdout",
     "output_type": "stream",
     "text": [
      "user: 9          item: 42         r_ui = None   est = 3.13   {'was_impossible': False}\n"
     ]
    }
   ],
   "source": [
    "# 학습된 SVD 객체에서 predict() 메서드 내에 userId와 movieId 값을 입력해주면 된다. (이 값은 모두 문자열 이어야 함)\n",
    "uid = str(9)\n",
    "iid = str(42)\n",
    "\n",
    "pred = algo.predict(uid, iid, verbose=True)"
   ]
  },
  {
   "cell_type": "code",
   "execution_count": 45,
   "id": "26270a69",
   "metadata": {},
   "outputs": [],
   "source": [
    "# 추천 예측 평점은 est값으로 3.13이다."
   ]
  },
  {
   "cell_type": "code",
   "execution_count": 46,
   "id": "8322dde7",
   "metadata": {},
   "outputs": [],
   "source": [
    "# 이제 사용자가 평점을 매기지 않은 전체 영화를 추출한 뒤에 예측 평점 순으로 영화를 추출해보자."
   ]
  },
  {
   "cell_type": "code",
   "execution_count": null,
   "id": "73e773a4",
   "metadata": {},
   "outputs": [],
   "source": []
  },
  {
   "cell_type": "code",
   "execution_count": 48,
   "id": "bd0cd232",
   "metadata": {},
   "outputs": [
    {
     "name": "stdout",
     "output_type": "stream",
     "text": [
      "평점 매긴 영화수: 46 추천대상 영화수: 9696 전체 영화수: 9742\n"
     ]
    }
   ],
   "source": [
    "def get_unseen_surprise(ratings, movies, userId):\n",
    "    # 입력값으로 들어온 userId에 해당하는 사용자가 평점을 매긴 모든 영화를 리스트로 생성\n",
    "    seen_movies = ratings[ratings['userId']==userId]['movieId'].tolist()\n",
    "    \n",
    "    # 모든 영화들의 movieId를 리스트로 생성.\n",
    "    total_movies = movies['movieId'].tolist()\n",
    "    \n",
    "    # 모든 영화들의 movieId 중 이미 평점을 매긴 영화의 movieId를 제외하여 리스트로 생성\n",
    "    unseen_movies = [movie for movie in total_movies if movie not in seen_movies]\n",
    "    print('평점 매긴 영화수:', len(seen_movies), '추천대상 영화수:', len(unseen_movies), \\\n",
    "        '전체 영화수:', len(total_movies))\n",
    "    \n",
    "    return unseen_movies\n",
    "\n",
    "unseen_movies = get_unseen_surprise(ratings, movies, 9)"
   ]
  },
  {
   "cell_type": "code",
   "execution_count": 51,
   "id": "6f582a01",
   "metadata": {},
   "outputs": [
    {
     "name": "stdout",
     "output_type": "stream",
     "text": [
      "평점 매긴 영화수: 46 추천대상 영화수: 9696 전체 영화수: 9742\n",
      "##### Ttop-10 추천 영화 리스트 #####\n",
      "Usual Suspects, The (1995) : 4.306302135700814\n",
      "Star Wars: Episode IV - A New Hope (1977) : 4.281663842987387\n",
      "Pulp Fiction (1994) : 4.278152632122759\n",
      "Silence of the Lambs, The (1991) : 4.226073566460876\n",
      "Godfather, The (1972) : 4.1918097904381995\n",
      "Streetcar Named Desire, A (1951) : 4.154746591122658\n",
      "Star Wars: Episode V - The Empire Strikes Back (1980) : 4.122016128534504\n",
      "Star Wars: Episode VI - Return of the Jedi (1983) : 4.108009609093436\n",
      "Goodfellas (1990) : 4.083464936588478\n",
      "Glory (1989) : 4.07887165526957\n"
     ]
    }
   ],
   "source": [
    "# 사용자 아이디 9번은 전체 9742개의 영화 중에서 46개만 평점을 매겼다.\n",
    "# 따라서 추천 대상 영화는 9696개이며, 이 중 앞에서 학습된 추천 알고리즘 클래스인 SVD를 이용해 높은 예측 평점을 가진 순으로\n",
    "# 영화를 추천 해보자.\n",
    "\n",
    "def recomm_movie_by_surprise(algo, userId, unseen_movies, top_n=10):\n",
    "    # 알고리즘 객체의 predict() 메서드를 평점이 없는 영화에 반복 수행한 후 결과를 list 객체로 저장\n",
    "    predictions = [algo.predict(str(userId), str(movieId)) for movieId in unseen_movies]\n",
    "    \n",
    "    # predictions list 객체는 surprise의 Predictions 객체를 원소로 가지고 있음.\n",
    "    # [Prediction(uid='9', iid='1', est=3.69), Prediction(uid='9', iid='2', est=2.98),,,]\n",
    "    # 이를 est 값으로 정렬하기 위해서 아래의 sortkey_est 함수로 정의함.\n",
    "    # sortkey_est 함수는 list 객체의 sort() 함수의 키 값으로 사용되어 정렬 수행.\n",
    "    def sortkey_est(pred):\n",
    "        return pred.est\n",
    "    \n",
    "    # sortkey_est() 반환값의 내림 차순으로 정렬 수행하고 top_n 개의 최상위 값 추출.\n",
    "    predictions.sort(key=sortkey_est, reverse=True)\n",
    "    top_predictions = predictions[:top_n]\n",
    "    \n",
    "    # top_n으로 추출된 영화의 정보 추출. 영화 아이디, 추천 예상 평점, 제목 추출\n",
    "    top_movie_ids = [int(pred.iid) for pred in top_predictions]\n",
    "    top_movie_rating = [pred.est for pred in top_predictions]\n",
    "    top_movie_titles = movies[movies.movieId.isin(top_movie_ids)]['title']\n",
    "    top_movie_preds = [ (id, title, rating) for id, title, rating in \\\n",
    "                       zip(top_movie_ids, top_movie_titles, top_movie_rating)]\n",
    "    \n",
    "    return top_movie_preds\n",
    "\n",
    "unseen_movies = get_unseen_surprise(ratings, movies, 9)\n",
    "top_movie_preds = recomm_movie_by_surprise(algo, 9, unseen_movies, top_n=10)\n",
    "\n",
    "print('##### Ttop-10 추천 영화 리스트 #####')\n",
    "for top_movie in top_movie_preds:\n",
    "    print(top_movie[1], \":\", top_movie[2])"
   ]
  },
  {
   "cell_type": "code",
   "execution_count": null,
   "id": "3e1f7563",
   "metadata": {},
   "outputs": [],
   "source": [
    "# 9번 아이디 사용자에게는 유주얼 세스벡트, 스타워즈, 펄프픽션 등이 주로 추천 되었다.\n",
    "# 이처럼 Surprise 패키지는 복잡한 알고리즘을 직접 구현하지 않고도 쉽고 간결한 API를 이용해 파이썬 기반에서\n",
    "# 추천 시스템을 구축할 수 있도록 해준다."
   ]
  }
 ],
 "metadata": {
  "kernelspec": {
   "display_name": "Python 3 (ipykernel)",
   "language": "python",
   "name": "python3"
  },
  "language_info": {
   "codemirror_mode": {
    "name": "ipython",
    "version": 3
   },
   "file_extension": ".py",
   "mimetype": "text/x-python",
   "name": "python",
   "nbconvert_exporter": "python",
   "pygments_lexer": "ipython3",
   "version": "3.10.8"
  }
 },
 "nbformat": 4,
 "nbformat_minor": 5
}
