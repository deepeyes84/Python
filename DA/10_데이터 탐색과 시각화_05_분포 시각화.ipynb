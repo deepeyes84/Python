{
 "cells": [
  {
   "cell_type": "markdown",
   "id": "39bd8170",
   "metadata": {},
   "source": [
    "#  10_05 분포 시각화"
   ]
  },
  {
   "cell_type": "code",
   "execution_count": null,
   "id": "8d061018",
   "metadata": {},
   "outputs": [],
   "source": [
    "# 필요 패키지 설치 및 임포트\n",
    "\n",
    "import matplotlib.pyplot as plt\n",
    "import pandas as pd\n",
    "import seaborn as sns\n",
    "import numpy as np\n",
    "import plotly.express as px\n",
    "from pywaffle import Waffle"
   ]
  },
  {
   "cell_type": "code",
   "execution_count": null,
   "id": "2f2a4b90",
   "metadata": {},
   "outputs": [],
   "source": [
    "# 데이터 불러오기\n",
    "\n",
    "df = pd.read_csv('/Users/adam/Data_Analytics/Python/Datasets/six_countries/six_countries_height_samples.csv')\n",
    "\n",
    "df.head()"
   ]
  },
  {
   "cell_type": "code",
   "execution_count": null,
   "id": "0e910a50",
   "metadata": {},
   "outputs": [],
   "source": [
    "# 기본 히스토그램 시각화\n",
    "\n",
    "# 신장 컬럼만 필터링\n",
    "df1 = df[['height_cm']]\n",
    "\n",
    "# 10cm 단위로 히스토그램 시각화\n",
    "plt.hist(df1, bins=10, label='bin=10')\n",
    "plt.legend()\n",
    "plt.show()\n",
    "\n",
    "# 그래프에 봉우리가 2개인 것은 성별에 따른 데이터의 분포가 다르기 떄문이다.\n",
    "# 이 때는 데이터를 두 개의 데이터 세트로 분리해서 히스토그램에 표현한다."
   ]
  },
  {
   "cell_type": "code",
   "execution_count": null,
   "id": "6ffd1df7",
   "metadata": {},
   "outputs": [],
   "source": [
    "# 남성 여성 히스토그램 시각화\n",
    "\n",
    "# 남성 여성 별도 데이터 세트 생성\n",
    "df1_1 = df[df['sex'].isin(['man'])]\n",
    "df1_1 = df1_1[['height_cm']]\n",
    "df1_2 = df[df['sex'].isin(['woman'])]\n",
    "df1_2 = df1_2[['height_cm']]\n",
    "\n",
    "# 10cm 단위로 남성, 여성 신장 히스토그램 시각화\n",
    "plt.hist(df1_1, color='green', alpha=0.2, bins=10, label='MAN', density=True)\n",
    "plt.hist(df1_2, color='red', alpha=0.2, bins=10, label='WOMAN', density=True)\n",
    "plt.legend()\n",
    "plt.show()\n",
    "\n",
    "# alpha 값으로 불투명도를 조정하여 겹치는 부분을 효과적으로 표현한다."
   ]
  },
  {
   "cell_type": "code",
   "execution_count": null,
   "id": "95355b32",
   "metadata": {},
   "outputs": [],
   "source": [
    "# 파이차트, 도넛차트 시각화를 위한 데이터 전처리\n",
    "df2 = df[['country','height_cm']]\n",
    "\n",
    "# 키175 이상만 추출\n",
    "df2 = df2[df.height_cm >= 175]\n",
    "df2 = df2.groupby('country').count().reset_index()\n",
    "\n",
    "df2.head(10)"
   ]
  },
  {
   "cell_type": "code",
   "execution_count": null,
   "id": "66a8694c",
   "metadata": {},
   "outputs": [],
   "source": [
    "# 파이차트 시각화\n",
    "fig = plt.figure(figsize=(8,8)) ## 캔버스 생성\n",
    "fig.set_facecolor('white') ## 캔버스 배경색 설정\n",
    "ax = fig.add_subplot() ## 프레임 생성\n",
    "\n",
    "# 파이차트 출력\n",
    "ax.pie(df2.height_cm,\n",
    "       labels=df2.country, # 라벨 출력\n",
    "       startangle=0, # 시작점 degree 설정\n",
    "       counterclock=False, # 시계 방향\n",
    "       autopct=lambda x : '{:.1f}%'.format(x) # 퍼센트 자릿수 설정\n",
    "      ) \n",
    "\n",
    "plt.legend() # 범례 표시\n",
    "plt.show()"
   ]
  },
  {
   "cell_type": "code",
   "execution_count": null,
   "id": "1644368a",
   "metadata": {},
   "outputs": [],
   "source": [
    "# 도넛차트 시각화\n",
    "\n",
    "# 차트 형태 옵션 설정\n",
    "wedgeprops={'width':0.7, 'edgecolor':'w', 'linewidth':5}\n",
    "\n",
    "plt.pie(df2.height_cm, labels=df2.country, autopct='%.1f%%',\n",
    "        startangle=90, counterclock=False, wedgeprops=wedgeprops)\n",
    "plt.show()"
   ]
  },
  {
   "cell_type": "code",
   "execution_count": null,
   "id": "8bdf8495",
   "metadata": {},
   "outputs": [],
   "source": [
    "# 트리맵 차트용 데이터 세트 전처리\n",
    "\n",
    "df3 = df[['country','sex','height_cm']]\n",
    "df3 = df3[df.height_cm >= 175]\n",
    "\n",
    "# 국가, 성별 단위 신장 175cm 이상 카운팅\n",
    "df3 = df3.groupby(['country','sex']).count().reset_index()\n",
    "\n",
    "df3.head(10)"
   ]
  },
  {
   "cell_type": "code",
   "execution_count": null,
   "id": "a77aabde",
   "metadata": {},
   "outputs": [],
   "source": [
    "# 트리맵 차트 시각화\n",
    "\n",
    "fig = px.treemap(df3,\n",
    "                 path=['sex','country'],\n",
    "                 values='height_cm',\n",
    "                 color='height_cm',\n",
    "                 color_continuous_scale='viridis')\n",
    "\n",
    "fig.show()\n",
    "\n",
    "# 트리맵 차트는 path 옵션으로 위계구조를 표현할 수 있으므로 위계 구조 순소별 컬럼을 넣어주면 된다."
   ]
  },
  {
   "cell_type": "code",
   "execution_count": null,
   "id": "bab89335",
   "metadata": {},
   "outputs": [],
   "source": [
    "# 와플차트 시각화\n",
    "\n",
    "fig = plt.figure(\n",
    "    FigureClass=Waffle,\n",
    "    plots={\n",
    "        111: {\n",
    "            'values': df2['height_cm'],\n",
    "            'labels': [\"{0} ({1})\".format(n, v) for n, v in df2['country'].items()],\n",
    "            'legend': {'loc': 'upper left', 'bbox_to_anchor': (1.05, 1), 'fontsize': 8},\n",
    "            'title': {'label': 'Waffle chart test', 'loc': 'left'}\n",
    "        }\n",
    "    },\n",
    "    rows=10,\n",
    "    figsize=(10, 10) \n",
    ")\n",
    "\n",
    "# rows 옵션을 통해 차트 형태 조정 가능하다."
   ]
  }
 ],
 "metadata": {
  "kernelspec": {
   "display_name": "Python 3 (ipykernel)",
   "language": "python",
   "name": "python3"
  },
  "language_info": {
   "codemirror_mode": {
    "name": "ipython",
    "version": 3
   },
   "file_extension": ".py",
   "mimetype": "text/x-python",
   "name": "python",
   "nbconvert_exporter": "python",
   "pygments_lexer": "ipython3",
   "version": "3.10.8"
  }
 },
 "nbformat": 4,
 "nbformat_minor": 5
}
