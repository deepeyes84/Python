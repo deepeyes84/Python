{
 "cells": [
  {
   "cell_type": "markdown",
   "id": "c856c8d7",
   "metadata": {},
   "source": [
    "# 08_05 외부 데이터 수집과 크롤링(BeautifulSoup) "
   ]
  },
  {
   "cell_type": "code",
   "execution_count": 9,
   "id": "45d5c5d6",
   "metadata": {
    "scrolled": true
   },
   "outputs": [
    {
     "name": "stdout",
     "output_type": "stream",
     "text": [
      "검색어를 입력하세요 : 블랙핑크\n",
      "1 : 블랙핑크 제니 보그 재팬 7월호 화보 인터뷰\n",
      "2 : ☆앨버블리 23년 6월, 엑소, 세븐틴, 방탄소년단, 블랙핑크도 사복에 어울리는 크롬하ㅊ 주얼리 명품 신상\n",
      "3 : 블랙핑크 제니 온몸이 다 힙해\n",
      "4 : 블랙핑크 제니, 日 매거진 커버 장식…감탄 부르는 고품격 미모\n",
      "5 : 블랙핑크 제니, 트로이 시반 허리에 손 올리고…초밀착 투샷[76회 칸영화제]\n",
      "6 : '파리의 연인' 방탄소년단 BTS 뷔-블랙핑크 제니, '공식' 열애 아닌 '공개' 열애[이슈S]\n",
      "7 : <2023 칸영화제> 베스트 드레서, 블랙핑크 ‘제니’는 뭘 입었을까?\n",
      "8 : 블랙핑크(BLACKPINK) - 2016년 8월 12일에 업뎃한 블핑이들의 팬들에게 인사(GREETING FOR BLINKS)\n",
      "9 : 블랙핑크 제니 도쿄여행 여행 파트너 모델 신현지와 촬영한 영상도 공개\n",
      "10 : 인간 푸바오 아니냐는 말 나왔다는 블랙핑크 제니 방콕&마카오 콘서트 팬직찍 인스타&콘서트 패션 옷정보...\n",
      "11 : 제니 인기 아이폰배경화면 블랙핑크 아이돌 사진 8종\n"
     ]
    }
   ],
   "source": [
    "from bs4 import BeautifulSoup\n",
    "import requests\n",
    "\n",
    "base_url = 'https://search.naver.com/search.naver?where=view&sm=tab_jum&query='\n",
    "\n",
    "keyword = input(\"검색어를 입력하세요 : \")\n",
    "\n",
    "search_url = base_url + keyword\n",
    "\n",
    "r = requests.get(search_url)\n",
    "\n",
    "soup = BeautifulSoup(r.text, \"html.parser\")\n",
    "\n",
    "items = soup.select(\".api_txt_lines.total_tit\")\n",
    "\n",
    "for e, item in enumerate(items, 1):\n",
    "    print(f\"{e} : {item.text}\")"
   ]
  },
  {
   "cell_type": "markdown",
   "id": "98505371",
   "metadata": {},
   "source": [
    "저자의 책에 있는 크롤링 코드는 현재 동작이 되지 않으므로 다른 방식으로 크롤링 하는 방법을 적용해봤다."
   ]
  }
 ],
 "metadata": {
  "kernelspec": {
   "display_name": "Python 3 (ipykernel)",
   "language": "python",
   "name": "python3"
  },
  "language_info": {
   "codemirror_mode": {
    "name": "ipython",
    "version": 3
   },
   "file_extension": ".py",
   "mimetype": "text/x-python",
   "name": "python",
   "nbconvert_exporter": "python",
   "pygments_lexer": "ipython3",
   "version": "3.10.8"
  }
 },
 "nbformat": 4,
 "nbformat_minor": 5
}
