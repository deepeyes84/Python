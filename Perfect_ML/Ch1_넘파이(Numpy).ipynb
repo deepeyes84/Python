{
 "cells": [
  {
   "cell_type": "markdown",
   "id": "cec227c6",
   "metadata": {},
   "source": [
    "# 넘파이(NumPy)"
   ]
  },
  {
   "cell_type": "code",
   "execution_count": 8,
   "id": "5803ae2f",
   "metadata": {},
   "outputs": [],
   "source": [
    "# 머신러닝의 주요 알고리즘은 선형대수와 통계 등에 기반한다.\n",
    "# 넘파이는 파이썬에서 선형대수 기반의 프로그램을 쉽게 만들 수 있도록 지원하는 대표적인 패키지이다.\n",
    "# 루프를 사용하지 않고 대량 데이터의 배열 연산을 가능하게 하므로 빠른 배열 연산 속도를 보장한다."
   ]
  },
  {
   "cell_type": "markdown",
   "id": "868e777d",
   "metadata": {},
   "source": [
    "## 넘파이 ndarray 개요"
   ]
  },
  {
   "cell_type": "code",
   "execution_count": 37,
   "id": "3535e43f",
   "metadata": {},
   "outputs": [],
   "source": [
    "# 넘파이 모듈 호출하기\n",
    "import numpy as np\n",
    "\n",
    "# 넘파이의 기반 데이터 타입은 ndarray이다.\n",
    "# ndarray를 이요해 넘파이에서 다차원 배열을 쉽게 생성하고 다양한 연산을 수행할 수 있다.\n",
    "# 넘파이 array() 함수는 파이썬의 리스트와 같은 다양한 인자를 입력 받아서 ndarray로 변환하는 기능을 수행한다.\n",
    "# 생성된 ndarray 배열의 shape 변수는 ndarray의 크기, 즉 행과 열의 수를 튜플 형태로\n",
    "# 가지고 있으며 이를 통해 ndarray 배열의 차원까지 알 수 있다."
   ]
  },
  {
   "cell_type": "code",
   "execution_count": 38,
   "id": "410c6843",
   "metadata": {},
   "outputs": [
    {
     "name": "stdout",
     "output_type": "stream",
     "text": [
      "array1 type: <class 'numpy.ndarray'>\n",
      "array1 array형태: (3,)\n",
      "array2 type: <class 'numpy.ndarray'>\n",
      "array2 array 형태: (2, 3)\n",
      "array3 type: <class 'numpy.ndarray'>\n",
      "array3 array 형태: (1, 3)\n"
     ]
    }
   ],
   "source": [
    "array1 = np.array([1, 2, 3])\n",
    "print('array1 type:', type(array1))\n",
    "print('array1 array형태:', array1.shape)\n",
    "\n",
    "array2 = np.array([[1, 2, 3,],\n",
    "                    [2, 3, 4]])\n",
    "print('array2 type:', type(array2))\n",
    "print('array2 array 형태:', array2.shape)\n",
    "\n",
    "array3 = np.array ([[1, 2, 3]])\n",
    "print('array3 type:', type(array3))\n",
    "print('array3 array 형태:', array3.shape)"
   ]
  },
  {
   "cell_type": "code",
   "execution_count": 39,
   "id": "d72b6144",
   "metadata": {},
   "outputs": [],
   "source": [
    "# np.array() 사용법은 매우 간단하다.\n",
    "# ndarray로 변환을 원하는 객체를 인자로 입력하면 ndarray를 반환한다.\n",
    "# ndarray.shape는 ndarray의 차원과 크기를 튜플(tuple) 형태로 나타내 준다.\n",
    "\n",
    "# [1,2,3]인 array1의 shape는 (3,)이다. \n",
    "# 이는 1차원 array로 3개의 데이터를 가지고 있음을 뜻한다.\n",
    "\n",
    "# [[1,2,3],[2,3,4]]인 array2의 shape는 (2,3)이다.\n",
    "# 이는 2차원 array로 2개의 로우와 3개의 칼럼으로 구성되어 2*3=6개의 데이터를 가지고 있음을 뜻한다.\n",
    "\n",
    "# [[1,2,3]]인 array3의 shape는 (1,3)이다.\n",
    "# 이는 1개의 로우와 3개의 칼럼으로 구성된 2차원 데이터를 의미한다.\n",
    "\n",
    "# 이 차이를 이해하는 것은 매우 중요하다.\n",
    "# 머신러닝 알고리즘과 데이터 세트 간의 입출력과 변환을 수행하다 보면 데이터값으로는 서로 동일하나\n",
    "# 차원이 달라서 오류가 발생하는 경우가 빈번하다.\n",
    "# 이 경우 명확히 차원의 차수를 변환하는 방법을 알아야 이런 오류를 막을 수 있다."
   ]
  },
  {
   "cell_type": "code",
   "execution_count": 40,
   "id": "873194be",
   "metadata": {},
   "outputs": [
    {
     "name": "stdout",
     "output_type": "stream",
     "text": [
      "array1:1차원, array2:2차원, array3:  2차원\n"
     ]
    }
   ],
   "source": [
    "# 각 array의 차원을 ndarray.ndim을 이용해 확인할 수 있다.\n",
    "print('array1:{:0}차원, array2:{:1}차원, array3: {:2}차원'.format(array1.ndim,\n",
    "                                                               array2.ndim, array3.ndim))"
   ]
  },
  {
   "cell_type": "code",
   "execution_count": 41,
   "id": "5c27a045",
   "metadata": {},
   "outputs": [],
   "source": [
    "# array1은 1차원, array3은 2차원임을 알 수 있다.\n",
    "# array() 함수의 인자로는 파이썬의 리스트 객체가 주로 사용된다.\n",
    "# 리스트 []는 1차원, 리스트의 리스트는 [[]]는 2차원과 같은 형대로 배열과 차원의 크기를\n",
    "# 쉽게 표현할 수 있기 때문이다."
   ]
  },
  {
   "cell_type": "code",
   "execution_count": null,
   "id": "e0ec4997",
   "metadata": {},
   "outputs": [],
   "source": []
  },
  {
   "cell_type": "code",
   "execution_count": null,
   "id": "c3b42019",
   "metadata": {},
   "outputs": [],
   "source": []
  },
  {
   "cell_type": "markdown",
   "id": "45536809",
   "metadata": {},
   "source": [
    "## ndarray의 데이터 타입"
   ]
  },
  {
   "cell_type": "code",
   "execution_count": 42,
   "id": "533b9eca",
   "metadata": {},
   "outputs": [],
   "source": [
    "# ndarray내의 데이터 값은 숫자, 문자열, 불 등이 모드 가능하다.\n",
    "# ndarray내의 데이터 타입은 그 연산의 특성상 같은 데이터 타입만 가능하다.\n",
    "# 즉, 한개의 ndarray 객체에 int와 float가 함께 있을 수 없다."
   ]
  },
  {
   "cell_type": "code",
   "execution_count": 43,
   "id": "41af997a",
   "metadata": {},
   "outputs": [
    {
     "name": "stdout",
     "output_type": "stream",
     "text": [
      "<class 'list'>\n",
      "<class 'numpy.ndarray'>\n",
      "[1 2 3] int64\n"
     ]
    }
   ],
   "source": [
    "# ndarray내의 데이터 타입은 dtype 속성으로 확인할 수 있다.\n",
    "list1 = [1, 2, 3]\n",
    "print(type(list1))\n",
    "array1 = np.array(list1)\n",
    "print(type(array1))\n",
    "print(array1, array1.dtype)"
   ]
  },
  {
   "cell_type": "code",
   "execution_count": 44,
   "id": "6ca8ce54",
   "metadata": {},
   "outputs": [],
   "source": [
    "# 서로 다른 데이터 타입을 가질 수 있는 리스트와는 다르게 ndarray 내의 데이터 타입은\n",
    "# 그 연산의 특성과 같은 데이터 타입만 가능하다고 했는데, 만약 다른 데이터 유형이 섞여 있는\n",
    "# 리스트를 ndarray로 변경하면 데이터 크기가 더 큰 데이터 타입으로 형 변환을 일괄 적용한다."
   ]
  },
  {
   "cell_type": "code",
   "execution_count": 45,
   "id": "79c2011e",
   "metadata": {},
   "outputs": [
    {
     "name": "stdout",
     "output_type": "stream",
     "text": [
      "['1' '2' 'test'] <U21\n",
      "[1. 2. 3.] <U21\n"
     ]
    }
   ],
   "source": [
    "# int형과 string형이 섞여 있는 리스트와 int형과 float형이 섞여 있는 리스트를\n",
    "# ndarray로 변경하면 데이터값의 타입이 어떻게 되는지 확인해보자.\n",
    "list2 = [1, 2, 'test']\n",
    "array2 = np.array(list2)\n",
    "print(array2, array2.dtype)\n",
    "\n",
    "list3 = [1, 2, 3.0]\n",
    "array3 = np.array(list3)\n",
    "print(array3, array2.dtype)"
   ]
  },
  {
   "cell_type": "code",
   "execution_count": 46,
   "id": "d5c8a959",
   "metadata": {},
   "outputs": [],
   "source": [
    "# ndarray 내 데이터 값의 타입 변경도 astype() 메서드를 이용할 수 있다.\n",
    "# astype()에 인자로 원하는 타입을 문자열로 지정하면 된다.\n",
    "# 데이터 타입을 변경하는 경우는 대용량 데이터의 ndarray를 만들 떄 많은 메모리가 사용되는데,\n",
    "# 메모리를 더 절약해야 할 때 보통 이용된다."
   ]
  },
  {
   "cell_type": "code",
   "execution_count": 47,
   "id": "26441740",
   "metadata": {},
   "outputs": [],
   "source": [
    "# 파이썬 기반의 머신러닝 알고리즘은 대부분 메모리로 데이터를 전체 로딩한 다음 이를 기반으로\n",
    "# 알고리즘을 적용하기 떄문에 대용량의 데이터를 로딩할 때는 수행속도가 느려지거나\n",
    "# 메모리 부족으로 오류가 발생할 수 있다."
   ]
  },
  {
   "cell_type": "code",
   "execution_count": 48,
   "id": "c947a41d",
   "metadata": {},
   "outputs": [
    {
     "name": "stdout",
     "output_type": "stream",
     "text": [
      "[1. 2. 3.] float64\n",
      "[1 2 3] int32\n",
      "[1 2 3] int32\n"
     ]
    }
   ],
   "source": [
    "array_int = np.array([1, 2, 3])\n",
    "array_float = array_int.astype('float64')\n",
    "print(array_float, array_float.dtype)\n",
    "\n",
    "array_int1 = array_float.astype('int32')\n",
    "print(array_int1, array_int1.dtype)\n",
    "\n",
    "array_float1 = np.array([1.1, 2.1, 3.1])\n",
    "array_int2 = array_float1.astype('int32')\n",
    "print(array_int2, array_int2.dtype)"
   ]
  },
  {
   "cell_type": "code",
   "execution_count": null,
   "id": "9b4520c8",
   "metadata": {},
   "outputs": [],
   "source": []
  },
  {
   "cell_type": "code",
   "execution_count": null,
   "id": "654a857c",
   "metadata": {},
   "outputs": [],
   "source": []
  },
  {
   "cell_type": "markdown",
   "id": "d508492b",
   "metadata": {},
   "source": [
    "## ndarray를 편리하게 생성하기 - arange, zeros, ones"
   ]
  },
  {
   "cell_type": "code",
   "execution_count": 49,
   "id": "ad51cfec",
   "metadata": {},
   "outputs": [],
   "source": [
    "# 특정 크기와 차원을 가진 ndarray를 연속값이나 0 또는 1로 초기화해 \n",
    "# 쉽게 생성해야 할 필요가 있는 경우가 발생할 수 있다.\n",
    "# 이 경우 arange(), zeros(), ones()를 이용해 쉽게 ndarray를 생성할 수 있다.\n",
    "# 주로 테스트용으로 데이터를 만들거나 대규모의 데이터를 일괄적으로 초기화해야 할 경우에 사용된다."
   ]
  },
  {
   "cell_type": "code",
   "execution_count": 50,
   "id": "8a7e4666",
   "metadata": {},
   "outputs": [],
   "source": [
    "# arange()는 함수 이름에서 알 수 있듯이 파이썬 표준 함수인 range()와 유사한 가능을 한다.\n",
    "# 0부터 함수 인자 값 -1 까지의 값을 순차적으로 ndarray의 데이터 값으로 변환해 준다."
   ]
  },
  {
   "cell_type": "code",
   "execution_count": 51,
   "id": "6556dc55",
   "metadata": {},
   "outputs": [
    {
     "name": "stdout",
     "output_type": "stream",
     "text": [
      "[0 1 2 3 4 5 6 7 8 9]\n",
      "int64 (10,)\n"
     ]
    }
   ],
   "source": [
    "sequence_array = np.arange(10)\n",
    "print(sequence_array)\n",
    "print(sequence_array.dtype, sequence_array.shape)"
   ]
  },
  {
   "cell_type": "code",
   "execution_count": 52,
   "id": "f27b45d5",
   "metadata": {},
   "outputs": [],
   "source": [
    "# dafault 함수 인자는 stop 값이며, 0부터 stop 값인 10에서 -1을 더한 9까지의\n",
    "# 연속 숫자 값으로 구성된 1차원 ndarray를 만들어 준다.\n",
    "# range와 유사하게 start 값도 부여해 0이 아닌 다른 값부터 시작한 연속 값으 부여할 수도 있다."
   ]
  },
  {
   "cell_type": "code",
   "execution_count": 53,
   "id": "54a0dbc7",
   "metadata": {},
   "outputs": [],
   "source": [
    "# zeros()는 함수 인자로 튜플 형태의 shape 값을 입력하면 모든 값을 0으로 채운 \n",
    "# 해당 shape를 가진 ndarray를 반환한다."
   ]
  },
  {
   "cell_type": "code",
   "execution_count": 54,
   "id": "6d4e1076",
   "metadata": {},
   "outputs": [
    {
     "name": "stdout",
     "output_type": "stream",
     "text": [
      "[[0 0]\n",
      " [0 0]\n",
      " [0 0]]\n",
      "int32 (3, 2)\n"
     ]
    }
   ],
   "source": [
    "zero_array = np.zeros((3, 2), dtype ='int32')\n",
    "print(zero_array)\n",
    "print(zero_array.dtype, zero_array.shape)"
   ]
  },
  {
   "cell_type": "code",
   "execution_count": 55,
   "id": "7bf64268",
   "metadata": {},
   "outputs": [],
   "source": [
    "# ones()는 함수 인자로 튜플 형태의 shape 값을 입력하면 모든 값을 1로 채운\n",
    "# 해당 shape를 가진 ndarray를 반환한다.\n",
    "# 함수 인자로 dtype을 정해주지 않으면 dafult로 flast64형의 데이터로 ndarray를 채운다."
   ]
  },
  {
   "cell_type": "code",
   "execution_count": 56,
   "id": "bce01c54",
   "metadata": {},
   "outputs": [
    {
     "name": "stdout",
     "output_type": "stream",
     "text": [
      "[[1. 1.]\n",
      " [1. 1.]\n",
      " [1. 1.]]\n",
      "float64 (3, 2)\n"
     ]
    }
   ],
   "source": [
    "one_array = np.ones((3,2))\n",
    "print(one_array)\n",
    "print(one_array.dtype, one_array.shape)"
   ]
  },
  {
   "cell_type": "code",
   "execution_count": null,
   "id": "c49d26e8",
   "metadata": {},
   "outputs": [],
   "source": []
  },
  {
   "cell_type": "code",
   "execution_count": null,
   "id": "20f04002",
   "metadata": {},
   "outputs": [],
   "source": []
  },
  {
   "cell_type": "markdown",
   "id": "12aa4310",
   "metadata": {},
   "source": [
    "## ndarray의 차원과 크기를 변경하는 reshape( )"
   ]
  },
  {
   "cell_type": "code",
   "execution_count": 57,
   "id": "2b0fdeed",
   "metadata": {},
   "outputs": [],
   "source": [
    "# reshape() 메서드는 ndarray를 특정 차원 및 크기로 변환한다.\n",
    "# 변환을 원하는 크기를 함수 인자로 부여하면 된다."
   ]
  },
  {
   "cell_type": "code",
   "execution_count": 58,
   "id": "f2653a42",
   "metadata": {},
   "outputs": [
    {
     "name": "stdout",
     "output_type": "stream",
     "text": [
      "array1:\n",
      " [0 1 2 3 4 5 6 7 8 9]\n"
     ]
    },
    {
     "ename": "ValueError",
     "evalue": "cannot reshape array of size 1 into shape (5,)",
     "output_type": "error",
     "traceback": [
      "\u001b[0;31m---------------------------------------------------------------------------\u001b[0m",
      "\u001b[0;31mValueError\u001b[0m                                Traceback (most recent call last)",
      "Cell \u001b[0;32mIn[58], line 5\u001b[0m\n\u001b[1;32m      2\u001b[0m array1 \u001b[38;5;241m=\u001b[39m np\u001b[38;5;241m.\u001b[39marange(\u001b[38;5;241m10\u001b[39m)\n\u001b[1;32m      3\u001b[0m \u001b[38;5;28mprint\u001b[39m(\u001b[38;5;124m'\u001b[39m\u001b[38;5;124marray1:\u001b[39m\u001b[38;5;130;01m\\n\u001b[39;00m\u001b[38;5;124m'\u001b[39m, array1)\n\u001b[0;32m----> 5\u001b[0m array2 \u001b[38;5;241m=\u001b[39m \u001b[43mnp\u001b[49m\u001b[38;5;241;43m.\u001b[39;49m\u001b[43mreshape\u001b[49m\u001b[43m(\u001b[49m\u001b[38;5;241;43m2\u001b[39;49m\u001b[43m,\u001b[49m\u001b[43m \u001b[49m\u001b[38;5;241;43m5\u001b[39;49m\u001b[43m)\u001b[49m\n\u001b[1;32m      6\u001b[0m \u001b[38;5;28mprint\u001b[39m(\u001b[38;5;124m'\u001b[39m\u001b[38;5;124marray2:\u001b[39m\u001b[38;5;130;01m\\n\u001b[39;00m\u001b[38;5;124m'\u001b[39m, array2)\n\u001b[1;32m      8\u001b[0m array3 \u001b[38;5;241m=\u001b[39m np\u001b[38;5;241m.\u001b[39mreshape(\u001b[38;5;241m5\u001b[39m, \u001b[38;5;241m2\u001b[39m)\n",
      "File \u001b[0;32m<__array_function__ internals>:180\u001b[0m, in \u001b[0;36mreshape\u001b[0;34m(*args, **kwargs)\u001b[0m\n",
      "File \u001b[0;32m~/anaconda3/lib/python3.10/site-packages/numpy/core/fromnumeric.py:298\u001b[0m, in \u001b[0;36mreshape\u001b[0;34m(a, newshape, order)\u001b[0m\n\u001b[1;32m    198\u001b[0m \u001b[38;5;129m@array_function_dispatch\u001b[39m(_reshape_dispatcher)\n\u001b[1;32m    199\u001b[0m \u001b[38;5;28;01mdef\u001b[39;00m \u001b[38;5;21mreshape\u001b[39m(a, newshape, order\u001b[38;5;241m=\u001b[39m\u001b[38;5;124m'\u001b[39m\u001b[38;5;124mC\u001b[39m\u001b[38;5;124m'\u001b[39m):\n\u001b[1;32m    200\u001b[0m     \u001b[38;5;124;03m\"\"\"\u001b[39;00m\n\u001b[1;32m    201\u001b[0m \u001b[38;5;124;03m    Gives a new shape to an array without changing its data.\u001b[39;00m\n\u001b[1;32m    202\u001b[0m \n\u001b[0;32m   (...)\u001b[0m\n\u001b[1;32m    296\u001b[0m \u001b[38;5;124;03m           [5, 6]])\u001b[39;00m\n\u001b[1;32m    297\u001b[0m \u001b[38;5;124;03m    \"\"\"\u001b[39;00m\n\u001b[0;32m--> 298\u001b[0m     \u001b[38;5;28;01mreturn\u001b[39;00m \u001b[43m_wrapfunc\u001b[49m\u001b[43m(\u001b[49m\u001b[43ma\u001b[49m\u001b[43m,\u001b[49m\u001b[43m \u001b[49m\u001b[38;5;124;43m'\u001b[39;49m\u001b[38;5;124;43mreshape\u001b[39;49m\u001b[38;5;124;43m'\u001b[39;49m\u001b[43m,\u001b[49m\u001b[43m \u001b[49m\u001b[43mnewshape\u001b[49m\u001b[43m,\u001b[49m\u001b[43m \u001b[49m\u001b[43morder\u001b[49m\u001b[38;5;241;43m=\u001b[39;49m\u001b[43morder\u001b[49m\u001b[43m)\u001b[49m\n",
      "File \u001b[0;32m~/anaconda3/lib/python3.10/site-packages/numpy/core/fromnumeric.py:54\u001b[0m, in \u001b[0;36m_wrapfunc\u001b[0;34m(obj, method, *args, **kwds)\u001b[0m\n\u001b[1;32m     52\u001b[0m bound \u001b[38;5;241m=\u001b[39m \u001b[38;5;28mgetattr\u001b[39m(obj, method, \u001b[38;5;28;01mNone\u001b[39;00m)\n\u001b[1;32m     53\u001b[0m \u001b[38;5;28;01mif\u001b[39;00m bound \u001b[38;5;129;01mis\u001b[39;00m \u001b[38;5;28;01mNone\u001b[39;00m:\n\u001b[0;32m---> 54\u001b[0m     \u001b[38;5;28;01mreturn\u001b[39;00m \u001b[43m_wrapit\u001b[49m\u001b[43m(\u001b[49m\u001b[43mobj\u001b[49m\u001b[43m,\u001b[49m\u001b[43m \u001b[49m\u001b[43mmethod\u001b[49m\u001b[43m,\u001b[49m\u001b[43m \u001b[49m\u001b[38;5;241;43m*\u001b[39;49m\u001b[43margs\u001b[49m\u001b[43m,\u001b[49m\u001b[43m \u001b[49m\u001b[38;5;241;43m*\u001b[39;49m\u001b[38;5;241;43m*\u001b[39;49m\u001b[43mkwds\u001b[49m\u001b[43m)\u001b[49m\n\u001b[1;32m     56\u001b[0m \u001b[38;5;28;01mtry\u001b[39;00m:\n\u001b[1;32m     57\u001b[0m     \u001b[38;5;28;01mreturn\u001b[39;00m bound(\u001b[38;5;241m*\u001b[39margs, \u001b[38;5;241m*\u001b[39m\u001b[38;5;241m*\u001b[39mkwds)\n",
      "File \u001b[0;32m~/anaconda3/lib/python3.10/site-packages/numpy/core/fromnumeric.py:43\u001b[0m, in \u001b[0;36m_wrapit\u001b[0;34m(obj, method, *args, **kwds)\u001b[0m\n\u001b[1;32m     41\u001b[0m \u001b[38;5;28;01mexcept\u001b[39;00m \u001b[38;5;167;01mAttributeError\u001b[39;00m:\n\u001b[1;32m     42\u001b[0m     wrap \u001b[38;5;241m=\u001b[39m \u001b[38;5;28;01mNone\u001b[39;00m\n\u001b[0;32m---> 43\u001b[0m result \u001b[38;5;241m=\u001b[39m \u001b[38;5;28;43mgetattr\u001b[39;49m\u001b[43m(\u001b[49m\u001b[43masarray\u001b[49m\u001b[43m(\u001b[49m\u001b[43mobj\u001b[49m\u001b[43m)\u001b[49m\u001b[43m,\u001b[49m\u001b[43m \u001b[49m\u001b[43mmethod\u001b[49m\u001b[43m)\u001b[49m\u001b[43m(\u001b[49m\u001b[38;5;241;43m*\u001b[39;49m\u001b[43margs\u001b[49m\u001b[43m,\u001b[49m\u001b[43m \u001b[49m\u001b[38;5;241;43m*\u001b[39;49m\u001b[38;5;241;43m*\u001b[39;49m\u001b[43mkwds\u001b[49m\u001b[43m)\u001b[49m\n\u001b[1;32m     44\u001b[0m \u001b[38;5;28;01mif\u001b[39;00m wrap:\n\u001b[1;32m     45\u001b[0m     \u001b[38;5;28;01mif\u001b[39;00m \u001b[38;5;129;01mnot\u001b[39;00m \u001b[38;5;28misinstance\u001b[39m(result, mu\u001b[38;5;241m.\u001b[39mndarray):\n",
      "\u001b[0;31mValueError\u001b[0m: cannot reshape array of size 1 into shape (5,)"
     ]
    }
   ],
   "source": [
    "# 0~9까지의 1차원 ndarray를 (2로우, 5칼럼), (5로우, 2칼럼) 형태로 2차원 ndarray로 변환하는 예제\n",
    "array1 = np.arange(10)\n",
    "print('array1:\\n', array1)\n",
    "\n",
    "array2 = np.reshape(2, 5)\n",
    "print('array2:\\n', array2)\n",
    "\n",
    "array3 = np.reshape(5, 2)\n",
    "print('array3: \\n', array3)"
   ]
  },
  {
   "cell_type": "code",
   "execution_count": 59,
   "id": "f276bdb9",
   "metadata": {},
   "outputs": [],
   "source": [
    "# reshape()를 더욱 효율적으로 사용하는 경우는 인자로 -1을 적용하는 경우일 것이다.\n",
    "# -1을 인자로 사용하면 원래 ndarray와 호환되는 새로운 shape로 변환해준다."
   ]
  },
  {
   "cell_type": "code",
   "execution_count": 60,
   "id": "78a225c3",
   "metadata": {},
   "outputs": [
    {
     "name": "stdout",
     "output_type": "stream",
     "text": [
      "[0 1 2 3 4 5 6 7 8 9]\n",
      "array2 shape: (2, 5)\n",
      "array3 shape: (5, 2)\n"
     ]
    }
   ],
   "source": [
    "# reshape()의 -1값을 인자로 적용한 경우의 예제\n",
    "array1 = np.arange(10)\n",
    "print(array1)\n",
    "\n",
    "array2 = array1.reshape(-1, 5)\n",
    "print('array2 shape:', array2.shape)\n",
    "\n",
    "array3 = array1.reshape(5, -1)\n",
    "print('array3 shape:', array3.shape)"
   ]
  },
  {
   "cell_type": "code",
   "execution_count": 62,
   "id": "e0f4ac0e",
   "metadata": {},
   "outputs": [],
   "source": [
    "# array1은 1차원 ndarray로 0~9까지의 데이터를 가지고 있다.\n",
    "# array2는 array1.reshape(-1, 5)로, 로우 인자가 -1, 칼럼 인자가 5이다.\n",
    "# 이것은 array1과 호환될 수 있는 2차원 ndarray로 변환하되, 고정된 5개의 칼럼에 맞는\n",
    "# 로우를 자동으로 새롭게 생성해 변환하라는 의미이다.\n",
    "# 즉, 10개의 1차원 데이터와 호환할 수 있는 고정된 5개 칼럼에 맞는 로우 개수는 2이므로\n",
    "# 2X5의 2차원 ndarray로 변환하는 것이다.\n",
    "\n",
    "# array1.reshape(5, -1)도 마찬가지이다.\n",
    "# 10개의 1차원 데이터와 호환할 수 있는 고정된 5개의 로우에 맞는 칼럼은 2이므로 \n",
    "# 5X2의 2차원 ndarray로 변환하는 것이다."
   ]
  },
  {
   "cell_type": "code",
   "execution_count": 63,
   "id": "84695e5a",
   "metadata": {},
   "outputs": [],
   "source": [
    "# -1을 사용하더라도 호환될 수 없는 형태는 변환할 수 없다.\n",
    "# 10개의 1차원 데이터를 고정된 4개의 칼럼을 가진 로우로는 변경할 수 없기에\n",
    "# reshape(-1, 4)는 에러가 발생한다."
   ]
  },
  {
   "cell_type": "code",
   "execution_count": 64,
   "id": "99c52f02",
   "metadata": {
    "scrolled": true
   },
   "outputs": [
    {
     "ename": "ValueError",
     "evalue": "cannot reshape array of size 10 into shape (4)",
     "output_type": "error",
     "traceback": [
      "\u001b[0;31m---------------------------------------------------------------------------\u001b[0m",
      "\u001b[0;31mValueError\u001b[0m                                Traceback (most recent call last)",
      "Cell \u001b[0;32mIn[64], line 2\u001b[0m\n\u001b[1;32m      1\u001b[0m array1 \u001b[38;5;241m=\u001b[39m np\u001b[38;5;241m.\u001b[39marange(\u001b[38;5;241m10\u001b[39m)\n\u001b[0;32m----> 2\u001b[0m array4 \u001b[38;5;241m=\u001b[39m \u001b[43marray1\u001b[49m\u001b[38;5;241;43m.\u001b[39;49m\u001b[43mreshape\u001b[49m\u001b[43m(\u001b[49m\u001b[38;5;241;43m-\u001b[39;49m\u001b[38;5;241;43m1\u001b[39;49m\u001b[43m,\u001b[49m\u001b[43m \u001b[49m\u001b[38;5;241;43m4\u001b[39;49m\u001b[43m)\u001b[49m\n",
      "\u001b[0;31mValueError\u001b[0m: cannot reshape array of size 10 into shape (4)"
     ]
    }
   ],
   "source": [
    "array1 = np.arange(10)\n",
    "array4 = array1.reshape(-1, 4)"
   ]
  },
  {
   "cell_type": "code",
   "execution_count": 65,
   "id": "5889a141",
   "metadata": {},
   "outputs": [],
   "source": [
    "# -1 인자는 reshape(-1, 1)와 같은 형대로 자주 사용된다.\n",
    "# reshape(-1, 1)은 원본 ndarray가 어떤 형태라도 2차원이고,\n",
    "# 여러 개의 로우를 가지되 반드시 1개의 칼럼을 가진 ndarray로 변환됨을 보장한다.\n",
    "# 여러 개의 넘파이 ndarray는 stack이나 concat으로 결합할 때 \n",
    "# 각각의 ndarray의 형태를 통일해 유용하게 사용된다."
   ]
  },
  {
   "cell_type": "code",
   "execution_count": 67,
   "id": "976cdd50",
   "metadata": {},
   "outputs": [
    {
     "name": "stdout",
     "output_type": "stream",
     "text": [
      "array3d:\n",
      " [[[0, 1], [2, 3]], [[4, 5], [6, 7]]]\n",
      "array5:\n",
      " [[0], [1], [2], [3], [4], [5], [6], [7]]\n",
      "array5 shape: (8, 1)\n",
      "array6:\n",
      " [[0], [1], [2], [3], [4], [5], [6], [7]]\n",
      "array6 shape: (8, 1)\n"
     ]
    }
   ],
   "source": [
    "# reshape(-1, 1)을 이용해 3차원을 2차원으로, 1차원을 2차원으로 변경하는 예제\n",
    "# tolist() 메서드를 이용해 리스트 자료형으로 변환 할 수 있다.\n",
    "array1 = np.arange(8)\n",
    "array3d = array1.reshape((2, 2, 2))\n",
    "print('array3d:\\n', array3d.tolist())\n",
    "\n",
    "# 3차원 ndarray를 2차원 ndarray로 변환\n",
    "array5 = array3d.reshape(-1, 1)\n",
    "print('array5:\\n', array5.tolist())\n",
    "print('array5 shape:', array5.shape)\n",
    "\n",
    "# 1차원 ndarray를 2차원 ndarray로 변환\n",
    "array6 = array1.reshape(-1, 1)\n",
    "print('array6:\\n', array6.tolist())\n",
    "print('array6 shape:', array6.shape)"
   ]
  },
  {
   "cell_type": "code",
   "execution_count": null,
   "id": "a9970c4f",
   "metadata": {},
   "outputs": [],
   "source": []
  },
  {
   "cell_type": "code",
   "execution_count": null,
   "id": "a1da3056",
   "metadata": {},
   "outputs": [],
   "source": []
  },
  {
   "cell_type": "markdown",
   "id": "5944209d",
   "metadata": {},
   "source": [
    "## 넘파이 ndarray의 데이터 세트 선택하기 - 인덱싱(Indexing) "
   ]
  },
  {
   "cell_type": "code",
   "execution_count": 70,
   "id": "49b2b6ff",
   "metadata": {},
   "outputs": [],
   "source": [
    "# 인덱싱의 특징\n",
    "# 1. 특정 데이터만 추출: 원하는위치의 인덱스 값을 지정하면 해당 위치의 데이터가 반환된다.\n",
    "# 2. 슬라이싱(Slicing): 슬라이싱은 연속된 인덱스 상의 ndarray를 추출하는 방식이다.\n",
    "#   ':' 기호 사이에 시작 인덱스와 종료 인덱스를 표시하면 시작 인덱스에서 종료 인덱스 -1 위치에 있는\n",
    "#   데이터의 ndarrray를 반환한다.\n",
    "#3. 팬시 인덱싱(Fency Indexing): 일정한 인덱싱 집합을 리스트 또는 ndarray 형태로 지정해\n",
    "#   해당 위치에 있는 데이터의 ndarray를 반환한다.\n",
    "#4. 불린 인덱싱(Boolean Indexing): 특정 조건에 해당하는지 여부인 True/False 값 인덱싱 집합을 기반으로\n",
    "#   True에 해당하는 인덱스 위치에 있는 데이터의 ndarray를 반환한다."
   ]
  },
  {
   "cell_type": "markdown",
   "id": "36bdac53",
   "metadata": {},
   "source": [
    "### 단일 값 추출"
   ]
  },
  {
   "cell_type": "code",
   "execution_count": 73,
   "id": "e6e6bd8d",
   "metadata": {},
   "outputs": [
    {
     "name": "stdout",
     "output_type": "stream",
     "text": [
      "array1: [1 2 3 4 5 6 7 8 9]\n",
      "value: 3\n",
      "<class 'numpy.int64'>\n"
     ]
    }
   ],
   "source": [
    "# 1부터 9까지의 1차원 ndarray생성\n",
    "array1 = np.arange(start=1, stop=10)\n",
    "print('array1:', array1)\n",
    "\n",
    "# index는 0부터 시작하므로 array1[2]는 3번째 index 위치의 데이터값을 의미\n",
    "value = array1[2]\n",
    "print('value:', value)\n",
    "print(type(value))"
   ]
  },
  {
   "cell_type": "code",
   "execution_count": 74,
   "id": "8119e391",
   "metadata": {},
   "outputs": [],
   "source": [
    "# 인덱스는 0부터 시작하므로 array1[2]는 3번째 인덱스 위치이므로 데이터 값 3을 의미한다.\n",
    "# 인덱스에 마이너스 기호를 이용하면 맨 뒤에서부터 데이터를 추출할 수 있다.\n",
    "# 인덱스 -1는 맨 뒤의 데이터 값을 의미하고, -2는 맨 뒤에서 두 번째 있는 데이터 값이다."
   ]
  },
  {
   "cell_type": "code",
   "execution_count": 77,
   "id": "467e6596",
   "metadata": {},
   "outputs": [
    {
     "name": "stdout",
     "output_type": "stream",
     "text": [
      "맨 뒤의 값: 9 맨 뒤에서 두 번째 값: 8\n"
     ]
    }
   ],
   "source": [
    "print('맨 뒤의 값:', array1[-1], '맨 뒤에서 두 번째 값:', array1[-2])"
   ]
  },
  {
   "cell_type": "code",
   "execution_count": 78,
   "id": "2a2cad71",
   "metadata": {},
   "outputs": [
    {
     "name": "stdout",
     "output_type": "stream",
     "text": [
      "array1: [9 2 3 4 5 6 7 8 0]\n"
     ]
    }
   ],
   "source": [
    "# 단일 인덱스를 이용해 ndarray 내의 데이터값도 간단히 수정 가능하다.\n",
    "array1[0] = 9\n",
    "array1[8] = 0\n",
    "print('array1:', array1)"
   ]
  },
  {
   "cell_type": "code",
   "execution_count": 79,
   "id": "a1090f8e",
   "metadata": {},
   "outputs": [],
   "source": [
    "# 1차원과 2차원 ndarray의 데이터 접근 차이는 \n",
    "# 2차원의 경우 콤마(,)로 분리된 로우와 칼럼 위치의 인덱스를 통해 접근한다."
   ]
  },
  {
   "cell_type": "code",
   "execution_count": 80,
   "id": "be2dc36e",
   "metadata": {},
   "outputs": [
    {
     "name": "stdout",
     "output_type": "stream",
     "text": [
      "[[0 1 2 3 4]\n",
      " [5 6 7 8 9]]\n",
      "(row=0, col=0 index 가리키는 값: 1\n",
      "(row=0, col=1 index 가리키는 값: 2\n",
      "(row=1, col=0 index 가리키는 값: 4\n",
      "(row=2, col=2 index 가리키는 값: 9\n"
     ]
    }
   ],
   "source": [
    "# 1차원 ndarray를 2차원의 3X3 ndarray로 변환한 후 \n",
    "# [row, col]을 이용해 2차원 ndarray에서 데이터를 추출하는 예제\n",
    "array1d = np.arange(start=1, stop=10)\n",
    "array2d = array1d.reshape(3, 3)\n",
    "print(array2)\n",
    "\n",
    "print('(row=0, col=0 index 가리키는 값:', array2d[0, 0])\n",
    "print('(row=0, col=1 index 가리키는 값:', array2d[0, 1])\n",
    "print('(row=1, col=0 index 가리키는 값:', array2d[1, 0])\n",
    "print('(row=2, col=2 index 가리키는 값:', array2d[2, 2])"
   ]
  },
  {
   "cell_type": "code",
   "execution_count": 82,
   "id": "c70a9a32",
   "metadata": {},
   "outputs": [],
   "source": [
    "# axis 0이 로우 방향 축, axis 1이 ㅏㄹ럼 방향 축임을 이해하는 것이 중요하다.\n",
    "# 축 기반의 연산에서 axis가 생략되면 axis 0을 의미한다."
   ]
  },
  {
   "cell_type": "markdown",
   "id": "c3c1842e",
   "metadata": {},
   "source": [
    "### 슬라이싱 "
   ]
  },
  {
   "cell_type": "code",
   "execution_count": 90,
   "id": "52388a85",
   "metadata": {},
   "outputs": [],
   "source": [
    "# ':' 기호를 이용해 '연속한 데이터'를 슬라이싱해서 '추출'할 수 있다.\n",
    "# 단일 데이터 값 추출을 제외하고 슬라이싱, 팬시 인덱싱, 불린 인덱싱으로 추출된 데이터는\n",
    "# 모두 ndarray 타입니다.\n",
    "# ':' 사이에 시작 인덱스와 종료 인덱스를 표시하면 시작 인덱스를 '종료 인덱스 -1'의 위치에 있는\n",
    "# 데이터의 ndarray를 반환한다."
   ]
  },
  {
   "cell_type": "code",
   "execution_count": 84,
   "id": "bb4a2e2e",
   "metadata": {},
   "outputs": [
    {
     "name": "stdout",
     "output_type": "stream",
     "text": [
      "[1 2 3]\n",
      "<class 'numpy.ndarray'>\n"
     ]
    }
   ],
   "source": [
    "array1 = np.arange(start=1, stop=10)\n",
    "array3 = array1[0:3]\n",
    "print(array3)\n",
    "print(type(array3))"
   ]
  },
  {
   "cell_type": "code",
   "execution_count": 85,
   "id": "5a6ced5c",
   "metadata": {},
   "outputs": [],
   "source": [
    "# 슬라이싱 기호인 ':' 사이의 시작, 종료 인덱스는 생략이 가능하다.\n",
    "# ':' 기호 앞의 시작 인덱스를 생략하면 자동으로 맨 처음 인덱스인 0으로 간주한다.\n",
    "# ':' 기호 뒤에 종료 인덱스를 생략하면 자동으로 맨 마지막 인덱스로 간주한다.\n",
    "# ':' 기호 앞/뒤에 시작/종료 인덱스를 생략하면 자동으로 맨 처음/맨 마지막 인덱스를 간주한다."
   ]
  },
  {
   "cell_type": "code",
   "execution_count": 86,
   "id": "bc5befb9",
   "metadata": {},
   "outputs": [
    {
     "name": "stdout",
     "output_type": "stream",
     "text": [
      "[1 2 3]\n",
      "[4 5 6 7 8 9]\n",
      "[1 2 3 4 5 6 7 8 9]\n"
     ]
    }
   ],
   "source": [
    "array1 = np.arange(start=1, stop=10)\n",
    "array4 = array1[:3]\n",
    "print(array4)\n",
    "\n",
    "array5 = array1[3:]\n",
    "print(array5)\n",
    "\n",
    "array6 = array1[:]\n",
    "print(array6)"
   ]
  },
  {
   "cell_type": "code",
   "execution_count": 89,
   "id": "10fb4215",
   "metadata": {},
   "outputs": [
    {
     "name": "stdout",
     "output_type": "stream",
     "text": [
      "array2d:\n",
      " [[1 2 3]\n",
      " [4 5 6]\n",
      " [7 8 9]]\n",
      "\n",
      "\n",
      "array2d[0:2,0:2] \n",
      " [[1 2]\n",
      " [4 5]]\n",
      "\n",
      "\n",
      "array2d[1:3,0:3] \n",
      " [[4 5 6]\n",
      " [7 8 9]]\n",
      "\n",
      "\n",
      "array2d[1:3,:] \n",
      " [[4 5 6]\n",
      " [7 8 9]]\n",
      "\n",
      "\n",
      "array2d[:,:] \n",
      " [[1 2 3]\n",
      " [4 5 6]\n",
      " [7 8 9]]\n",
      "\n",
      "\n",
      "array2d[:2,1:] \n",
      " [[2 3]\n",
      " [5 6]]\n",
      "\n",
      "\n",
      "array2d[:2,0] \n",
      " [1 4]\n"
     ]
    }
   ],
   "source": [
    "# 2차원 ndarray에서 슬라이싱으로 데이터에 접근하기.\n",
    "# 콤마(,)로 로우와 칼럼 인덱스를 지칭한다.\n",
    "array1d = np.arange(start=1, stop=10)\n",
    "array2d = array1d.reshape(3, 3)\n",
    "print('array2d:\\n', array2d)\n",
    "print('\\n')\n",
    "print('array2d[0:2,0:2] \\n', array2d[0:2, 0:2])\n",
    "print('\\n')\n",
    "print('array2d[1:3,0:3] \\n', array2d[1:3, 0:3])\n",
    "print('\\n')\n",
    "print('array2d[1:3,:] \\n', array2d[1:3, :])\n",
    "print('\\n')\n",
    "print('array2d[:,:] \\n', array2d[:, :])\n",
    "print('\\n')\n",
    "print('array2d[:2,1:] \\n', array2d[:2, 1:])\n",
    "print('\\n')\n",
    "print('array2d[:2,0] \\n', array2d[:2, 0])"
   ]
  },
  {
   "cell_type": "code",
   "execution_count": 91,
   "id": "74cc928e",
   "metadata": {},
   "outputs": [],
   "source": [
    "# 2차원 ndarray에서 뒤에 오는 인덱스를 없애면 1차원 ndarray를 반환한다.\n",
    "# 3차원 ndarray에서 뒤에 오는 인덱스를 없애면 2차원 ndarray를 반환한다."
   ]
  },
  {
   "cell_type": "code",
   "execution_count": 93,
   "id": "a739169f",
   "metadata": {},
   "outputs": [
    {
     "name": "stdout",
     "output_type": "stream",
     "text": [
      "[1 2 3]\n",
      "array2d[0] shape: (3,)\n",
      "[4 5 6]\n",
      "array2d[1] shape: (3,)\n"
     ]
    }
   ],
   "source": [
    "print(array2d[0])\n",
    "print('array2d[0] shape:', array2d[0].shape)\n",
    "print(array2d[1])\n",
    "print('array2d[1] shape:', array2d[1].shape)"
   ]
  },
  {
   "cell_type": "markdown",
   "id": "cddedb6a",
   "metadata": {},
   "source": [
    "### 팬시 인덱싱"
   ]
  },
  {
   "cell_type": "code",
   "execution_count": 94,
   "id": "a268829b",
   "metadata": {},
   "outputs": [],
   "source": [
    "# 팬시 인덱싱(Fancy Indexing)은 '리스트'나 'ndarray'로 인덱스 집합을 지정하면\n",
    "# 해당 위치의 인덱스에 해당하는 ndarray를 반환하는 인덱싱 방식이다."
   ]
  },
  {
   "cell_type": "code",
   "execution_count": 97,
   "id": "f8d5f053",
   "metadata": {},
   "outputs": [
    {
     "name": "stdout",
     "output_type": "stream",
     "text": [
      "array2d[[0, 1], 2] => [3, 6]\n",
      "array2d[[0, 1], 0:2] => [[1, 2], [4, 5]]\n",
      "array2d[0, 1]] => [[1, 2, 3], [4, 5, 6]]\n"
     ]
    }
   ],
   "source": [
    "array1d = np.arange(start=1, stop=10)\n",
    "array2d = array1d.reshape(3, 3)\n",
    "\n",
    "array3 = array2d[[0, 1], 2]\n",
    "print('array2d[[0, 1], 2] =>', array3.tolist())\n",
    "\n",
    "array4 = array2d[[0, 1], 0:2]\n",
    "print('array2d[[0, 1], 0:2] =>', array4.tolist())\n",
    "\n",
    "array5 = array2d[[0, 1]]\n",
    "print('array2d[0, 1]] =>', array5.tolist())"
   ]
  },
  {
   "cell_type": "markdown",
   "id": "03724246",
   "metadata": {},
   "source": [
    "### 불린 인덱싱"
   ]
  },
  {
   "cell_type": "code",
   "execution_count": 98,
   "id": "ee6fe526",
   "metadata": {},
   "outputs": [],
   "source": [
    "# '조건 필터링'과 '검색'을 동시에 할 수 있기 때문에자주 사용된다.\n",
    "# 불린 인덱싱은 ndarray의 인덱스를 지정하는 [ ] 내에 조건문을 그대로 적용하면 된다."
   ]
  },
  {
   "cell_type": "code",
   "execution_count": 99,
   "id": "d1b05b88",
   "metadata": {},
   "outputs": [
    {
     "name": "stdout",
     "output_type": "stream",
     "text": [
      "array1d > 5 불린 인덱싱 결과 값: [6 7 8 9]\n"
     ]
    }
   ],
   "source": [
    "array1d = np.arange(start=1, stop=10)\n",
    "# [ ] 안에 array1d > 5 Boolean indexing을 적용\n",
    "array3 = array1d[array1d > 5]\n",
    "print('array1d > 5 불린 인덱싱 결과 값:', array3)"
   ]
  },
  {
   "cell_type": "code",
   "execution_count": 100,
   "id": "86b37aff",
   "metadata": {},
   "outputs": [
    {
     "data": {
      "text/plain": [
       "array([False, False, False, False, False,  True,  True,  True,  True])"
      ]
     },
     "execution_count": 100,
     "metadata": {},
     "output_type": "execute_result"
    }
   ],
   "source": [
    "# 조건 필터링의 원리\n",
    "array1d > 5"
   ]
  },
  {
   "cell_type": "code",
   "execution_count": 101,
   "id": "0420f6c1",
   "metadata": {},
   "outputs": [],
   "source": [
    "# 조건으로 반환된 이 ndarray 객체를 인덱싱을 지정하는 [ ] 내에 입력하면 False 값은 무시하고\n",
    "# True 값이 있는 위치 인덱스 값으로 자동 변환해 해당하는 인덱스 위치의 데이터만 반환하게 된다."
   ]
  },
  {
   "cell_type": "code",
   "execution_count": 107,
   "id": "774c9adb",
   "metadata": {},
   "outputs": [
    {
     "name": "stdout",
     "output_type": "stream",
     "text": [
      "불린 인덱스로 필터링 결과: [6 7 8 9]\n"
     ]
    }
   ],
   "source": [
    "# 불린 ndarray를 만들고 이를 array1d[]내에 인덱스로 입력하면 동일한 데이터 세트가 반환된다.\n",
    "boolean_indexes = np.array([False, False, False, False, False, True, True, True, True])\n",
    "array3 = array1d[boolean_indexes]\n",
    "print('불린 인덱스로 필터링 결과:', array3)"
   ]
  },
  {
   "cell_type": "code",
   "execution_count": 108,
   "id": "cada2ba5",
   "metadata": {},
   "outputs": [
    {
     "name": "stdout",
     "output_type": "stream",
     "text": [
      "일반 인덱스로 필터링 결과: [6 7 8 9]\n"
     ]
    }
   ],
   "source": [
    "# 직접 인덱스 집합을 만들어 대입한 것과 동일하다.\n",
    "indexes = np.array([5, 6, 7, 8])\n",
    "array4 = array1d[indexes]\n",
    "print('일반 인덱스로 필터링 결과:', array4)"
   ]
  },
  {
   "cell_type": "code",
   "execution_count": null,
   "id": "73163aef",
   "metadata": {},
   "outputs": [],
   "source": []
  },
  {
   "cell_type": "code",
   "execution_count": null,
   "id": "ecbdcaa9",
   "metadata": {},
   "outputs": [],
   "source": []
  },
  {
   "cell_type": "markdown",
   "id": "a4bdbbe4",
   "metadata": {},
   "source": [
    "## 행렬의 정렬 - sort( )와 argsort( ) "
   ]
  },
  {
   "cell_type": "code",
   "execution_count": 109,
   "id": "39f261c9",
   "metadata": {},
   "outputs": [],
   "source": [
    "# 넘파이에서 행렬을 정렬하는 대표적인 방법 np.sort(), ndarray.sort()와\n",
    "# 정렬된 행렬의 인덱스를 반환하는 argsort()"
   ]
  },
  {
   "cell_type": "markdown",
   "id": "7157aad5",
   "metadata": {},
   "source": [
    "### 행렬 정렬 "
   ]
  },
  {
   "cell_type": "code",
   "execution_count": 116,
   "id": "aecf34df",
   "metadata": {},
   "outputs": [
    {
     "name": "stdout",
     "output_type": "stream",
     "text": [
      "원본 행렬: [3 1 9 5]\n"
     ]
    }
   ],
   "source": [
    "# 넘파이의 행렬 정렬은 np.sort()와 ndarray.sort() 방식이 있다.\n",
    "org_array = np.array([3, 1, 9, 5])\n",
    "print('원본 행렬:', org_array)"
   ]
  },
  {
   "cell_type": "code",
   "execution_count": 117,
   "id": "4d780e9f",
   "metadata": {},
   "outputs": [
    {
     "name": "stdout",
     "output_type": "stream",
     "text": [
      "np.sort() 호출 후 반환된 정렬 행렬: [1 3 5 9]\n",
      "np.sort() 호출 후 원본 행렬: [3 1 9 5]\n"
     ]
    }
   ],
   "source": [
    "# np.sort()는 넘파이에서 sort()를 호출하는 방식.\n",
    "# 원 행렬은 그대로 유지한 채 '정렬된 행렬'을 '반환'한다.\n",
    "\n",
    "# np.sort()로 정렬\n",
    "sort_array1 = np.sort(org_array)\n",
    "print('np.sort() 호출 후 반환된 정렬 행렬:', sort_array1)\n",
    "print('np.sort() 호출 후 원본 행렬:', org_array)"
   ]
  },
  {
   "cell_type": "code",
   "execution_count": 119,
   "id": "eeca03a3",
   "metadata": {},
   "outputs": [],
   "source": [
    "# np.sort()는 원본 행렬을 변경하지 않고 정렬된 형태로 반환했다."
   ]
  },
  {
   "cell_type": "code",
   "execution_count": 122,
   "id": "20f1b3dc",
   "metadata": {},
   "outputs": [
    {
     "name": "stdout",
     "output_type": "stream",
     "text": [
      "org_array.sort() 호출 후 반환된 행렬: None\n",
      "org_array.sort() 호출 후 원본 행렬 [1 3 5 9]\n"
     ]
    }
   ],
   "source": [
    "# ndarray.sort()는 행렬 자체에서 sort()를 호출하는 방식.\n",
    "# ndarray.sort()는 '원 행렬 자체'를 '정렬한 형태'로 '변환'하며 반환 값은 None이다.\n",
    "\n",
    "# adarray.sort()로 정렬\n",
    "sort_array2 = org_array.sort()\n",
    "print('org_array.sort() 호출 후 반환된 행렬:', sort_array2)\n",
    "print('org_array.sort() 호출 후 원본 행렬', org_array)"
   ]
  },
  {
   "cell_type": "code",
   "execution_count": 123,
   "id": "6e4ead92",
   "metadata": {},
   "outputs": [],
   "source": [
    "# ndarray.sort()는 원본 행렬 자체를 정렬한 값으로 변환했다."
   ]
  },
  {
   "cell_type": "code",
   "execution_count": 124,
   "id": "1a5fc448",
   "metadata": {},
   "outputs": [],
   "source": [
    "# np.sort()나 ndarrray.sort() 모두 기본적으로 오름차순으로 행렬 내 원소를 정렬한다.\n",
    "# 내림차순 정렬 하기 위해서는 [::-1]을 적용한다."
   ]
  },
  {
   "cell_type": "code",
   "execution_count": 126,
   "id": "498667b5",
   "metadata": {},
   "outputs": [
    {
     "name": "stdout",
     "output_type": "stream",
     "text": [
      "내림차순으로 정렬: [9 5 3 1]\n"
     ]
    }
   ],
   "source": [
    "sort_array1_desc = np.sort(org_array)[::-1]\n",
    "print('내림차순으로 정렬:', sort_array1_desc)"
   ]
  },
  {
   "cell_type": "code",
   "execution_count": 133,
   "id": "1d2a8d38",
   "metadata": {},
   "outputs": [
    {
     "name": "stdout",
     "output_type": "stream",
     "text": [
      "로우 방향으로 정렬:\n",
      " [[ 7  1]\n",
      " [ 8 12]]\n",
      "\n",
      "\n",
      "칼럼 방향으로 정렬:\n",
      " [[ 8 12]\n",
      " [ 1  7]]\n"
     ]
    }
   ],
   "source": [
    "# 행렬이 2차원 이상일 경우 axis 축 값 설정을 통해 로우 방향, 또는 칼럼 방향으로 정렬을 수행할 수 있다.\n",
    "array2d = np.array([[8, 12],\n",
    "                   [7, 1]])\n",
    "\n",
    "sort_array2d_axis0 = np.sort(array2d, axis=0)\n",
    "print('로우 방향으로 정렬:\\n', sort_array2d_axis0)\n",
    "print('\\n')\n",
    "sort_array2d_axis1 = np.sort(array2d, axis=1)\n",
    "print('칼럼 방향으로 정렬:\\n', sort_array2d_axis1)"
   ]
  },
  {
   "cell_type": "markdown",
   "id": "b97c70e0",
   "metadata": {},
   "source": [
    "### 정렬된 행렬의 인덱스를 반환하기 "
   ]
  },
  {
   "cell_type": "code",
   "execution_count": 134,
   "id": "9686a33f",
   "metadata": {},
   "outputs": [],
   "source": [
    "# 원본행렬이 정렬되었을 때 기존 원본 행렬의 원소에 대한 인덱스를 필요로 할 때 np.argsort()를 이용한다.\n",
    "# np.argsort()는 정렬 행렬의 원본 행렬 '인덱스'를 ndarray형으로 반환한다."
   ]
  },
  {
   "cell_type": "code",
   "execution_count": 135,
   "id": "d8200d27",
   "metadata": {},
   "outputs": [
    {
     "name": "stdout",
     "output_type": "stream",
     "text": [
      "<class 'numpy.ndarray'>\n",
      "행렬 정렬 시 원본 행렬의 인덱스: [1 0 3 2]\n"
     ]
    }
   ],
   "source": [
    "# np.argsort()를 이용해 원본 행렬의 정렬 시 행렬 인덱스 값을 구하기\n",
    "org_array = np.array([3, 1, 9, 5])\n",
    "sort_indices = np.argsort(org_array)\n",
    "print(type(sort_indices))\n",
    "print('행렬 정렬 시 원본 행렬의 인덱스:', sort_indices)"
   ]
  },
  {
   "cell_type": "code",
   "execution_count": 136,
   "id": "f8bb8ec4",
   "metadata": {},
   "outputs": [
    {
     "name": "stdout",
     "output_type": "stream",
     "text": [
      "<class 'numpy.ndarray'>\n",
      "행렬 정렬 시 원본 행렬의 인덱스: [2 3 0 1]\n"
     ]
    }
   ],
   "source": [
    "# 내림차순으로 정렬 시 원본 행렬의 인덱스를 구하는 것도 np.argsort()[::-1]를 적용한다.\n",
    "org_array = np.array([3, 1, 9, 5])\n",
    "sort_indices = np.argsort(org_array)[::-1]\n",
    "print(type(sort_indices))\n",
    "print('행렬 정렬 시 원본 행렬의 인덱스:', sort_indices)"
   ]
  },
  {
   "cell_type": "code",
   "execution_count": 137,
   "id": "b4315e77",
   "metadata": {},
   "outputs": [],
   "source": [
    "# 넘파이의 ndarray는 RDBMS의 TABLE 칼럼이나 판다스 DataFrame 칼럼과 같은 메타 데이터를 가질 수 없다.\n",
    "# 실제 값과 그 값이 뜻하는 메타 데이터를 별도의 ndarray로 각각 가져야 한다."
   ]
  },
  {
   "cell_type": "code",
   "execution_count": 140,
   "id": "dddc57d4",
   "metadata": {},
   "outputs": [
    {
     "name": "stdout",
     "output_type": "stream",
     "text": [
      "성적 오름차순 정렬 시 score_array의 인덱스: [0 2 4 1 3]\n",
      "성적 오름차순으로 name_array의 이름 출력: ['John' 'Sarah' 'Samuel' 'Mike' 'Kate']\n"
     ]
    }
   ],
   "source": [
    "name_array = np.array(['John', 'Mike', 'Sarah', 'Kate', 'Samuel'])\n",
    "score_array = np.array([78, 95, 84, 98, 88])\n",
    "\n",
    "sort_indices_asc = np.argsort(score_array)\n",
    "print('성적 오름차순 정렬 시 score_array의 인덱스:', sort_indices_asc)\n",
    "print('성적 오름차순으로 name_array의 이름 출력:', name_array[sort_indices_asc])"
   ]
  },
  {
   "cell_type": "code",
   "execution_count": null,
   "id": "ecdc79a6",
   "metadata": {},
   "outputs": [],
   "source": []
  },
  {
   "cell_type": "code",
   "execution_count": null,
   "id": "b1d05e95",
   "metadata": {},
   "outputs": [],
   "source": []
  },
  {
   "cell_type": "markdown",
   "id": "6e55a8bc",
   "metadata": {},
   "source": [
    "## 선형대수 연산 - 행렬 내적과 전치 행렬 구하기 "
   ]
  },
  {
   "cell_type": "markdown",
   "id": "67475f58",
   "metadata": {},
   "source": [
    "### 행렬내적(행렬 곱) "
   ]
  },
  {
   "cell_type": "code",
   "execution_count": 141,
   "id": "348f47cd",
   "metadata": {},
   "outputs": [],
   "source": [
    "# 행렬 내적은 행렬 곱이며, 두 행렬 A와 B의 내적은 np.dot()을 이용해 계산이 가능하다.\n",
    "# 행렬 내적의 특성으로 왼쪽 행렬의 열 개수와 오른쪽 행렬의 행의 개수가 동일해야 내적 연산이 가능하다."
   ]
  },
  {
   "cell_type": "code",
   "execution_count": 143,
   "id": "d7ba630f",
   "metadata": {},
   "outputs": [
    {
     "name": "stdout",
     "output_type": "stream",
     "text": [
      "행렬 내적 결과:\n",
      " [[ 58  64]\n",
      " [139 154]]\n"
     ]
    }
   ],
   "source": [
    "A = np.array([[1, 2, 3],\n",
    "            [4, 5, 6]])\n",
    "\n",
    "B = np.array([[7, 8],\n",
    "            [9, 10],\n",
    "            [11, 12]])\n",
    "\n",
    "dot_product = np.dot(A,B)\n",
    "print('행렬 내적 결과:\\n', dot_product)"
   ]
  },
  {
   "cell_type": "markdown",
   "id": "fa4512ab",
   "metadata": {},
   "source": [
    "### 전치행렬 "
   ]
  },
  {
   "cell_type": "code",
   "execution_count": 144,
   "id": "305b9bd9",
   "metadata": {},
   "outputs": [],
   "source": [
    "# 원 행렬에서 행과 열 위치를 교환한 원소로 구성한 행렬을 전치행렬 이라고 한다.\n",
    "# 넘파이의 transpose()를 이용해 전치 행렬을 구할 수 있다."
   ]
  },
  {
   "cell_type": "code",
   "execution_count": 145,
   "id": "248cf374",
   "metadata": {
    "scrolled": true
   },
   "outputs": [
    {
     "name": "stdout",
     "output_type": "stream",
     "text": [
      "A의 전치 행렬\n",
      " [[1 3]\n",
      " [2 4]]\n"
     ]
    }
   ],
   "source": [
    "A = np.array([[1, 2],\n",
    "             [3, 4]])\n",
    "transpose_mat = np.transpose(A)\n",
    "print('A의 전치 행렬\\n', transpose_mat)"
   ]
  },
  {
   "cell_type": "code",
   "execution_count": 146,
   "id": "cfe4c973",
   "metadata": {},
   "outputs": [],
   "source": [
    "# ------ End ------"
   ]
  }
 ],
 "metadata": {
  "kernelspec": {
   "display_name": "Python 3 (ipykernel)",
   "language": "python",
   "name": "python3"
  },
  "language_info": {
   "codemirror_mode": {
    "name": "ipython",
    "version": 3
   },
   "file_extension": ".py",
   "mimetype": "text/x-python",
   "name": "python",
   "nbconvert_exporter": "python",
   "pygments_lexer": "ipython3",
   "version": "3.10.9"
  }
 },
 "nbformat": 4,
 "nbformat_minor": 5
}
