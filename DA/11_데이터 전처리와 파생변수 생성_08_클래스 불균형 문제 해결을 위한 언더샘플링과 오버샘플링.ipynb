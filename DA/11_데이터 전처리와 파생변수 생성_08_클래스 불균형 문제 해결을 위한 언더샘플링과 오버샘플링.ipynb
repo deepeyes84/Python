{
 "cells": [
  {
   "cell_type": "markdown",
   "id": "5cee4c97",
   "metadata": {},
   "source": [
    "# 11_08 클래스 불균형 문제 해결을 위한 언더샘플링과 오버샘플링"
   ]
  },
  {
   "cell_type": "markdown",
   "id": "bd3c826d",
   "metadata": {},
   "source": [
    "#### 데이터 불균형 문제\n",
    "* 분류 모델에서 데이터의 불균형이 심하면 예측의 정확도가 떨어진다.\n",
    "* 기계학습 분류 모델은 비중의 중요도에 차별을 두지 않고 전체적으로 분류를 잘 하도록 학습된다."
   ]
  },
  {
   "cell_type": "markdown",
   "id": "3590786a",
   "metadata": {},
   "source": [
    "#### 불균형 문제 해결 방법\n",
    "* 가중치 밸런싱(Weight balancing): 중요도가 높은 클래스에 정확도 가중치를 주는 방법.\n",
    "* 오버 샘플링(Over sampling): 작은 비중의 클래스 데이터를 늘리는 방법.\n",
    "* 언더 샘플링(Under sampling): 큰 비중의 클래스 데이터를 줄이는 방법."
   ]
  },
  {
   "cell_type": "code",
   "execution_count": 25,
   "id": "d3988776",
   "metadata": {},
   "outputs": [
    {
     "name": "stdout",
     "output_type": "stream",
     "text": [
      "Collecting imbalanced-learn==0.10.1\n",
      "  Downloading imbalanced_learn-0.10.1-py3-none-any.whl (226 kB)\n",
      "\u001b[2K     \u001b[90m━━━━━━━━━━━━━━━━━━━━━━━━━━━━━━━━━━━━━━━\u001b[0m \u001b[32m226.0/226.0 kB\u001b[0m \u001b[31m8.3 MB/s\u001b[0m eta \u001b[36m0:00:00\u001b[0m\n",
      "\u001b[?25hRequirement already satisfied: numpy>=1.17.3 in /Users/adam/anaconda3/lib/python3.10/site-packages (from imbalanced-learn==0.10.1) (1.23.5)\n",
      "Requirement already satisfied: scipy>=1.3.2 in /Users/adam/anaconda3/lib/python3.10/site-packages (from imbalanced-learn==0.10.1) (1.10.1)\n",
      "Requirement already satisfied: scikit-learn>=1.0.2 in /Users/adam/anaconda3/lib/python3.10/site-packages (from imbalanced-learn==0.10.1) (1.2.1)\n",
      "Requirement already satisfied: joblib>=1.1.1 in /Users/adam/anaconda3/lib/python3.10/site-packages (from imbalanced-learn==0.10.1) (1.1.1)\n",
      "Requirement already satisfied: threadpoolctl>=2.0.0 in /Users/adam/anaconda3/lib/python3.10/site-packages (from imbalanced-learn==0.10.1) (2.2.0)\n",
      "Installing collected packages: imbalanced-learn\n",
      "  Attempting uninstall: imbalanced-learn\n",
      "    Found existing installation: imbalanced-learn 0.7.0\n",
      "    Uninstalling imbalanced-learn-0.7.0:\n",
      "      Successfully uninstalled imbalanced-learn-0.7.0\n",
      "Successfully installed imbalanced-learn-0.10.1\n"
     ]
    }
   ],
   "source": [
    "# 필요한 패키지 설치 및 임포트\n",
    "!pip install imbalanced-learn==0.10.1\n",
    "from sklearn.model_selection import train_test_split\n",
    "from imblearn.under_sampling import *\n",
    "from imblearn.over_sampling import SMOTE\n",
    "import seaborn as sns\n",
    "import matplotlib.pyplot as plt\n",
    "import pandas as pd"
   ]
  },
  {
   "cell_type": "code",
   "execution_count": 26,
   "id": "1e0c0f32",
   "metadata": {},
   "outputs": [
    {
     "data": {
      "text/html": [
       "<div>\n",
       "<style scoped>\n",
       "    .dataframe tbody tr th:only-of-type {\n",
       "        vertical-align: middle;\n",
       "    }\n",
       "\n",
       "    .dataframe tbody tr th {\n",
       "        vertical-align: top;\n",
       "    }\n",
       "\n",
       "    .dataframe thead th {\n",
       "        text-align: right;\n",
       "    }\n",
       "</style>\n",
       "<table border=\"1\" class=\"dataframe\">\n",
       "  <thead>\n",
       "    <tr style=\"text-align: right;\">\n",
       "      <th></th>\n",
       "      <th>User ID</th>\n",
       "      <th>Gender</th>\n",
       "      <th>Age</th>\n",
       "      <th>EstimatedSalary</th>\n",
       "      <th>Purchased</th>\n",
       "    </tr>\n",
       "  </thead>\n",
       "  <tbody>\n",
       "    <tr>\n",
       "      <th>0</th>\n",
       "      <td>15624510</td>\n",
       "      <td>Male</td>\n",
       "      <td>19</td>\n",
       "      <td>19000</td>\n",
       "      <td>0</td>\n",
       "    </tr>\n",
       "    <tr>\n",
       "      <th>1</th>\n",
       "      <td>15810944</td>\n",
       "      <td>Male</td>\n",
       "      <td>35</td>\n",
       "      <td>20000</td>\n",
       "      <td>0</td>\n",
       "    </tr>\n",
       "    <tr>\n",
       "      <th>2</th>\n",
       "      <td>15668575</td>\n",
       "      <td>Female</td>\n",
       "      <td>26</td>\n",
       "      <td>43000</td>\n",
       "      <td>0</td>\n",
       "    </tr>\n",
       "    <tr>\n",
       "      <th>3</th>\n",
       "      <td>15603246</td>\n",
       "      <td>Female</td>\n",
       "      <td>27</td>\n",
       "      <td>57000</td>\n",
       "      <td>0</td>\n",
       "    </tr>\n",
       "    <tr>\n",
       "      <th>4</th>\n",
       "      <td>15804002</td>\n",
       "      <td>Male</td>\n",
       "      <td>19</td>\n",
       "      <td>76000</td>\n",
       "      <td>0</td>\n",
       "    </tr>\n",
       "  </tbody>\n",
       "</table>\n",
       "</div>"
      ],
      "text/plain": [
       "    User ID  Gender  Age  EstimatedSalary  Purchased\n",
       "0  15624510    Male   19            19000          0\n",
       "1  15810944    Male   35            20000          0\n",
       "2  15668575  Female   26            43000          0\n",
       "3  15603246  Female   27            57000          0\n",
       "4  15804002    Male   19            76000          0"
      ]
     },
     "execution_count": 26,
     "metadata": {},
     "output_type": "execute_result"
    }
   ],
   "source": [
    "# 데이터 불러오기\n",
    "df = pd.read_csv('/Users/adam/Data_Analytics/Python/Datasets/social_network_ads/Social_Network_Ads.csv')\n",
    "\n",
    "# 데이터 샘플 확인\n",
    "df.head()"
   ]
  },
  {
   "cell_type": "code",
   "execution_count": 27,
   "id": "c986052f",
   "metadata": {},
   "outputs": [
    {
     "name": "stdout",
     "output_type": "stream",
     "text": [
      "<class 'pandas.core.frame.DataFrame'>\n",
      "RangeIndex: 400 entries, 0 to 399\n",
      "Data columns (total 5 columns):\n",
      " #   Column           Non-Null Count  Dtype \n",
      "---  ------           --------------  ----- \n",
      " 0   User ID          400 non-null    int64 \n",
      " 1   Gender           400 non-null    object\n",
      " 2   Age              400 non-null    int64 \n",
      " 3   EstimatedSalary  400 non-null    int64 \n",
      " 4   Purchased        400 non-null    int64 \n",
      "dtypes: int64(4), object(1)\n",
      "memory usage: 15.8+ KB\n"
     ]
    }
   ],
   "source": [
    "# 각 컬럼의 속성 및 결측치 확인\n",
    "df.info()"
   ]
  },
  {
   "cell_type": "code",
   "execution_count": 28,
   "id": "77eaa009",
   "metadata": {},
   "outputs": [
    {
     "data": {
      "image/png": "[encoded data removed]",
      "text/plain": [
       "<Figure size 640x480 with 1 Axes>"
      ]
     },
     "metadata": {},
     "output_type": "display_data"
    }
   ],
   "source": [
    "# Purchased 컬럼 클래스 분포 시각화\n",
    "sns.countplot(x='Purchased', data=df)\n",
    "\n",
    "plt.show()"
   ]
  },
  {
   "cell_type": "code",
   "execution_count": 29,
   "id": "cb674f1a",
   "metadata": {},
   "outputs": [
    {
     "data": {
      "text/html": [
       "<div>\n",
       "<style scoped>\n",
       "    .dataframe tbody tr th:only-of-type {\n",
       "        vertical-align: middle;\n",
       "    }\n",
       "\n",
       "    .dataframe tbody tr th {\n",
       "        vertical-align: top;\n",
       "    }\n",
       "\n",
       "    .dataframe thead th {\n",
       "        text-align: right;\n",
       "    }\n",
       "</style>\n",
       "<table border=\"1\" class=\"dataframe\">\n",
       "  <thead>\n",
       "    <tr style=\"text-align: right;\">\n",
       "      <th></th>\n",
       "      <th>User ID</th>\n",
       "      <th>Age</th>\n",
       "      <th>EstimatedSalary</th>\n",
       "      <th>Purchased</th>\n",
       "      <th>Male</th>\n",
       "    </tr>\n",
       "  </thead>\n",
       "  <tbody>\n",
       "    <tr>\n",
       "      <th>0</th>\n",
       "      <td>15624510</td>\n",
       "      <td>19</td>\n",
       "      <td>19000</td>\n",
       "      <td>0</td>\n",
       "      <td>1</td>\n",
       "    </tr>\n",
       "    <tr>\n",
       "      <th>1</th>\n",
       "      <td>15810944</td>\n",
       "      <td>35</td>\n",
       "      <td>20000</td>\n",
       "      <td>0</td>\n",
       "      <td>1</td>\n",
       "    </tr>\n",
       "    <tr>\n",
       "      <th>2</th>\n",
       "      <td>15668575</td>\n",
       "      <td>26</td>\n",
       "      <td>43000</td>\n",
       "      <td>0</td>\n",
       "      <td>0</td>\n",
       "    </tr>\n",
       "    <tr>\n",
       "      <th>3</th>\n",
       "      <td>15603246</td>\n",
       "      <td>27</td>\n",
       "      <td>57000</td>\n",
       "      <td>0</td>\n",
       "      <td>0</td>\n",
       "    </tr>\n",
       "    <tr>\n",
       "      <th>4</th>\n",
       "      <td>15804002</td>\n",
       "      <td>19</td>\n",
       "      <td>76000</td>\n",
       "      <td>0</td>\n",
       "      <td>1</td>\n",
       "    </tr>\n",
       "  </tbody>\n",
       "</table>\n",
       "</div>"
      ],
      "text/plain": [
       "    User ID  Age  EstimatedSalary  Purchased  Male\n",
       "0  15624510   19            19000          0     1\n",
       "1  15810944   35            20000          0     1\n",
       "2  15668575   26            43000          0     0\n",
       "3  15603246   27            57000          0     0\n",
       "4  15804002   19            76000          0     1"
      ]
     },
     "execution_count": 29,
     "metadata": {},
     "output_type": "execute_result"
    }
   ],
   "source": [
    "# Gender 컬럼 가변수 처리\n",
    "df_d = pd.get_dummies(df['Gender'])\n",
    "\n",
    "df2 = pd.merge(df.drop(['Gender'], axis=1),\n",
    "               df_d['Male'], left_index=True, right_index=True, how = 'inner')\n",
    "\n",
    "df2.head()"
   ]
  },
  {
   "cell_type": "code",
   "execution_count": 30,
   "id": "9f8c3115",
   "metadata": {},
   "outputs": [
    {
     "data": {
      "text/html": [
       "<div>\n",
       "<style scoped>\n",
       "    .dataframe tbody tr th:only-of-type {\n",
       "        vertical-align: middle;\n",
       "    }\n",
       "\n",
       "    .dataframe tbody tr th {\n",
       "        vertical-align: top;\n",
       "    }\n",
       "\n",
       "    .dataframe thead th {\n",
       "        text-align: right;\n",
       "    }\n",
       "</style>\n",
       "<table border=\"1\" class=\"dataframe\">\n",
       "  <thead>\n",
       "    <tr style=\"text-align: right;\">\n",
       "      <th></th>\n",
       "      <th>User ID</th>\n",
       "      <th>Age</th>\n",
       "      <th>EstimatedSalary</th>\n",
       "      <th>Male</th>\n",
       "    </tr>\n",
       "  </thead>\n",
       "  <tbody>\n",
       "    <tr>\n",
       "      <th>57</th>\n",
       "      <td>15807481</td>\n",
       "      <td>28</td>\n",
       "      <td>79000</td>\n",
       "      <td>1</td>\n",
       "    </tr>\n",
       "    <tr>\n",
       "      <th>87</th>\n",
       "      <td>15631912</td>\n",
       "      <td>28</td>\n",
       "      <td>85000</td>\n",
       "      <td>0</td>\n",
       "    </tr>\n",
       "    <tr>\n",
       "      <th>357</th>\n",
       "      <td>15671387</td>\n",
       "      <td>41</td>\n",
       "      <td>72000</td>\n",
       "      <td>0</td>\n",
       "    </tr>\n",
       "    <tr>\n",
       "      <th>355</th>\n",
       "      <td>15606472</td>\n",
       "      <td>60</td>\n",
       "      <td>34000</td>\n",
       "      <td>1</td>\n",
       "    </tr>\n",
       "    <tr>\n",
       "      <th>238</th>\n",
       "      <td>15617877</td>\n",
       "      <td>46</td>\n",
       "      <td>82000</td>\n",
       "      <td>0</td>\n",
       "    </tr>\n",
       "  </tbody>\n",
       "</table>\n",
       "</div>"
      ],
      "text/plain": [
       "      User ID  Age  EstimatedSalary  Male\n",
       "57   15807481   28            79000     1\n",
       "87   15631912   28            85000     0\n",
       "357  15671387   41            72000     0\n",
       "355  15606472   60            34000     1\n",
       "238  15617877   46            82000     0"
      ]
     },
     "execution_count": 30,
     "metadata": {},
     "output_type": "execute_result"
    }
   ],
   "source": [
    "# 데이터를 학습 세트, 테스트 세트로 분리\n",
    "\n",
    "X = df2.drop(['Purchased'], axis=1)\n",
    "y = df2[['Purchased']]\n",
    "\n",
    "X_train, X_test, y_train, y_test = train_test_split(X, y, test_size=0.25, random_state=10)\n",
    "\n",
    "X_train.head()"
   ]
  },
  {
   "cell_type": "code",
   "execution_count": 31,
   "id": "beb34409",
   "metadata": {},
   "outputs": [
    {
     "name": "stdout",
     "output_type": "stream",
     "text": [
      "RandomUnderSampler 적용 전 학습 세트 변수/레이블 데이터 세트: (300, 4) (300, 1)\n",
      "RandomUnderSampler 적용 후 학습 세트 변수/레이블 데이터 세트: (224, 4) (224, 1)\n",
      "\n",
      "\n",
      "RandomUnderSampler 적용 전 레이블 값 분포:\n",
      " 0    188\n",
      "1    112\n",
      "Name: Purchased, dtype: int64\n",
      "\n",
      "\n",
      "RandomUnderSampler 적용 후 레이블 값 분포:\n",
      " 0    112\n",
      "1    112\n",
      "Name: Purchased, dtype: int64\n"
     ]
    }
   ],
   "source": [
    "# 언더샘플링 적용\n",
    "\n",
    "X_train_under, y_train_under = RandomUnderSampler(random_state=0).fit_resample(X_train, y_train)\n",
    "\n",
    "print('RandomUnderSampler 적용 전 학습 세트 변수/레이블 데이터 세트:'\n",
    "      , X_train.shape, y_train.shape)\n",
    "print('RandomUnderSampler 적용 후 학습 세트 변수/레이블 데이터 세트:'\n",
    "      ,X_train_under.shape, y_train_under.shape)\n",
    "print('\\n')\n",
    "print('RandomUnderSampler 적용 전 레이블 값 분포:\\n'\n",
    "      , pd.Series(y_train['Purchased']).value_counts())\n",
    "print('\\n')\n",
    "print('RandomUnderSampler 적용 후 레이블 값 분포:\\n'\n",
    "      , pd.Series(y_train_under['Purchased']).value_counts())"
   ]
  },
  {
   "cell_type": "code",
   "execution_count": 32,
   "id": "0a07e326",
   "metadata": {},
   "outputs": [
    {
     "data": {
      "image/png": "[encoded data removed]",
      "text/plain": [
       "<Figure size 640x480 with 1 Axes>"
      ]
     },
     "metadata": {},
     "output_type": "display_data"
    }
   ],
   "source": [
    "# 언더샘플링 적용 후 Purchased 컬럼 클래스 분포 시각화\n",
    "sns.countplot(x='Purchased', data=y_train_under)\n",
    "\n",
    "plt.show()"
   ]
  },
  {
   "cell_type": "code",
   "execution_count": 33,
   "id": "fbfe9228",
   "metadata": {},
   "outputs": [
    {
     "name": "stdout",
     "output_type": "stream",
     "text": [
      "SMOTE 적용 전 학습용 변수/레이블 데이터 세트: (300, 4) (300, 1)\n",
      "SMOTE 적용 후 학습용 변수/레이블 데이터 세트: (376, 4) (376, 1)\n",
      "\n",
      "\n",
      "SMOTE 적용 전 레이블 값 분포:\n",
      " 0    188\n",
      "1    112\n",
      "Name: Purchased, dtype: int64\n",
      "\n",
      "\n",
      "SMOTE 적용 후 레이블 값 분포:\n",
      " 0    188\n",
      "1    188\n",
      "Name: Purchased, dtype: int64\n"
     ]
    }
   ],
   "source": [
    "# 오버샘플링 적용\n",
    "\n",
    "smote = SMOTE(k_neighbors=2, random_state=0)\n",
    "oversample = SMOTE()\n",
    "\n",
    "X_train_over, y_train_over = smote.fit_resample(X_train, y_train)\n",
    "print('SMOTE 적용 전 학습용 변수/레이블 데이터 세트:'\n",
    "      , X_train.shape, y_train.shape)\n",
    "print('SMOTE 적용 후 학습용 변수/레이블 데이터 세트:'\n",
    "      , X_train_over.shape, y_train_over.shape)\n",
    "print('\\n')\n",
    "print('SMOTE 적용 전 레이블 값 분포:\\n'\n",
    "      , pd.Series(y_train['Purchased']).value_counts())\n",
    "print('\\n')\n",
    "print('SMOTE 적용 후 레이블 값 분포:\\n'\n",
    "      , pd.Series(y_train_over['Purchased']).value_counts())\n",
    "\n"
   ]
  },
  {
   "cell_type": "code",
   "execution_count": 34,
   "id": "b60340b5",
   "metadata": {},
   "outputs": [
    {
     "data": {
      "image/png": "[encoded data removed]",
      "text/plain": [
       "<Figure size 640x480 with 1 Axes>"
      ]
     },
     "metadata": {},
     "output_type": "display_data"
    }
   ],
   "source": [
    "# 오버샘플링 적용 후 Purchaased 컬럼 클래스 분포 시각화\n",
    "sns.countplot(x='Purchased', data=y_train_over)\n",
    "\n",
    "plt.show()"
   ]
  }
 ],
 "metadata": {
  "kernelspec": {
   "display_name": "Python 3 (ipykernel)",
   "language": "python",
   "name": "python3"
  },
  "language_info": {
   "codemirror_mode": {
    "name": "ipython",
    "version": 3
   },
   "file_extension": ".py",
   "mimetype": "text/x-python",
   "name": "python",
   "nbconvert_exporter": "python",
   "pygments_lexer": "ipython3",
   "version": "3.10.8"
  }
 },
 "nbformat": 4,
 "nbformat_minor": 5
}
