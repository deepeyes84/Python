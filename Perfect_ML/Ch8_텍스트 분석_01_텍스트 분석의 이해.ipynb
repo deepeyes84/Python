{
 "cells": [
  {
   "cell_type": "markdown",
   "id": "6cdd006d",
   "metadata": {},
   "source": [
    "### NLP VS 텍스트 분석"
   ]
  },
  {
   "cell_type": "code",
   "execution_count": 1,
   "id": "f33a5b92",
   "metadata": {},
   "outputs": [],
   "source": [
    "# NLP는 머신이 인간의 언어를 이해하고 해석하는 데 더 중점을 두고 기술이 발전해 왔으며,\n",
    "# 텍스트 마이닝(Text Mining)이라고 불리는 텍스트 분석은 비정형 텍스트에서 의미 있는 정보를 추출하는 것에 좀 더 중점을 두고 기술이 발전해왔다.\n",
    "# NLP는 텍스트 분석을 향상하게 하는 기반 기술이라고 볼 수 있다.\n",
    "\n",
    "# 텍스트 분석은 머신러닝, 언어 이해, 통계 등을 활용해 모델을 수립하고 정보를 추출해 비즈니스 인텔리전스(Business Intelligence)나\n",
    "# 예측 분석 등의 분석 작업을 주로 수행한다.\n",
    "\n",
    "# 텍스트 분석은 머신러닝의 발전에 힘입어 주로 다음과 같은 기술 영역에 집중해왔다.\n",
    "# - 텍스트 분류(Text Classification): 문서가 특정 분류 또는 카테고리에 속하는 것을 예측하는 기법. ex) 스팸 메일 검출\n",
    "# - 감성 분석(Sensiment Analysis): 감정/판단/믿음/의견/기분 등의 주관적인 요소를 분석하는 기법. ex)SNS 감정분석, 영화나 제품의 긍정 리뷰 등\n",
    "# - 텍스트 요약(Summarization): 텍스트 내에서 중요한 주제나 중심 사상을 추출하는 기법. ex) 토픽 모델링(Topic Modeling)\n",
    "# - 텍스트 군집화(Clustering)와 유사도 측정: 비슷한 유형의 문서에 대해 군집화를 수행하는 기법."
   ]
  },
  {
   "cell_type": "markdown",
   "id": "6fac2a16",
   "metadata": {},
   "source": [
    "## 01 텍스트 분석의 이해"
   ]
  },
  {
   "cell_type": "code",
   "execution_count": 2,
   "id": "903d17af",
   "metadata": {},
   "outputs": [],
   "source": [
    "# 텍스트 분석은 비정형 데이터인 텍스트를 분석하는 것이다.\n",
    "# 머신러닝 알고리즘은 숫자형 피처 기반 데이터만 입력 받을 수 있기 때문에 텍스트를 머신러닝에 적용하기 위해서는\n",
    "# 비정형 텍스트 데이터를 어떻게 피처 형태로 추출하고 추출된 피처에 의미 있는 값을 부여하는가 하는 것이 매우 중요한 요소이다.\n",
    "\n",
    "# 텍스트를 단어나 단어의 일부분 기반의 다수의 피처로 추출하고 이 피처데 단어 빈도수와 같은 숫자 값을 부여하면\n",
    "# 테스트는 단어의 조합인 벡터값으로 표현 될 수 있는데, 이렇게 텍스트를 변환하는 것을 피처 벡터화(Feature Vectorization)\n",
    "# 또는 피처 추출(Feature Extraction)이라고 하나.\n",
    "# 대표적으로 텍스트를 피처 벡터화해서 변환하는 방법에는 BOW(Bag of Words)와 Word2Vec 방법이 있다.\n",
    "\n",
    "# 텍스트를 벡터값을 가지는 피처로 변환하는 것은 머신러닝 모델을 적용하기 전에 수행해야 할 매우 중요한 요소이다."
   ]
  },
  {
   "cell_type": "markdown",
   "id": "90869161",
   "metadata": {},
   "source": [
    "### 텍스트 분석 수행 프로세스 "
   ]
  },
  {
   "cell_type": "code",
   "execution_count": 3,
   "id": "095b7d16",
   "metadata": {},
   "outputs": [],
   "source": [
    "# 1. 텍스트 사전 준비작업(텍스트 전처리): 미리 클렌징, 대/소문자 변경, 특수문자 삭제 등의 클렌징 작업, 단어 등의 토큰화 작업,\n",
    "#    의미없는 단어(Stop word) 제거 작업, 어근 추출(Stemming/Lemmatization) 등의 텍스트 정규화 작업 수행하는 것을 통칭.\n",
    "# 2. 피처 벡터화/추출: 가공된 텍스트에서 피처를 추출하고 여기에 벡터 값을 할당한다. 대표적인 방법은 BOWdhk Word2Vec이 있으며,\n",
    "#    Count기반과 TF-IDF 기반 벡터화가 있다.\n",
    "# 3. ML 모델 수립 및 학습/예측/평가: 피처 벡터화된 데이터 세트에 ML 모델을 적용해 학습/예측 및 평가를 수행한다."
   ]
  }
 ],
 "metadata": {
  "kernelspec": {
   "display_name": "Python 3 (ipykernel)",
   "language": "python",
   "name": "python3"
  },
  "language_info": {
   "codemirror_mode": {
    "name": "ipython",
    "version": 3
   },
   "file_extension": ".py",
   "mimetype": "text/x-python",
   "name": "python",
   "nbconvert_exporter": "python",
   "pygments_lexer": "ipython3",
   "version": "3.10.9"
  }
 },
 "nbformat": 4,
 "nbformat_minor": 5
}
