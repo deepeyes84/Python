{
 "cells": [
  {
   "cell_type": "markdown",
   "id": "39bd8170",
   "metadata": {},
   "source": [
    "#  10_5 분포 시각화"
   ]
  },
  {
   "cell_type": "code",
   "execution_count": null,
   "id": "8d061018",
   "metadata": {},
   "outputs": [],
   "source": []
  }
 ],
 "metadata": {
  "kernelspec": {
   "display_name": "Python 3 (ipykernel)",
   "language": "python",
   "name": "python3"
  },
  "language_info": {
   "codemirror_mode": {
    "name": "ipython",
    "version": 3
   },
   "file_extension": ".py",
   "mimetype": "text/x-python",
   "name": "python",
   "nbconvert_exporter": "python",
   "pygments_lexer": "ipython3",
   "version": "3.10.8"
  }
 },
 "nbformat": 4,
 "nbformat_minor": 5
}
