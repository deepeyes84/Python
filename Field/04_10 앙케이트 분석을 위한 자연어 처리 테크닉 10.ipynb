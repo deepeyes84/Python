{
 "cells": [
  {
   "cell_type": "markdown",
   "id": "773f3099",
   "metadata": {},
   "source": [
    "# 04_10 앙케이트 분석을 위한 자연어 처리 테크닉 10"
   ]
  },
  {
   "cell_type": "markdown",
   "id": "a676e1b1",
   "metadata": {},
   "source": [
    "#### 고객의 소리:  \n",
    "고객사는 이 도시에서 부동산업을 경영하고 있다.  \n",
    "정부 기관과 유대감이 깊어 도시 건설 제안을 의뢰받는 경우가 있다.  \n",
    "회사와 관계있는 고객과 동업자의 협조로 설문조사를 시행했다.  \n",
    "유익한 정보가 많아 AI를 사용한 분석을 원한다.  \n",
    "알기 쉽게 보고서를 작성하면 정부 기관에 제안하기 쉬울 것 같다고 생각한다."
   ]
  },
  {
   "cell_type": "markdown",
   "id": "a86457a7",
   "metadata": {},
   "source": [
    "#### 전제조건:\n",
    "1. 캠페인 기간(2019년 1월 ~ 4월)의 4개월 동안 모은 고객만족도 설문조사 데이터가 데이터베이스에 기록되어 있다.  \n",
    "2. 설문조사를 한 날짜, 의견, 만족도(5단 평가)의 결과가 들어있다."
   ]
  },
  {
   "cell_type": "markdown",
   "id": "a24b1691",
   "metadata": {},
   "source": [
    "#### 데이터 정보:\n",
    "|No.|파일 이름|개요|\n",
    "|-|-|-|\n",
    "|1|survey.csv|앙케이트 결과|"
   ]
  },
  {
   "cell_type": "code",
   "execution_count": 1,
   "id": "0fd8b45c",
   "metadata": {},
   "outputs": [],
   "source": [
    "import warnings\n",
    "warnings.filterwarnings('ignore')"
   ]
  },
  {
   "cell_type": "markdown",
   "id": "69323199",
   "metadata": {},
   "source": [
    "### 테크닉091: 데이터를 불러서 파악해 보자"
   ]
  },
  {
   "cell_type": "code",
   "execution_count": 2,
   "id": "75ec619d",
   "metadata": {},
   "outputs": [
    {
     "name": "stdout",
     "output_type": "stream",
     "text": [
      "86\n"
     ]
    },
    {
     "data": {
      "text/html": [
       "<div>\n",
       "<style scoped>\n",
       "    .dataframe tbody tr th:only-of-type {\n",
       "        vertical-align: middle;\n",
       "    }\n",
       "\n",
       "    .dataframe tbody tr th {\n",
       "        vertical-align: top;\n",
       "    }\n",
       "\n",
       "    .dataframe thead th {\n",
       "        text-align: right;\n",
       "    }\n",
       "</style>\n",
       "<table border=\"1\" class=\"dataframe\">\n",
       "  <thead>\n",
       "    <tr style=\"text-align: right;\">\n",
       "      <th></th>\n",
       "      <th>datetime</th>\n",
       "      <th>comment</th>\n",
       "      <th>satisfaction</th>\n",
       "    </tr>\n",
       "  </thead>\n",
       "  <tbody>\n",
       "    <tr>\n",
       "      <th>0</th>\n",
       "      <td>2019-03-11</td>\n",
       "      <td>역앞에 젊은이들이 모여있다(AA역)</td>\n",
       "      <td>1</td>\n",
       "    </tr>\n",
       "    <tr>\n",
       "      <th>1</th>\n",
       "      <td>2019-02-25</td>\n",
       "      <td>운동할 수 있는 장소가 있는 것이 좋다</td>\n",
       "      <td>5</td>\n",
       "    </tr>\n",
       "    <tr>\n",
       "      <th>2</th>\n",
       "      <td>2019-02-18</td>\n",
       "      <td>육아 지원이 좋다</td>\n",
       "      <td>5</td>\n",
       "    </tr>\n",
       "    <tr>\n",
       "      <th>3</th>\n",
       "      <td>2019-04-09</td>\n",
       "      <td>어린이집에 바로 입원할 수 있다(대기아동 없음)</td>\n",
       "      <td>4</td>\n",
       "    </tr>\n",
       "    <tr>\n",
       "      <th>4</th>\n",
       "      <td>2019-01-06</td>\n",
       "      <td>역앞 상가가 쓸쓸하다</td>\n",
       "      <td>2</td>\n",
       "    </tr>\n",
       "  </tbody>\n",
       "</table>\n",
       "</div>"
      ],
      "text/plain": [
       "     datetime                     comment  satisfaction\n",
       "0  2019-03-11         역앞에 젊은이들이 모여있다(AA역)             1\n",
       "1  2019-02-25       운동할 수 있는 장소가 있는 것이 좋다             5\n",
       "2  2019-02-18                   육아 지원이 좋다             5\n",
       "3  2019-04-09  어린이집에 바로 입원할 수 있다(대기아동 없음)             4\n",
       "4  2019-01-06                 역앞 상가가 쓸쓸하다             2"
      ]
     },
     "execution_count": 2,
     "metadata": {},
     "output_type": "execute_result"
    }
   ],
   "source": [
    "import pandas as pd\n",
    "survey = pd.read_csv('/Users/adam/Data_Analytics/Python/Field/10/survey.csv')\n",
    "print(len(survey))\n",
    "survey.head()"
   ]
  },
  {
   "cell_type": "markdown",
   "id": "8c7d58c8",
   "metadata": {},
   "source": [
    "##### 결측치 확인 "
   ]
  },
  {
   "cell_type": "code",
   "execution_count": 3,
   "id": "7e067973",
   "metadata": {},
   "outputs": [
    {
     "data": {
      "text/plain": [
       "datetime        0\n",
       "comment         2\n",
       "satisfaction    0\n",
       "dtype: int64"
      ]
     },
     "execution_count": 3,
     "metadata": {},
     "output_type": "execute_result"
    }
   ],
   "source": [
    "survey.isna().sum()"
   ]
  },
  {
   "cell_type": "markdown",
   "id": "5c98a62d",
   "metadata": {},
   "source": [
    "##### 결측치 제거"
   ]
  },
  {
   "cell_type": "code",
   "execution_count": 4,
   "id": "3f711887",
   "metadata": {},
   "outputs": [
    {
     "data": {
      "text/plain": [
       "datetime        0\n",
       "comment         0\n",
       "satisfaction    0\n",
       "dtype: int64"
      ]
     },
     "execution_count": 4,
     "metadata": {},
     "output_type": "execute_result"
    }
   ],
   "source": [
    "survey = survey.dropna()\n",
    "survey.isna().sum()"
   ]
  },
  {
   "cell_type": "markdown",
   "id": "9687fd5c",
   "metadata": {},
   "source": [
    "### 테크닉092: 불필요한 문제를 제거하자"
   ]
  },
  {
   "cell_type": "code",
   "execution_count": 5,
   "id": "dcc00a4a",
   "metadata": {},
   "outputs": [
    {
     "data": {
      "text/html": [
       "<div>\n",
       "<style scoped>\n",
       "    .dataframe tbody tr th:only-of-type {\n",
       "        vertical-align: middle;\n",
       "    }\n",
       "\n",
       "    .dataframe tbody tr th {\n",
       "        vertical-align: top;\n",
       "    }\n",
       "\n",
       "    .dataframe thead th {\n",
       "        text-align: right;\n",
       "    }\n",
       "</style>\n",
       "<table border=\"1\" class=\"dataframe\">\n",
       "  <thead>\n",
       "    <tr style=\"text-align: right;\">\n",
       "      <th></th>\n",
       "      <th>datetime</th>\n",
       "      <th>comment</th>\n",
       "      <th>satisfaction</th>\n",
       "    </tr>\n",
       "  </thead>\n",
       "  <tbody>\n",
       "    <tr>\n",
       "      <th>0</th>\n",
       "      <td>2019-03-11</td>\n",
       "      <td>역앞에 젊은이들이 모여있다(역)</td>\n",
       "      <td>1</td>\n",
       "    </tr>\n",
       "    <tr>\n",
       "      <th>1</th>\n",
       "      <td>2019-02-25</td>\n",
       "      <td>운동할 수 있는 장소가 있는 것이 좋다</td>\n",
       "      <td>5</td>\n",
       "    </tr>\n",
       "    <tr>\n",
       "      <th>2</th>\n",
       "      <td>2019-02-18</td>\n",
       "      <td>육아 지원이 좋다</td>\n",
       "      <td>5</td>\n",
       "    </tr>\n",
       "    <tr>\n",
       "      <th>3</th>\n",
       "      <td>2019-04-09</td>\n",
       "      <td>어린이집에 바로 입원할 수 있다(대기아동 없음)</td>\n",
       "      <td>4</td>\n",
       "    </tr>\n",
       "    <tr>\n",
       "      <th>4</th>\n",
       "      <td>2019-01-06</td>\n",
       "      <td>역앞 상가가 쓸쓸하다</td>\n",
       "      <td>2</td>\n",
       "    </tr>\n",
       "  </tbody>\n",
       "</table>\n",
       "</div>"
      ],
      "text/plain": [
       "     datetime                     comment  satisfaction\n",
       "0  2019-03-11           역앞에 젊은이들이 모여있다(역)             1\n",
       "1  2019-02-25       운동할 수 있는 장소가 있는 것이 좋다             5\n",
       "2  2019-02-18                   육아 지원이 좋다             5\n",
       "3  2019-04-09  어린이집에 바로 입원할 수 있다(대기아동 없음)             4\n",
       "4  2019-01-06                 역앞 상가가 쓸쓸하다             2"
      ]
     },
     "execution_count": 5,
     "metadata": {},
     "output_type": "execute_result"
    }
   ],
   "source": [
    "survey[\"comment\"] = survey[\"comment\"].str.replace(\"AA\", \"\")\n",
    "survey.head()"
   ]
  },
  {
   "cell_type": "markdown",
   "id": "3f24bfcf",
   "metadata": {},
   "source": [
    "##### 정규표현식을 사용한 괄호 속 문장 제거"
   ]
  },
  {
   "cell_type": "code",
   "execution_count": 6,
   "id": "c80f4d16",
   "metadata": {},
   "outputs": [
    {
     "data": {
      "text/html": [
       "<div>\n",
       "<style scoped>\n",
       "    .dataframe tbody tr th:only-of-type {\n",
       "        vertical-align: middle;\n",
       "    }\n",
       "\n",
       "    .dataframe tbody tr th {\n",
       "        vertical-align: top;\n",
       "    }\n",
       "\n",
       "    .dataframe thead th {\n",
       "        text-align: right;\n",
       "    }\n",
       "</style>\n",
       "<table border=\"1\" class=\"dataframe\">\n",
       "  <thead>\n",
       "    <tr style=\"text-align: right;\">\n",
       "      <th></th>\n",
       "      <th>datetime</th>\n",
       "      <th>comment</th>\n",
       "      <th>satisfaction</th>\n",
       "    </tr>\n",
       "  </thead>\n",
       "  <tbody>\n",
       "    <tr>\n",
       "      <th>0</th>\n",
       "      <td>2019-03-11</td>\n",
       "      <td>역앞에 젊은이들이 모여있다</td>\n",
       "      <td>1</td>\n",
       "    </tr>\n",
       "    <tr>\n",
       "      <th>1</th>\n",
       "      <td>2019-02-25</td>\n",
       "      <td>운동할 수 있는 장소가 있는 것이 좋다</td>\n",
       "      <td>5</td>\n",
       "    </tr>\n",
       "    <tr>\n",
       "      <th>2</th>\n",
       "      <td>2019-02-18</td>\n",
       "      <td>육아 지원이 좋다</td>\n",
       "      <td>5</td>\n",
       "    </tr>\n",
       "    <tr>\n",
       "      <th>3</th>\n",
       "      <td>2019-04-09</td>\n",
       "      <td>어린이집에 바로 입원할 수 있다</td>\n",
       "      <td>4</td>\n",
       "    </tr>\n",
       "    <tr>\n",
       "      <th>4</th>\n",
       "      <td>2019-01-06</td>\n",
       "      <td>역앞 상가가 쓸쓸하다</td>\n",
       "      <td>2</td>\n",
       "    </tr>\n",
       "  </tbody>\n",
       "</table>\n",
       "</div>"
      ],
      "text/plain": [
       "     datetime                comment  satisfaction\n",
       "0  2019-03-11         역앞에 젊은이들이 모여있다             1\n",
       "1  2019-02-25  운동할 수 있는 장소가 있는 것이 좋다             5\n",
       "2  2019-02-18              육아 지원이 좋다             5\n",
       "3  2019-04-09      어린이집에 바로 입원할 수 있다             4\n",
       "4  2019-01-06            역앞 상가가 쓸쓸하다             2"
      ]
     },
     "execution_count": 6,
     "metadata": {},
     "output_type": "execute_result"
    }
   ],
   "source": [
    "survey[\"comment\"] = survey[\"comment\"].str.replace(\"\\(.+?\\)\", \"\")\n",
    "survey.head()"
   ]
  },
  {
   "cell_type": "markdown",
   "id": "016ae79a",
   "metadata": {},
   "source": [
    "### 테크닉093: 문자 수를 세어 히스토그램으로 표시해 보자"
   ]
  },
  {
   "cell_type": "markdown",
   "id": "8574d730",
   "metadata": {},
   "source": [
    "##### comment의 문자 수를 계산한다"
   ]
  },
  {
   "cell_type": "code",
   "execution_count": 7,
   "id": "860a81aa",
   "metadata": {},
   "outputs": [
    {
     "data": {
      "text/html": [
       "<div>\n",
       "<style scoped>\n",
       "    .dataframe tbody tr th:only-of-type {\n",
       "        vertical-align: middle;\n",
       "    }\n",
       "\n",
       "    .dataframe tbody tr th {\n",
       "        vertical-align: top;\n",
       "    }\n",
       "\n",
       "    .dataframe thead th {\n",
       "        text-align: right;\n",
       "    }\n",
       "</style>\n",
       "<table border=\"1\" class=\"dataframe\">\n",
       "  <thead>\n",
       "    <tr style=\"text-align: right;\">\n",
       "      <th></th>\n",
       "      <th>datetime</th>\n",
       "      <th>comment</th>\n",
       "      <th>satisfaction</th>\n",
       "      <th>length</th>\n",
       "    </tr>\n",
       "  </thead>\n",
       "  <tbody>\n",
       "    <tr>\n",
       "      <th>0</th>\n",
       "      <td>2019-03-11</td>\n",
       "      <td>역앞에 젊은이들이 모여있다</td>\n",
       "      <td>1</td>\n",
       "      <td>14</td>\n",
       "    </tr>\n",
       "    <tr>\n",
       "      <th>1</th>\n",
       "      <td>2019-02-25</td>\n",
       "      <td>운동할 수 있는 장소가 있는 것이 좋다</td>\n",
       "      <td>5</td>\n",
       "      <td>21</td>\n",
       "    </tr>\n",
       "    <tr>\n",
       "      <th>2</th>\n",
       "      <td>2019-02-18</td>\n",
       "      <td>육아 지원이 좋다</td>\n",
       "      <td>5</td>\n",
       "      <td>9</td>\n",
       "    </tr>\n",
       "    <tr>\n",
       "      <th>3</th>\n",
       "      <td>2019-04-09</td>\n",
       "      <td>어린이집에 바로 입원할 수 있다</td>\n",
       "      <td>4</td>\n",
       "      <td>17</td>\n",
       "    </tr>\n",
       "    <tr>\n",
       "      <th>4</th>\n",
       "      <td>2019-01-06</td>\n",
       "      <td>역앞 상가가 쓸쓸하다</td>\n",
       "      <td>2</td>\n",
       "      <td>11</td>\n",
       "    </tr>\n",
       "  </tbody>\n",
       "</table>\n",
       "</div>"
      ],
      "text/plain": [
       "     datetime                comment  satisfaction  length\n",
       "0  2019-03-11         역앞에 젊은이들이 모여있다             1      14\n",
       "1  2019-02-25  운동할 수 있는 장소가 있는 것이 좋다             5      21\n",
       "2  2019-02-18              육아 지원이 좋다             5       9\n",
       "3  2019-04-09      어린이집에 바로 입원할 수 있다             4      17\n",
       "4  2019-01-06            역앞 상가가 쓸쓸하다             2      11"
      ]
     },
     "execution_count": 7,
     "metadata": {},
     "output_type": "execute_result"
    }
   ],
   "source": [
    "survey[\"length\"] = survey[\"comment\"].str.len()\n",
    "survey.head()"
   ]
  },
  {
   "cell_type": "markdown",
   "id": "66f5b6fa",
   "metadata": {},
   "source": [
    "##### 계산된 length 컬럼을 이용한 히스토그램 생성"
   ]
  },
  {
   "cell_type": "code",
   "execution_count": 8,
   "id": "a38eec27",
   "metadata": {},
   "outputs": [
    {
     "data": {
      "text/plain": [
       "(array([20., 19., 20., 10.,  7.,  3.,  3.,  1.,  0.,  1.]),\n",
       " array([ 6. , 11.6, 17.2, 22.8, 28.4, 34. , 39.6, 45.2, 50.8, 56.4, 62. ]),\n",
       " <BarContainer object of 10 artists>)"
      ]
     },
     "execution_count": 8,
     "metadata": {},
     "output_type": "execute_result"
    },
    {
     "data": {
      "image/png": "[encoded data removed]",
      "text/plain": [
       "<Figure size 640x480 with 1 Axes>"
      ]
     },
     "metadata": {},
     "output_type": "display_data"
    }
   ],
   "source": [
    "import matplotlib.pyplot as plt\n",
    "%matplotlib inline\n",
    "plt.hist(survey[\"length\"])"
   ]
  },
  {
   "cell_type": "markdown",
   "id": "922ef0e0",
   "metadata": {},
   "source": [
    "### 테크닉094: 형태소 분석으로 문장을 분해해 보자"
   ]
  },
  {
   "cell_type": "code",
   "execution_count": 10,
   "id": "35e4033c",
   "metadata": {},
   "outputs": [
    {
     "data": {
      "text/plain": [
       "[('형태소', 'Noun'),\n",
       " ('분석', 'Noun'),\n",
       " ('으로', 'Josa'),\n",
       " ('문장', 'Noun'),\n",
       " ('을', 'Josa'),\n",
       " ('분해', 'Noun'),\n",
       " ('해보자', 'Verb')]"
      ]
     },
     "execution_count": 10,
     "metadata": {},
     "output_type": "execute_result"
    }
   ],
   "source": [
    "from konlpy.tag import Twitter\n",
    "twt = Twitter()\n",
    "text = \"형태소분석으로 문장을 분해해보자\"\n",
    "tagging = twt.pos(text)\n",
    "tagging"
   ]
  },
  {
   "cell_type": "markdown",
   "id": "70870206",
   "metadata": {},
   "source": [
    "##### 단어만 별도로 리스트 형 벼수에 저장"
   ]
  },
  {
   "cell_type": "code",
   "execution_count": 11,
   "id": "8889afa7",
   "metadata": {},
   "outputs": [
    {
     "data": {
      "text/plain": [
       "['형태소', '분석', '으로', '문장', '을', '분해', '해보자']"
      ]
     },
     "execution_count": 11,
     "metadata": {},
     "output_type": "execute_result"
    }
   ],
   "source": [
    "words = twt.pos(text)\n",
    "words_arr = []\n",
    "for i in words:\n",
    "    if i == 'EOS': continue\n",
    "    word_tmp = i[0]\n",
    "    words_arr.append(word_tmp)\n",
    "words_arr"
   ]
  },
  {
   "cell_type": "markdown",
   "id": "f30aa321",
   "metadata": {},
   "source": [
    "### 테크닉095: 형태소 분석으로 문장에서 '동사', '명사'를 추출해 보자"
   ]
  },
  {
   "cell_type": "code",
   "execution_count": 12,
   "id": "4175d72a",
   "metadata": {},
   "outputs": [
    {
     "data": {
      "text/plain": [
       "['형태소', '분석', '문장', '분해', '해보자']"
      ]
     },
     "execution_count": 12,
     "metadata": {},
     "output_type": "execute_result"
    }
   ],
   "source": [
    "text = \"형태소분석으로 문장을 분해해보자\"\n",
    "words_arr = []\n",
    "parts = [\"Noun\", \"Verb\"]\n",
    "words = twt.pos(text)\n",
    "words_arr = []\n",
    "for i in words:\n",
    "    if i == 'EOS' or i == '': continue\n",
    "    word_tmp = i[0]\n",
    "    part = i[1]\n",
    "    if not (part in parts): continue\n",
    "    words_arr.append(word_tmp)\n",
    "words_arr"
   ]
  },
  {
   "cell_type": "markdown",
   "id": "9bc9c3be",
   "metadata": {},
   "source": [
    "### 테크닉096: 형태소 분석으로 자주 나오는 명사를 확인해 보자"
   ]
  },
  {
   "cell_type": "code",
   "execution_count": 13,
   "id": "64f74944",
   "metadata": {},
   "outputs": [
    {
     "name": "stdout",
     "output_type": "stream",
     "text": [
      "['역앞', '젊은이', '운동', '수', '장소', '것', '육아', '지원이', '어린이집', '바로', '입원', '수', '역앞', '상가', '생활', '놀', '장소', '놀', '장소', '상업시설', '좀', '더', '병원', '사이클링', '코스', '축제', '좀', '더', '성대', '초등학교', '공원', '더', '근처', '공원', '살기', '슈퍼', '육아', '데이트', '명소', '상가', '좀', '더', '밤길', '쓰레기', '처리', '영화관', '가로수', '더', '공원', '추가', '관광', '명소', '육아', '최고', '길이', '시내', '접근성', '집세', '합리', '의', '교통', '체증', '게', '해', '상가', '지붕', '비', '큰일', '상가', '더', '카페', '스포츠', '센터', '자주', '이용', '스포츠', '센터', '이용', '요금', '워킹맘', '지원', '더', '버스', '별로', '안', '자전거', '달리기', '달리기', '운동', '수', '장소', '기업', '역앞', '주차장', '아저씨', '말', '적', '경찰', '순찰', '더', '소방', '활동', '수', '재난', '시', '피난', '장소', '것', '요즘', '강', '범람', '피해', '크게', '이', '도시', '범람', '방지', '취하', '설명', '신호등', '사거리', '때문', '사고', '신호', '상가', '활성화', '활동', '좀더', '행정', '뒷받침', '아이', '놀', '장소', '역앞', '자전거', '주차장', '가로수', '낙엽', '청소', '가로수', '재해', '시', '비축', '상황', '보도', '길이', '수', '지역', '자치', '단체', '더', '지원', '자치', '단체', '활동', '안심', '살', '수', '관광지', '최근', '지방', '넘버', '치안', '제대로', '주차장', '수가', '요금', '역', '앞', '공공', '주차장', '보행자', '용', '신호', '노인', '어린이', '생각', '설정', '급행', '시내', '버스', '노선', '봄', '벚꽃', '길이', '최고', '벚꽃', '길', '더', '옆', '동네', '쓰레기', '처리', '시설', '걱정', '공해', '시장', '활기', '앙케이트', '제대로', '확인', '거리', '조성', '반영', '자세', '지난달', '직원', '비리', '의혹', '대해', '좀', '더', '설명', '달라', '시청', '담당자', '마음', '관공서', '출장소', '역전', '관공서', '토요일', '일요일', '재', '피난', '경로', '좀', '더', '표시', '시', '홈페이지', '관공서', '연결', '대응', '더', '시오', '골목', '동물원', '겨울철', '노면', '동결', '사고', '처리', '자연', '경관', '도둑고양이', '피해', '도둑고양이', '대책', '관공서', '상담', '때', '매우', '대해', '고속도로', '길이', '정체', '확장', '시', '마스코트', '걸', '야간', '병원', '불안', '고령자', '지원', '시설', '초등학교', '운동장', '잔디밭', '아주', '홈페이지', '설문지', '투고', '수', '해', '달라', '공원', '놀이기구', '공원', '더', '역앞', '주차장']\n"
     ]
    }
   ],
   "source": [
    "all_words = []\n",
    "parts = [\"Noun\"]\n",
    "for n in range(len(survey)):\n",
    "    text = survey[\"comment\"].iloc[n]\n",
    "    words = twt.pos(text)\n",
    "    words_arr = []\n",
    "    for i in words:\n",
    "        if i == \"EOS\" or i == \"\": continue\n",
    "        word_tmp = i[0]\n",
    "        part = i[1]\n",
    "        if not (part in parts): continue\n",
    "        words_arr.append(word_tmp)\n",
    "    all_words.extend(words_arr)\n",
    "print(all_words)"
   ]
  },
  {
   "cell_type": "markdown",
   "id": "544fd1f5",
   "metadata": {},
   "source": [
    "##### 단어의 빈도수 확인"
   ]
  },
  {
   "cell_type": "code",
   "execution_count": 15,
   "id": "5376103e",
   "metadata": {},
   "outputs": [
    {
     "data": {
      "text/html": [
       "<div>\n",
       "<style scoped>\n",
       "    .dataframe tbody tr th:only-of-type {\n",
       "        vertical-align: middle;\n",
       "    }\n",
       "\n",
       "    .dataframe tbody tr th {\n",
       "        vertical-align: top;\n",
       "    }\n",
       "\n",
       "    .dataframe thead th {\n",
       "        text-align: right;\n",
       "    }\n",
       "</style>\n",
       "<table border=\"1\" class=\"dataframe\">\n",
       "  <thead>\n",
       "    <tr style=\"text-align: right;\">\n",
       "      <th></th>\n",
       "      <th>count</th>\n",
       "    </tr>\n",
       "    <tr>\n",
       "      <th>words</th>\n",
       "      <th></th>\n",
       "    </tr>\n",
       "  </thead>\n",
       "  <tbody>\n",
       "    <tr>\n",
       "      <th>더</th>\n",
       "      <td>14</td>\n",
       "    </tr>\n",
       "    <tr>\n",
       "      <th>수</th>\n",
       "      <td>7</td>\n",
       "    </tr>\n",
       "    <tr>\n",
       "      <th>장소</th>\n",
       "      <td>6</td>\n",
       "    </tr>\n",
       "    <tr>\n",
       "      <th>주차장</th>\n",
       "      <td>5</td>\n",
       "    </tr>\n",
       "    <tr>\n",
       "      <th>좀</th>\n",
       "      <td>5</td>\n",
       "    </tr>\n",
       "  </tbody>\n",
       "</table>\n",
       "</div>"
      ],
      "text/plain": [
       "       count\n",
       "words       \n",
       "더         14\n",
       "수          7\n",
       "장소         6\n",
       "주차장        5\n",
       "좀          5"
      ]
     },
     "execution_count": 15,
     "metadata": {},
     "output_type": "execute_result"
    }
   ],
   "source": [
    "all_words_df = pd.DataFrame({\"words\":all_words, \"count\":len(all_words)*[1]})\n",
    "all_words_df = all_words_df.groupby(\"words\").sum()\n",
    "all_words_df.sort_values(\"count\", ascending=False).head()"
   ]
  },
  {
   "cell_type": "markdown",
   "id": "ff473d99",
   "metadata": {},
   "source": [
    "### 테크닉097: 관계없는 단어를 제거해 보자"
   ]
  },
  {
   "cell_type": "code",
   "execution_count": 17,
   "id": "d5cf1023",
   "metadata": {},
   "outputs": [
    {
     "name": "stdout",
     "output_type": "stream",
     "text": [
      "['역앞', '젊은이', '운동', '장소', '것', '육아', '지원이', '어린이집', '바로', '입원', '역앞', '상가', '생활', '놀', '장소', '놀', '장소', '상업시설', '병원', '사이클링', '코스', '축제', '성대', '초등학교', '공원', '근처', '공원', '살기', '슈퍼', '육아', '데이트', '명소', '상가', '밤길', '쓰레기', '처리', '영화관', '가로수', '공원', '추가', '관광', '명소', '육아', '최고', '길이', '시내', '접근성', '집세', '합리', '의', '교통', '체증', '게', '해', '상가', '지붕', '비', '큰일', '상가', '카페', '스포츠', '센터', '자주', '이용', '스포츠', '센터', '이용', '요금', '워킹맘', '지원', '버스', '별로', '안', '자전거', '달리기', '달리기', '운동', '장소', '기업', '역앞', '주차장', '아저씨', '말', '적', '경찰', '순찰', '소방', '활동', '재난', '시', '피난', '장소', '것', '요즘', '강', '범람', '피해', '크게', '이', '도시', '범람', '방지', '취하', '설명', '신호등', '사거리', '때문', '사고', '신호', '상가', '활성화', '활동', '좀더', '행정', '뒷받침', '아이', '놀', '장소', '역앞', '자전거', '주차장', '가로수', '낙엽', '청소', '가로수', '재해', '시', '비축', '상황', '보도', '길이', '지역', '자치', '단체', '지원', '자치', '단체', '활동', '안심', '살', '관광지', '최근', '지방', '넘버', '치안', '제대로', '주차장', '수가', '요금', '역', '앞', '공공', '주차장', '보행자', '용', '신호', '노인', '어린이', '생각', '설정', '급행', '시내', '버스', '노선', '봄', '벚꽃', '길이', '최고', '벚꽃', '길', '옆', '동네', '쓰레기', '처리', '시설', '걱정', '공해', '시장', '활기', '앙케이트', '제대로', '확인', '거리', '조성', '반영', '자세', '지난달', '직원', '비리', '의혹', '대해', '설명', '달라', '시청', '담당자', '마음', '관공서', '출장소', '역전', '관공서', '토요일', '일요일', '재', '피난', '경로', '표시', '시', '홈페이지', '관공서', '연결', '대응', '시오', '골목', '동물원', '겨울철', '노면', '동결', '사고', '처리', '자연', '경관', '도둑고양이', '피해', '도둑고양이', '대책', '관공서', '상담', '때', '매우', '대해', '고속도로', '길이', '정체', '확장', '시', '마스코트', '걸', '야간', '병원', '불안', '고령자', '지원', '시설', '초등학교', '운동장', '잔디밭', '아주', '홈페이지', '설문지', '투고', '해', '달라', '공원', '놀이기구', '공원', '역앞', '주차장']\n"
     ]
    }
   ],
   "source": [
    "stop_words = [\"더\",\"수\",\"좀\"]\n",
    "all_words = []\n",
    "parts = [\"Noun\"]\n",
    "for n in range(len(survey)):\n",
    "    text = survey[\"comment\"].iloc[n]\n",
    "    words = twt.pos(text)\n",
    "    words_arr = []\n",
    "    for i in words:\n",
    "        if i == \"EOS\" or i ==\"\": continue\n",
    "        word_tmp = i[0]\n",
    "        part = i [1]\n",
    "        if not (part in parts): continue\n",
    "        if word_tmp in stop_words:continue\n",
    "        words_arr.append(word_tmp)\n",
    "    all_words.extend(words_arr)\n",
    "print(all_words)"
   ]
  },
  {
   "cell_type": "code",
   "execution_count": 20,
   "id": "c12d3f12",
   "metadata": {},
   "outputs": [
    {
     "data": {
      "text/html": [
       "<div>\n",
       "<style scoped>\n",
       "    .dataframe tbody tr th:only-of-type {\n",
       "        vertical-align: middle;\n",
       "    }\n",
       "\n",
       "    .dataframe tbody tr th {\n",
       "        vertical-align: top;\n",
       "    }\n",
       "\n",
       "    .dataframe thead th {\n",
       "        text-align: right;\n",
       "    }\n",
       "</style>\n",
       "<table border=\"1\" class=\"dataframe\">\n",
       "  <thead>\n",
       "    <tr style=\"text-align: right;\">\n",
       "      <th></th>\n",
       "      <th>count</th>\n",
       "    </tr>\n",
       "    <tr>\n",
       "      <th>words</th>\n",
       "      <th></th>\n",
       "    </tr>\n",
       "  </thead>\n",
       "  <tbody>\n",
       "    <tr>\n",
       "      <th>장소</th>\n",
       "      <td>6</td>\n",
       "    </tr>\n",
       "    <tr>\n",
       "      <th>주차장</th>\n",
       "      <td>5</td>\n",
       "    </tr>\n",
       "    <tr>\n",
       "      <th>상가</th>\n",
       "      <td>5</td>\n",
       "    </tr>\n",
       "    <tr>\n",
       "      <th>역앞</th>\n",
       "      <td>5</td>\n",
       "    </tr>\n",
       "    <tr>\n",
       "      <th>공원</th>\n",
       "      <td>5</td>\n",
       "    </tr>\n",
       "  </tbody>\n",
       "</table>\n",
       "</div>"
      ],
      "text/plain": [
       "       count\n",
       "words       \n",
       "장소         6\n",
       "주차장        5\n",
       "상가         5\n",
       "역앞         5\n",
       "공원         5"
      ]
     },
     "execution_count": 20,
     "metadata": {},
     "output_type": "execute_result"
    }
   ],
   "source": [
    "all_words_df = pd.DataFrame({\"words\":all_words, \"count\":len(all_words)*[1]})\n",
    "all_words_df = all_words_df.groupby(\"words\").sum()\n",
    "all_words_df.sort_values(\"count\",ascending=False).head()"
   ]
  },
  {
   "cell_type": "markdown",
   "id": "81f8cfd7",
   "metadata": {},
   "source": [
    "### 테크닉098: 고객만족도와 자주 나오는 단어의 관계를 살펴보자"
   ]
  },
  {
   "cell_type": "code",
   "execution_count": 21,
   "id": "025be575",
   "metadata": {},
   "outputs": [
    {
     "data": {
      "text/html": [
       "<div>\n",
       "<style scoped>\n",
       "    .dataframe tbody tr th:only-of-type {\n",
       "        vertical-align: middle;\n",
       "    }\n",
       "\n",
       "    .dataframe tbody tr th {\n",
       "        vertical-align: top;\n",
       "    }\n",
       "\n",
       "    .dataframe thead th {\n",
       "        text-align: right;\n",
       "    }\n",
       "</style>\n",
       "<table border=\"1\" class=\"dataframe\">\n",
       "  <thead>\n",
       "    <tr style=\"text-align: right;\">\n",
       "      <th></th>\n",
       "      <th>words</th>\n",
       "      <th>satisfaction</th>\n",
       "      <th>count</th>\n",
       "    </tr>\n",
       "  </thead>\n",
       "  <tbody>\n",
       "    <tr>\n",
       "      <th>0</th>\n",
       "      <td>역앞</td>\n",
       "      <td>1</td>\n",
       "      <td>1</td>\n",
       "    </tr>\n",
       "    <tr>\n",
       "      <th>1</th>\n",
       "      <td>젊은이</td>\n",
       "      <td>1</td>\n",
       "      <td>1</td>\n",
       "    </tr>\n",
       "    <tr>\n",
       "      <th>2</th>\n",
       "      <td>운동</td>\n",
       "      <td>5</td>\n",
       "      <td>1</td>\n",
       "    </tr>\n",
       "    <tr>\n",
       "      <th>3</th>\n",
       "      <td>장소</td>\n",
       "      <td>5</td>\n",
       "      <td>1</td>\n",
       "    </tr>\n",
       "    <tr>\n",
       "      <th>4</th>\n",
       "      <td>것</td>\n",
       "      <td>5</td>\n",
       "      <td>1</td>\n",
       "    </tr>\n",
       "  </tbody>\n",
       "</table>\n",
       "</div>"
      ],
      "text/plain": [
       "  words  satisfaction  count\n",
       "0    역앞             1      1\n",
       "1   젊은이             1      1\n",
       "2    운동             5      1\n",
       "3    장소             5      1\n",
       "4     것             5      1"
      ]
     },
     "execution_count": 21,
     "metadata": {},
     "output_type": "execute_result"
    }
   ],
   "source": [
    "stop_words = [\"더\",\"수\",\"좀\"]\n",
    "parts = [\"Noun\"]\n",
    "all_words = []\n",
    "satisfaction = []\n",
    "for n in range(len(survey)):\n",
    "    text = survey[\"comment\"].iloc[n]\n",
    "    words = twt.pos(text)\n",
    "    words_arr = []\n",
    "    for i in words:\n",
    "        if i == \"EOS\" or i == \"\": continue\n",
    "        word_tmp = i[0]\n",
    "        part = i[1]\n",
    "        if not (part in parts): continue\n",
    "        if word_tmp in stop_words: continue\n",
    "        words_arr.append(word_tmp)\n",
    "        satisfaction.append(survey[\"satisfaction\"].iloc[n])\n",
    "    all_words.extend(words_arr)\n",
    "all_words_df = pd.DataFrame({\"words\":all_words, \"satisfaction\":satisfaction, \"count\":len(all_words)*[1]})\n",
    "all_words_df.head()"
   ]
  },
  {
   "cell_type": "markdown",
   "id": "a1062020",
   "metadata": {},
   "source": [
    "##### words마다 만족도 집계 하기"
   ]
  },
  {
   "cell_type": "code",
   "execution_count": 22,
   "id": "8b6273f4",
   "metadata": {},
   "outputs": [
    {
     "data": {
      "text/html": [
       "<div>\n",
       "<style scoped>\n",
       "    .dataframe tbody tr th:only-of-type {\n",
       "        vertical-align: middle;\n",
       "    }\n",
       "\n",
       "    .dataframe tbody tr th {\n",
       "        vertical-align: top;\n",
       "    }\n",
       "\n",
       "    .dataframe thead th {\n",
       "        text-align: right;\n",
       "    }\n",
       "</style>\n",
       "<table border=\"1\" class=\"dataframe\">\n",
       "  <thead>\n",
       "    <tr style=\"text-align: right;\">\n",
       "      <th></th>\n",
       "      <th>satisfaction</th>\n",
       "      <th>count</th>\n",
       "    </tr>\n",
       "    <tr>\n",
       "      <th>words</th>\n",
       "      <th></th>\n",
       "      <th></th>\n",
       "    </tr>\n",
       "  </thead>\n",
       "  <tbody>\n",
       "    <tr>\n",
       "      <th>가로수</th>\n",
       "      <td>1.666667</td>\n",
       "      <td>3</td>\n",
       "    </tr>\n",
       "    <tr>\n",
       "      <th>강</th>\n",
       "      <td>3.000000</td>\n",
       "      <td>1</td>\n",
       "    </tr>\n",
       "    <tr>\n",
       "      <th>거리</th>\n",
       "      <td>5.000000</td>\n",
       "      <td>1</td>\n",
       "    </tr>\n",
       "    <tr>\n",
       "      <th>걱정</th>\n",
       "      <td>2.000000</td>\n",
       "      <td>1</td>\n",
       "    </tr>\n",
       "    <tr>\n",
       "      <th>걸</th>\n",
       "      <td>2.000000</td>\n",
       "      <td>1</td>\n",
       "    </tr>\n",
       "  </tbody>\n",
       "</table>\n",
       "</div>"
      ],
      "text/plain": [
       "       satisfaction  count\n",
       "words                     \n",
       "가로수        1.666667      3\n",
       "강          3.000000      1\n",
       "거리         5.000000      1\n",
       "걱정         2.000000      1\n",
       "걸          2.000000      1"
      ]
     },
     "execution_count": 22,
     "metadata": {},
     "output_type": "execute_result"
    }
   ],
   "source": [
    "words_satisfaction = all_words_df.groupby(\"words\").mean()[\"satisfaction\"]\n",
    "words_count = all_words_df.groupby(\"words\").sum()[\"count\"]\n",
    "words_df = pd.concat([words_satisfaction, words_count], axis=1)\n",
    "words_df.head()"
   ]
  },
  {
   "cell_type": "code",
   "execution_count": 23,
   "id": "fed73ab0",
   "metadata": {},
   "outputs": [
    {
     "data": {
      "text/html": [
       "<div>\n",
       "<style scoped>\n",
       "    .dataframe tbody tr th:only-of-type {\n",
       "        vertical-align: middle;\n",
       "    }\n",
       "\n",
       "    .dataframe tbody tr th {\n",
       "        vertical-align: top;\n",
       "    }\n",
       "\n",
       "    .dataframe thead th {\n",
       "        text-align: right;\n",
       "    }\n",
       "</style>\n",
       "<table border=\"1\" class=\"dataframe\">\n",
       "  <thead>\n",
       "    <tr style=\"text-align: right;\">\n",
       "      <th></th>\n",
       "      <th>satisfaction</th>\n",
       "      <th>count</th>\n",
       "    </tr>\n",
       "    <tr>\n",
       "      <th>words</th>\n",
       "      <th></th>\n",
       "      <th></th>\n",
       "    </tr>\n",
       "  </thead>\n",
       "  <tbody>\n",
       "    <tr>\n",
       "      <th>육아</th>\n",
       "      <td>4.333333</td>\n",
       "      <td>3</td>\n",
       "    </tr>\n",
       "    <tr>\n",
       "      <th>관공서</th>\n",
       "      <td>3.500000</td>\n",
       "      <td>4</td>\n",
       "    </tr>\n",
       "    <tr>\n",
       "      <th>길이</th>\n",
       "      <td>3.500000</td>\n",
       "      <td>4</td>\n",
       "    </tr>\n",
       "    <tr>\n",
       "      <th>활동</th>\n",
       "      <td>3.333333</td>\n",
       "      <td>3</td>\n",
       "    </tr>\n",
       "    <tr>\n",
       "      <th>장소</th>\n",
       "      <td>3.000000</td>\n",
       "      <td>6</td>\n",
       "    </tr>\n",
       "  </tbody>\n",
       "</table>\n",
       "</div>"
      ],
      "text/plain": [
       "       satisfaction  count\n",
       "words                     \n",
       "육아         4.333333      3\n",
       "관공서        3.500000      4\n",
       "길이         3.500000      4\n",
       "활동         3.333333      3\n",
       "장소         3.000000      6"
      ]
     },
     "execution_count": 23,
     "metadata": {},
     "output_type": "execute_result"
    }
   ],
   "source": [
    "words_df = words_df.loc[words_df[\"count\"]>=3]\n",
    "words_df.sort_values(\"satisfaction\", ascending=False).head()"
   ]
  },
  {
   "cell_type": "code",
   "execution_count": 24,
   "id": "954acd9c",
   "metadata": {},
   "outputs": [
    {
     "data": {
      "text/html": [
       "<div>\n",
       "<style scoped>\n",
       "    .dataframe tbody tr th:only-of-type {\n",
       "        vertical-align: middle;\n",
       "    }\n",
       "\n",
       "    .dataframe tbody tr th {\n",
       "        vertical-align: top;\n",
       "    }\n",
       "\n",
       "    .dataframe thead th {\n",
       "        text-align: right;\n",
       "    }\n",
       "</style>\n",
       "<table border=\"1\" class=\"dataframe\">\n",
       "  <thead>\n",
       "    <tr style=\"text-align: right;\">\n",
       "      <th></th>\n",
       "      <th>satisfaction</th>\n",
       "      <th>count</th>\n",
       "    </tr>\n",
       "    <tr>\n",
       "      <th>words</th>\n",
       "      <th></th>\n",
       "      <th></th>\n",
       "    </tr>\n",
       "  </thead>\n",
       "  <tbody>\n",
       "    <tr>\n",
       "      <th>주차장</th>\n",
       "      <td>1.000000</td>\n",
       "      <td>5</td>\n",
       "    </tr>\n",
       "    <tr>\n",
       "      <th>역앞</th>\n",
       "      <td>1.200000</td>\n",
       "      <td>5</td>\n",
       "    </tr>\n",
       "    <tr>\n",
       "      <th>가로수</th>\n",
       "      <td>1.666667</td>\n",
       "      <td>3</td>\n",
       "    </tr>\n",
       "    <tr>\n",
       "      <th>놀</th>\n",
       "      <td>2.000000</td>\n",
       "      <td>3</td>\n",
       "    </tr>\n",
       "    <tr>\n",
       "      <th>지원</th>\n",
       "      <td>2.000000</td>\n",
       "      <td>3</td>\n",
       "    </tr>\n",
       "  </tbody>\n",
       "</table>\n",
       "</div>"
      ],
      "text/plain": [
       "       satisfaction  count\n",
       "words                     \n",
       "주차장        1.000000      5\n",
       "역앞         1.200000      5\n",
       "가로수        1.666667      3\n",
       "놀          2.000000      3\n",
       "지원         2.000000      3"
      ]
     },
     "execution_count": 24,
     "metadata": {},
     "output_type": "execute_result"
    }
   ],
   "source": [
    "words_df.sort_values(\"satisfaction\").head()"
   ]
  },
  {
   "cell_type": "markdown",
   "id": "bdb41ab1",
   "metadata": {},
   "source": [
    "### 테크닉099: 의견을 특징으로 표현해 보자"
   ]
  },
  {
   "cell_type": "code",
   "execution_count": 25,
   "id": "3cf59d3b",
   "metadata": {},
   "outputs": [
    {
     "data": {
      "text/html": [
       "<div>\n",
       "<style scoped>\n",
       "    .dataframe tbody tr th:only-of-type {\n",
       "        vertical-align: middle;\n",
       "    }\n",
       "\n",
       "    .dataframe tbody tr th {\n",
       "        vertical-align: top;\n",
       "    }\n",
       "\n",
       "    .dataframe thead th {\n",
       "        text-align: right;\n",
       "    }\n",
       "</style>\n",
       "<table border=\"1\" class=\"dataframe\">\n",
       "  <thead>\n",
       "    <tr style=\"text-align: right;\">\n",
       "      <th></th>\n",
       "      <th>역앞</th>\n",
       "      <th>젊은이</th>\n",
       "      <th>운동</th>\n",
       "      <th>수</th>\n",
       "      <th>장소</th>\n",
       "      <th>것</th>\n",
       "      <th>육아</th>\n",
       "      <th>지원이</th>\n",
       "      <th>어린이집</th>\n",
       "      <th>바로</th>\n",
       "      <th>...</th>\n",
       "      <th>걸</th>\n",
       "      <th>야간</th>\n",
       "      <th>불안</th>\n",
       "      <th>고령자</th>\n",
       "      <th>운동장</th>\n",
       "      <th>잔디밭</th>\n",
       "      <th>아주</th>\n",
       "      <th>설문지</th>\n",
       "      <th>투고</th>\n",
       "      <th>놀이기구</th>\n",
       "    </tr>\n",
       "  </thead>\n",
       "  <tbody>\n",
       "    <tr>\n",
       "      <th>0</th>\n",
       "      <td>1.0</td>\n",
       "      <td>1.0</td>\n",
       "      <td>NaN</td>\n",
       "      <td>NaN</td>\n",
       "      <td>NaN</td>\n",
       "      <td>NaN</td>\n",
       "      <td>NaN</td>\n",
       "      <td>NaN</td>\n",
       "      <td>NaN</td>\n",
       "      <td>NaN</td>\n",
       "      <td>...</td>\n",
       "      <td>NaN</td>\n",
       "      <td>NaN</td>\n",
       "      <td>NaN</td>\n",
       "      <td>NaN</td>\n",
       "      <td>NaN</td>\n",
       "      <td>NaN</td>\n",
       "      <td>NaN</td>\n",
       "      <td>NaN</td>\n",
       "      <td>NaN</td>\n",
       "      <td>NaN</td>\n",
       "    </tr>\n",
       "    <tr>\n",
       "      <th>1</th>\n",
       "      <td>NaN</td>\n",
       "      <td>NaN</td>\n",
       "      <td>1.0</td>\n",
       "      <td>1.0</td>\n",
       "      <td>1.0</td>\n",
       "      <td>1.0</td>\n",
       "      <td>NaN</td>\n",
       "      <td>NaN</td>\n",
       "      <td>NaN</td>\n",
       "      <td>NaN</td>\n",
       "      <td>...</td>\n",
       "      <td>NaN</td>\n",
       "      <td>NaN</td>\n",
       "      <td>NaN</td>\n",
       "      <td>NaN</td>\n",
       "      <td>NaN</td>\n",
       "      <td>NaN</td>\n",
       "      <td>NaN</td>\n",
       "      <td>NaN</td>\n",
       "      <td>NaN</td>\n",
       "      <td>NaN</td>\n",
       "    </tr>\n",
       "    <tr>\n",
       "      <th>2</th>\n",
       "      <td>NaN</td>\n",
       "      <td>NaN</td>\n",
       "      <td>NaN</td>\n",
       "      <td>NaN</td>\n",
       "      <td>NaN</td>\n",
       "      <td>NaN</td>\n",
       "      <td>1.0</td>\n",
       "      <td>1.0</td>\n",
       "      <td>NaN</td>\n",
       "      <td>NaN</td>\n",
       "      <td>...</td>\n",
       "      <td>NaN</td>\n",
       "      <td>NaN</td>\n",
       "      <td>NaN</td>\n",
       "      <td>NaN</td>\n",
       "      <td>NaN</td>\n",
       "      <td>NaN</td>\n",
       "      <td>NaN</td>\n",
       "      <td>NaN</td>\n",
       "      <td>NaN</td>\n",
       "      <td>NaN</td>\n",
       "    </tr>\n",
       "    <tr>\n",
       "      <th>3</th>\n",
       "      <td>NaN</td>\n",
       "      <td>NaN</td>\n",
       "      <td>NaN</td>\n",
       "      <td>1.0</td>\n",
       "      <td>NaN</td>\n",
       "      <td>NaN</td>\n",
       "      <td>NaN</td>\n",
       "      <td>NaN</td>\n",
       "      <td>1.0</td>\n",
       "      <td>1.0</td>\n",
       "      <td>...</td>\n",
       "      <td>NaN</td>\n",
       "      <td>NaN</td>\n",
       "      <td>NaN</td>\n",
       "      <td>NaN</td>\n",
       "      <td>NaN</td>\n",
       "      <td>NaN</td>\n",
       "      <td>NaN</td>\n",
       "      <td>NaN</td>\n",
       "      <td>NaN</td>\n",
       "      <td>NaN</td>\n",
       "    </tr>\n",
       "    <tr>\n",
       "      <th>4</th>\n",
       "      <td>1.0</td>\n",
       "      <td>NaN</td>\n",
       "      <td>NaN</td>\n",
       "      <td>NaN</td>\n",
       "      <td>NaN</td>\n",
       "      <td>NaN</td>\n",
       "      <td>NaN</td>\n",
       "      <td>NaN</td>\n",
       "      <td>NaN</td>\n",
       "      <td>NaN</td>\n",
       "      <td>...</td>\n",
       "      <td>NaN</td>\n",
       "      <td>NaN</td>\n",
       "      <td>NaN</td>\n",
       "      <td>NaN</td>\n",
       "      <td>NaN</td>\n",
       "      <td>NaN</td>\n",
       "      <td>NaN</td>\n",
       "      <td>NaN</td>\n",
       "      <td>NaN</td>\n",
       "      <td>NaN</td>\n",
       "    </tr>\n",
       "  </tbody>\n",
       "</table>\n",
       "<p>5 rows × 187 columns</p>\n",
       "</div>"
      ],
      "text/plain": [
       "    역앞  젊은이   운동    수   장소    것   육아  지원이  어린이집   바로  ...   걸  야간  불안  고령자  \\\n",
       "0  1.0  1.0  NaN  NaN  NaN  NaN  NaN  NaN   NaN  NaN  ... NaN NaN NaN  NaN   \n",
       "1  NaN  NaN  1.0  1.0  1.0  1.0  NaN  NaN   NaN  NaN  ... NaN NaN NaN  NaN   \n",
       "2  NaN  NaN  NaN  NaN  NaN  NaN  1.0  1.0   NaN  NaN  ... NaN NaN NaN  NaN   \n",
       "3  NaN  NaN  NaN  1.0  NaN  NaN  NaN  NaN   1.0  1.0  ... NaN NaN NaN  NaN   \n",
       "4  1.0  NaN  NaN  NaN  NaN  NaN  NaN  NaN   NaN  NaN  ... NaN NaN NaN  NaN   \n",
       "\n",
       "   운동장  잔디밭  아주  설문지  투고  놀이기구  \n",
       "0  NaN  NaN NaN  NaN NaN   NaN  \n",
       "1  NaN  NaN NaN  NaN NaN   NaN  \n",
       "2  NaN  NaN NaN  NaN NaN   NaN  \n",
       "3  NaN  NaN NaN  NaN NaN   NaN  \n",
       "4  NaN  NaN NaN  NaN NaN   NaN  \n",
       "\n",
       "[5 rows x 187 columns]"
      ]
     },
     "execution_count": 25,
     "metadata": {},
     "output_type": "execute_result"
    }
   ],
   "source": [
    "parts = [\"Noun\"]\n",
    "all_words_df = pd.DataFrame()\n",
    "satisfaction = []\n",
    "for n in range(len(survey)):\n",
    "    text = survey[\"comment\"].iloc[n]\n",
    "    words = twt.pos(text)\n",
    "    words_df = pd.DataFrame()\n",
    "    for i in words:\n",
    "        if i == \"EOS\" or i == \"\": continue\n",
    "        word_tmp = i[0]\n",
    "        part = i[1]\n",
    "        if not (part in parts): continue\n",
    "        words_df[word_tmp] = [1]\n",
    "    all_words_df = pd.concat([all_words_df, words_df], ignore_index=True)\n",
    "all_words_df.head()"
   ]
  },
  {
   "cell_type": "markdown",
   "id": "c68cffe2",
   "metadata": {},
   "source": [
    "##### 결측치에 0을 대입하기"
   ]
  },
  {
   "cell_type": "code",
   "execution_count": 26,
   "id": "20866f6e",
   "metadata": {},
   "outputs": [
    {
     "data": {
      "text/html": [
       "<div>\n",
       "<style scoped>\n",
       "    .dataframe tbody tr th:only-of-type {\n",
       "        vertical-align: middle;\n",
       "    }\n",
       "\n",
       "    .dataframe tbody tr th {\n",
       "        vertical-align: top;\n",
       "    }\n",
       "\n",
       "    .dataframe thead th {\n",
       "        text-align: right;\n",
       "    }\n",
       "</style>\n",
       "<table border=\"1\" class=\"dataframe\">\n",
       "  <thead>\n",
       "    <tr style=\"text-align: right;\">\n",
       "      <th></th>\n",
       "      <th>역앞</th>\n",
       "      <th>젊은이</th>\n",
       "      <th>운동</th>\n",
       "      <th>수</th>\n",
       "      <th>장소</th>\n",
       "      <th>것</th>\n",
       "      <th>육아</th>\n",
       "      <th>지원이</th>\n",
       "      <th>어린이집</th>\n",
       "      <th>바로</th>\n",
       "      <th>...</th>\n",
       "      <th>걸</th>\n",
       "      <th>야간</th>\n",
       "      <th>불안</th>\n",
       "      <th>고령자</th>\n",
       "      <th>운동장</th>\n",
       "      <th>잔디밭</th>\n",
       "      <th>아주</th>\n",
       "      <th>설문지</th>\n",
       "      <th>투고</th>\n",
       "      <th>놀이기구</th>\n",
       "    </tr>\n",
       "  </thead>\n",
       "  <tbody>\n",
       "    <tr>\n",
       "      <th>0</th>\n",
       "      <td>1.0</td>\n",
       "      <td>1.0</td>\n",
       "      <td>0.0</td>\n",
       "      <td>0.0</td>\n",
       "      <td>0.0</td>\n",
       "      <td>0.0</td>\n",
       "      <td>0.0</td>\n",
       "      <td>0.0</td>\n",
       "      <td>0.0</td>\n",
       "      <td>0.0</td>\n",
       "      <td>...</td>\n",
       "      <td>0.0</td>\n",
       "      <td>0.0</td>\n",
       "      <td>0.0</td>\n",
       "      <td>0.0</td>\n",
       "      <td>0.0</td>\n",
       "      <td>0.0</td>\n",
       "      <td>0.0</td>\n",
       "      <td>0.0</td>\n",
       "      <td>0.0</td>\n",
       "      <td>0.0</td>\n",
       "    </tr>\n",
       "    <tr>\n",
       "      <th>1</th>\n",
       "      <td>0.0</td>\n",
       "      <td>0.0</td>\n",
       "      <td>1.0</td>\n",
       "      <td>1.0</td>\n",
       "      <td>1.0</td>\n",
       "      <td>1.0</td>\n",
       "      <td>0.0</td>\n",
       "      <td>0.0</td>\n",
       "      <td>0.0</td>\n",
       "      <td>0.0</td>\n",
       "      <td>...</td>\n",
       "      <td>0.0</td>\n",
       "      <td>0.0</td>\n",
       "      <td>0.0</td>\n",
       "      <td>0.0</td>\n",
       "      <td>0.0</td>\n",
       "      <td>0.0</td>\n",
       "      <td>0.0</td>\n",
       "      <td>0.0</td>\n",
       "      <td>0.0</td>\n",
       "      <td>0.0</td>\n",
       "    </tr>\n",
       "    <tr>\n",
       "      <th>2</th>\n",
       "      <td>0.0</td>\n",
       "      <td>0.0</td>\n",
       "      <td>0.0</td>\n",
       "      <td>0.0</td>\n",
       "      <td>0.0</td>\n",
       "      <td>0.0</td>\n",
       "      <td>1.0</td>\n",
       "      <td>1.0</td>\n",
       "      <td>0.0</td>\n",
       "      <td>0.0</td>\n",
       "      <td>...</td>\n",
       "      <td>0.0</td>\n",
       "      <td>0.0</td>\n",
       "      <td>0.0</td>\n",
       "      <td>0.0</td>\n",
       "      <td>0.0</td>\n",
       "      <td>0.0</td>\n",
       "      <td>0.0</td>\n",
       "      <td>0.0</td>\n",
       "      <td>0.0</td>\n",
       "      <td>0.0</td>\n",
       "    </tr>\n",
       "    <tr>\n",
       "      <th>3</th>\n",
       "      <td>0.0</td>\n",
       "      <td>0.0</td>\n",
       "      <td>0.0</td>\n",
       "      <td>1.0</td>\n",
       "      <td>0.0</td>\n",
       "      <td>0.0</td>\n",
       "      <td>0.0</td>\n",
       "      <td>0.0</td>\n",
       "      <td>1.0</td>\n",
       "      <td>1.0</td>\n",
       "      <td>...</td>\n",
       "      <td>0.0</td>\n",
       "      <td>0.0</td>\n",
       "      <td>0.0</td>\n",
       "      <td>0.0</td>\n",
       "      <td>0.0</td>\n",
       "      <td>0.0</td>\n",
       "      <td>0.0</td>\n",
       "      <td>0.0</td>\n",
       "      <td>0.0</td>\n",
       "      <td>0.0</td>\n",
       "    </tr>\n",
       "    <tr>\n",
       "      <th>4</th>\n",
       "      <td>1.0</td>\n",
       "      <td>0.0</td>\n",
       "      <td>0.0</td>\n",
       "      <td>0.0</td>\n",
       "      <td>0.0</td>\n",
       "      <td>0.0</td>\n",
       "      <td>0.0</td>\n",
       "      <td>0.0</td>\n",
       "      <td>0.0</td>\n",
       "      <td>0.0</td>\n",
       "      <td>...</td>\n",
       "      <td>0.0</td>\n",
       "      <td>0.0</td>\n",
       "      <td>0.0</td>\n",
       "      <td>0.0</td>\n",
       "      <td>0.0</td>\n",
       "      <td>0.0</td>\n",
       "      <td>0.0</td>\n",
       "      <td>0.0</td>\n",
       "      <td>0.0</td>\n",
       "      <td>0.0</td>\n",
       "    </tr>\n",
       "  </tbody>\n",
       "</table>\n",
       "<p>5 rows × 187 columns</p>\n",
       "</div>"
      ],
      "text/plain": [
       "    역앞  젊은이   운동    수   장소    것   육아  지원이  어린이집   바로  ...    걸   야간   불안  고령자  \\\n",
       "0  1.0  1.0  0.0  0.0  0.0  0.0  0.0  0.0   0.0  0.0  ...  0.0  0.0  0.0  0.0   \n",
       "1  0.0  0.0  1.0  1.0  1.0  1.0  0.0  0.0   0.0  0.0  ...  0.0  0.0  0.0  0.0   \n",
       "2  0.0  0.0  0.0  0.0  0.0  0.0  1.0  1.0   0.0  0.0  ...  0.0  0.0  0.0  0.0   \n",
       "3  0.0  0.0  0.0  1.0  0.0  0.0  0.0  0.0   1.0  1.0  ...  0.0  0.0  0.0  0.0   \n",
       "4  1.0  0.0  0.0  0.0  0.0  0.0  0.0  0.0   0.0  0.0  ...  0.0  0.0  0.0  0.0   \n",
       "\n",
       "   운동장  잔디밭   아주  설문지   투고  놀이기구  \n",
       "0  0.0  0.0  0.0  0.0  0.0   0.0  \n",
       "1  0.0  0.0  0.0  0.0  0.0   0.0  \n",
       "2  0.0  0.0  0.0  0.0  0.0   0.0  \n",
       "3  0.0  0.0  0.0  0.0  0.0   0.0  \n",
       "4  0.0  0.0  0.0  0.0  0.0   0.0  \n",
       "\n",
       "[5 rows x 187 columns]"
      ]
     },
     "execution_count": 26,
     "metadata": {},
     "output_type": "execute_result"
    }
   ],
   "source": [
    "all_words_df = all_words_df.fillna(0)\n",
    "all_words_df.head()"
   ]
  },
  {
   "cell_type": "markdown",
   "id": "dea35d51",
   "metadata": {},
   "source": [
    "### 테크닉100: 비슷한 설문지를 찾아보자"
   ]
  },
  {
   "cell_type": "code",
   "execution_count": 27,
   "id": "82c4b3a6",
   "metadata": {},
   "outputs": [
    {
     "name": "stdout",
     "output_type": "stream",
     "text": [
      "육아 지원이 좋다\n",
      "역앞      0.0\n",
      "젊은이     0.0\n",
      "운동      0.0\n",
      "수       0.0\n",
      "장소      0.0\n",
      "       ... \n",
      "잔디밭     0.0\n",
      "아주      0.0\n",
      "설문지     0.0\n",
      "투고      0.0\n",
      "놀이기구    0.0\n",
      "Name: 2, Length: 187, dtype: float64\n"
     ]
    }
   ],
   "source": [
    "print(survey[\"comment\"].iloc[2])\n",
    "target_text = all_words_df.iloc[2]\n",
    "print(target_text)"
   ]
  },
  {
   "cell_type": "markdown",
   "id": "df716de4",
   "metadata": {},
   "source": [
    "##### 유사도 검색 진행"
   ]
  },
  {
   "cell_type": "code",
   "execution_count": 28,
   "id": "9c678144",
   "metadata": {},
   "outputs": [
    {
     "data": {
      "text/html": [
       "<div>\n",
       "<style scoped>\n",
       "    .dataframe tbody tr th:only-of-type {\n",
       "        vertical-align: middle;\n",
       "    }\n",
       "\n",
       "    .dataframe tbody tr th {\n",
       "        vertical-align: top;\n",
       "    }\n",
       "\n",
       "    .dataframe thead th {\n",
       "        text-align: right;\n",
       "    }\n",
       "</style>\n",
       "<table border=\"1\" class=\"dataframe\">\n",
       "  <thead>\n",
       "    <tr style=\"text-align: right;\">\n",
       "      <th></th>\n",
       "      <th>역앞</th>\n",
       "      <th>젊은이</th>\n",
       "      <th>운동</th>\n",
       "      <th>수</th>\n",
       "      <th>장소</th>\n",
       "      <th>것</th>\n",
       "      <th>육아</th>\n",
       "      <th>지원이</th>\n",
       "      <th>어린이집</th>\n",
       "      <th>바로</th>\n",
       "      <th>...</th>\n",
       "      <th>야간</th>\n",
       "      <th>불안</th>\n",
       "      <th>고령자</th>\n",
       "      <th>운동장</th>\n",
       "      <th>잔디밭</th>\n",
       "      <th>아주</th>\n",
       "      <th>설문지</th>\n",
       "      <th>투고</th>\n",
       "      <th>놀이기구</th>\n",
       "      <th>cos_sim</th>\n",
       "    </tr>\n",
       "  </thead>\n",
       "  <tbody>\n",
       "    <tr>\n",
       "      <th>2</th>\n",
       "      <td>0.0</td>\n",
       "      <td>0.0</td>\n",
       "      <td>0.0</td>\n",
       "      <td>0.0</td>\n",
       "      <td>0.0</td>\n",
       "      <td>0.0</td>\n",
       "      <td>1.0</td>\n",
       "      <td>1.0</td>\n",
       "      <td>0.0</td>\n",
       "      <td>0.0</td>\n",
       "      <td>...</td>\n",
       "      <td>0.0</td>\n",
       "      <td>0.0</td>\n",
       "      <td>0.0</td>\n",
       "      <td>0.0</td>\n",
       "      <td>0.0</td>\n",
       "      <td>0.0</td>\n",
       "      <td>0.0</td>\n",
       "      <td>0.0</td>\n",
       "      <td>0.0</td>\n",
       "      <td>1.000000</td>\n",
       "    </tr>\n",
       "    <tr>\n",
       "      <th>15</th>\n",
       "      <td>0.0</td>\n",
       "      <td>0.0</td>\n",
       "      <td>0.0</td>\n",
       "      <td>0.0</td>\n",
       "      <td>0.0</td>\n",
       "      <td>0.0</td>\n",
       "      <td>1.0</td>\n",
       "      <td>0.0</td>\n",
       "      <td>0.0</td>\n",
       "      <td>0.0</td>\n",
       "      <td>...</td>\n",
       "      <td>0.0</td>\n",
       "      <td>0.0</td>\n",
       "      <td>0.0</td>\n",
       "      <td>0.0</td>\n",
       "      <td>0.0</td>\n",
       "      <td>0.0</td>\n",
       "      <td>0.0</td>\n",
       "      <td>0.0</td>\n",
       "      <td>0.0</td>\n",
       "      <td>0.707107</td>\n",
       "    </tr>\n",
       "    <tr>\n",
       "      <th>24</th>\n",
       "      <td>0.0</td>\n",
       "      <td>0.0</td>\n",
       "      <td>0.0</td>\n",
       "      <td>0.0</td>\n",
       "      <td>0.0</td>\n",
       "      <td>0.0</td>\n",
       "      <td>1.0</td>\n",
       "      <td>0.0</td>\n",
       "      <td>0.0</td>\n",
       "      <td>0.0</td>\n",
       "      <td>...</td>\n",
       "      <td>0.0</td>\n",
       "      <td>0.0</td>\n",
       "      <td>0.0</td>\n",
       "      <td>0.0</td>\n",
       "      <td>0.0</td>\n",
       "      <td>0.0</td>\n",
       "      <td>0.0</td>\n",
       "      <td>0.0</td>\n",
       "      <td>0.0</td>\n",
       "      <td>0.500000</td>\n",
       "    </tr>\n",
       "    <tr>\n",
       "      <th>55</th>\n",
       "      <td>0.0</td>\n",
       "      <td>0.0</td>\n",
       "      <td>0.0</td>\n",
       "      <td>0.0</td>\n",
       "      <td>0.0</td>\n",
       "      <td>0.0</td>\n",
       "      <td>0.0</td>\n",
       "      <td>0.0</td>\n",
       "      <td>0.0</td>\n",
       "      <td>0.0</td>\n",
       "      <td>...</td>\n",
       "      <td>0.0</td>\n",
       "      <td>0.0</td>\n",
       "      <td>0.0</td>\n",
       "      <td>0.0</td>\n",
       "      <td>0.0</td>\n",
       "      <td>0.0</td>\n",
       "      <td>0.0</td>\n",
       "      <td>0.0</td>\n",
       "      <td>0.0</td>\n",
       "      <td>0.000000</td>\n",
       "    </tr>\n",
       "    <tr>\n",
       "      <th>62</th>\n",
       "      <td>0.0</td>\n",
       "      <td>0.0</td>\n",
       "      <td>0.0</td>\n",
       "      <td>0.0</td>\n",
       "      <td>0.0</td>\n",
       "      <td>0.0</td>\n",
       "      <td>0.0</td>\n",
       "      <td>0.0</td>\n",
       "      <td>0.0</td>\n",
       "      <td>0.0</td>\n",
       "      <td>...</td>\n",
       "      <td>0.0</td>\n",
       "      <td>0.0</td>\n",
       "      <td>0.0</td>\n",
       "      <td>0.0</td>\n",
       "      <td>0.0</td>\n",
       "      <td>0.0</td>\n",
       "      <td>0.0</td>\n",
       "      <td>0.0</td>\n",
       "      <td>0.0</td>\n",
       "      <td>0.000000</td>\n",
       "    </tr>\n",
       "  </tbody>\n",
       "</table>\n",
       "<p>5 rows × 188 columns</p>\n",
       "</div>"
      ],
      "text/plain": [
       "     역앞  젊은이   운동    수   장소    것   육아  지원이  어린이집   바로  ...   야간   불안  고령자  \\\n",
       "2   0.0  0.0  0.0  0.0  0.0  0.0  1.0  1.0   0.0  0.0  ...  0.0  0.0  0.0   \n",
       "15  0.0  0.0  0.0  0.0  0.0  0.0  1.0  0.0   0.0  0.0  ...  0.0  0.0  0.0   \n",
       "24  0.0  0.0  0.0  0.0  0.0  0.0  1.0  0.0   0.0  0.0  ...  0.0  0.0  0.0   \n",
       "55  0.0  0.0  0.0  0.0  0.0  0.0  0.0  0.0   0.0  0.0  ...  0.0  0.0  0.0   \n",
       "62  0.0  0.0  0.0  0.0  0.0  0.0  0.0  0.0   0.0  0.0  ...  0.0  0.0  0.0   \n",
       "\n",
       "    운동장  잔디밭   아주  설문지   투고  놀이기구   cos_sim  \n",
       "2   0.0  0.0  0.0  0.0  0.0   0.0  1.000000  \n",
       "15  0.0  0.0  0.0  0.0  0.0   0.0  0.707107  \n",
       "24  0.0  0.0  0.0  0.0  0.0   0.0  0.500000  \n",
       "55  0.0  0.0  0.0  0.0  0.0   0.0  0.000000  \n",
       "62  0.0  0.0  0.0  0.0  0.0   0.0  0.000000  \n",
       "\n",
       "[5 rows x 188 columns]"
      ]
     },
     "execution_count": 28,
     "metadata": {},
     "output_type": "execute_result"
    }
   ],
   "source": [
    "import numpy as np\n",
    "cos_sim = []\n",
    "for i in range(len(all_words_df)):\n",
    "    cos_text = all_words_df.iloc[i]\n",
    "    cos = np.dot(target_text, cos_text) / (np.linalg.norm(target_text) * np.linalg.norm(cos_text))\n",
    "    cos_sim.append(cos)\n",
    "all_words_df[\"cos_sim\"] = cos_sim\n",
    "all_words_df.sort_values(\"cos_sim\", ascending=False).head()"
   ]
  },
  {
   "cell_type": "markdown",
   "id": "8d33fa1d",
   "metadata": {},
   "source": [
    "##### 상위 의견 표시"
   ]
  },
  {
   "cell_type": "code",
   "execution_count": 29,
   "id": "529cdf62",
   "metadata": {},
   "outputs": [
    {
     "name": "stdout",
     "output_type": "stream",
     "text": [
      "육아 지원이 좋다\n",
      "육아가 쉽다\n",
      "육아하기에는 최고\n"
     ]
    }
   ],
   "source": [
    "print(survey[\"comment\"].iloc[2])\n",
    "print(survey[\"comment\"].iloc[15])\n",
    "print(survey[\"comment\"].iloc[24])"
   ]
  }
 ],
 "metadata": {
  "kernelspec": {
   "display_name": "Python 3 (ipykernel)",
   "language": "python",
   "name": "python3"
  },
  "language_info": {
   "codemirror_mode": {
    "name": "ipython",
    "version": 3
   },
   "file_extension": ".py",
   "mimetype": "text/x-python",
   "name": "python",
   "nbconvert_exporter": "python",
   "pygments_lexer": "ipython3",
   "version": "3.10.8"
  }
 },
 "nbformat": 4,
 "nbformat_minor": 5
}
